{
  "nbformat": 4,
  "nbformat_minor": 0,
  "metadata": {
    "colab": {
      "provenance": [],
      "authorship_tag": "ABX9TyMtiyVo4JQwPWyO29CGuLoV",
      "include_colab_link": true
    },
    "kernelspec": {
      "name": "python3",
      "display_name": "Python 3"
    },
    "accelerator": "GPU"
  },
  "cells": [
    {
      "cell_type": "markdown",
      "metadata": {
        "id": "view-in-github",
        "colab_type": "text"
      },
      "source": [
        "<a href=\"https://colab.research.google.com/github/sebastianTech/Text-classification/blob/master/Text_Classification_with_News_Article_.ipynb\" target=\"_parent\"><img src=\"https://colab.research.google.com/assets/colab-badge.svg\" alt=\"Open In Colab\"/></a>"
      ]
    },
    {
      "cell_type": "code",
      "metadata": {
        "id": "RB1DSx-vxirm",
        "outputId": "079dc0bc-aea5-46bf-8eb8-342a65333f79",
        "colab": {
          "base_uri": "https://localhost:8080/"
        }
      },
      "source": [
        "! pip install altair vega_datasets"
      ],
      "execution_count": null,
      "outputs": [
        {
          "output_type": "stream",
          "text": [
            "Requirement already satisfied: altair in /usr/local/lib/python3.6/dist-packages (4.1.0)\n",
            "Requirement already satisfied: vega_datasets in /usr/local/lib/python3.6/dist-packages (0.8.0)\n",
            "Requirement already satisfied: entrypoints in /usr/local/lib/python3.6/dist-packages (from altair) (0.3)\n",
            "Requirement already satisfied: pandas>=0.18 in /usr/local/lib/python3.6/dist-packages (from altair) (1.1.2)\n",
            "Requirement already satisfied: toolz in /usr/local/lib/python3.6/dist-packages (from altair) (0.11.1)\n",
            "Requirement already satisfied: jsonschema in /usr/local/lib/python3.6/dist-packages (from altair) (2.6.0)\n",
            "Requirement already satisfied: jinja2 in /usr/local/lib/python3.6/dist-packages (from altair) (2.11.2)\n",
            "Requirement already satisfied: numpy in /usr/local/lib/python3.6/dist-packages (from altair) (1.18.5)\n",
            "Requirement already satisfied: pytz>=2017.2 in /usr/local/lib/python3.6/dist-packages (from pandas>=0.18->altair) (2018.9)\n",
            "Requirement already satisfied: python-dateutil>=2.7.3 in /usr/local/lib/python3.6/dist-packages (from pandas>=0.18->altair) (2.8.1)\n",
            "Requirement already satisfied: MarkupSafe>=0.23 in /usr/local/lib/python3.6/dist-packages (from jinja2->altair) (1.1.1)\n",
            "Requirement already satisfied: six>=1.5 in /usr/local/lib/python3.6/dist-packages (from python-dateutil>=2.7.3->pandas>=0.18->altair) (1.15.0)\n"
          ],
          "name": "stdout"
        }
      ]
    },
    {
      "cell_type": "code",
      "metadata": {
        "id": "PeMEVjGrxcM7"
      },
      "source": [
        "import pandas as pd\n",
        "import matplotlib.pyplot as plt\n",
        "import pickle\n",
        "import seaborn as sns\n",
        "sns.set_style(\"whitegrid\")\n",
        "import altair as alt\n",
        "import re\n",
        "import nltk\n",
        "from nltk.corpus import stopwords\n",
        "from nltk.stem import WordNetLemmatizer\n",
        "from sklearn.feature_extraction.text import TfidfVectorizer\n",
        "from sklearn.model_selection import train_test_split\n",
        "from sklearn.feature_selection import chi2\n",
        "import numpy as np\n",
        "from sklearn.naive_bayes import MultinomialNB\n",
        "from pprint import pprint\n",
        "from sklearn.model_selection import RandomizedSearchCV\n",
        "from sklearn.model_selection import GridSearchCV\n",
        "from sklearn.metrics import classification_report, confusion_matrix, accuracy_score\n",
        "from sklearn.model_selection import ShuffleSplit\n",
        "import matplotlib.pyplot as plt\n",
        "import seaborn as sns\n",
        "import pandas as pd\n",
        "from sklearn.naive_bayes import GaussianNB\n",
        "\n",
        "\n",
        "# Code for hiding seaborn warnings\n",
        "import warnings\n",
        "warnings.filterwarnings(\"ignore\")"
      ],
      "execution_count": null,
      "outputs": []
    },
    {
      "cell_type": "code",
      "metadata": {
        "id": "cKwW-UhSSqEz",
        "outputId": "7edcd94f-ce5d-4e8b-e6e0-c24beaddd4cc",
        "colab": {
          "base_uri": "https://localhost:8080/"
        }
      },
      "source": [
        "from google.colab import drive\n",
        "drive.mount('/content/drive')"
      ],
      "execution_count": null,
      "outputs": [
        {
          "output_type": "stream",
          "text": [
            "Drive already mounted at /content/drive; to attempt to forcibly remount, call drive.mount(\"/content/drive\", force_remount=True).\n"
          ],
          "name": "stdout"
        }
      ]
    },
    {
      "cell_type": "code",
      "metadata": {
        "id": "Ov1JeJiJSx94"
      },
      "source": [
        "import pandas as pd\n",
        "giantstride = pd.read_csv(\"/content/drive/My Drive/Task/final_dataset_basicmlmodel.csv\", header=0,encoding= 'unicode_escape')"
      ],
      "execution_count": null,
      "outputs": []
    },
    {
      "cell_type": "code",
      "metadata": {
        "id": "DlGmJtIqUO1R",
        "outputId": "605bea99-e0ea-45d7-86ad-58d47b1dcf49",
        "colab": {
          "base_uri": "https://localhost:8080/",
          "height": 195
        }
      },
      "source": [
        "giantstride.head()\n"
      ],
      "execution_count": null,
      "outputs": [
        {
          "output_type": "execute_result",
          "data": {
            "text/html": [
              "<div>\n",
              "<style scoped>\n",
              "    .dataframe tbody tr th:only-of-type {\n",
              "        vertical-align: middle;\n",
              "    }\n",
              "\n",
              "    .dataframe tbody tr th {\n",
              "        vertical-align: top;\n",
              "    }\n",
              "\n",
              "    .dataframe thead th {\n",
              "        text-align: right;\n",
              "    }\n",
              "</style>\n",
              "<table border=\"1\" class=\"dataframe\">\n",
              "  <thead>\n",
              "    <tr style=\"text-align: right;\">\n",
              "      <th></th>\n",
              "      <th>TITLE</th>\n",
              "      <th>Human</th>\n",
              "      <th>Label</th>\n",
              "    </tr>\n",
              "  </thead>\n",
              "  <tbody>\n",
              "    <tr>\n",
              "      <th>0</th>\n",
              "      <td>Corona: Virologists Are Divided Over Need for ...</td>\n",
              "      <td>Risk</td>\n",
              "      <td>8</td>\n",
              "    </tr>\n",
              "    <tr>\n",
              "      <th>1</th>\n",
              "      <td>Snapchat?s new lenses use AR to encourage soci...</td>\n",
              "      <td>Covid</td>\n",
              "      <td>0</td>\n",
              "    </tr>\n",
              "    <tr>\n",
              "      <th>2</th>\n",
              "      <td>Corona Challenge: Germany Reaching the Upper L...</td>\n",
              "      <td>Risk</td>\n",
              "      <td>8</td>\n",
              "    </tr>\n",
              "    <tr>\n",
              "      <th>3</th>\n",
              "      <td>Should You Worry About Eni S.p.A.'s (BIT:ENI) ...</td>\n",
              "      <td>Organizational Change</td>\n",
              "      <td>3</td>\n",
              "    </tr>\n",
              "    <tr>\n",
              "      <th>4</th>\n",
              "      <td>The crown vs. corona</td>\n",
              "      <td>General</td>\n",
              "      <td>1</td>\n",
              "    </tr>\n",
              "  </tbody>\n",
              "</table>\n",
              "</div>"
            ],
            "text/plain": [
              "                                               TITLE  ... Label\n",
              "0  Corona: Virologists Are Divided Over Need for ...  ...     8\n",
              "1  Snapchat?s new lenses use AR to encourage soci...  ...     0\n",
              "2  Corona Challenge: Germany Reaching the Upper L...  ...     8\n",
              "3  Should You Worry About Eni S.p.A.'s (BIT:ENI) ...  ...     3\n",
              "4                               The crown vs. corona  ...     1\n",
              "\n",
              "[5 rows x 3 columns]"
            ]
          },
          "metadata": {
            "tags": []
          },
          "execution_count": 5
        }
      ]
    },
    {
      "cell_type": "code",
      "metadata": {
        "id": "inWR-RgB_7D9"
      },
      "source": [],
      "execution_count": null,
      "outputs": []
    },
    {
      "cell_type": "code",
      "metadata": {
        "id": "QM3kzRtvfGW6",
        "outputId": "53ce04cc-237b-499e-f8e6-15c33dcc1d63",
        "colab": {
          "base_uri": "https://localhost:8080/"
        }
      },
      "source": [
        "for index, TITLE in enumerate(giantstride[\"TITLE\"][10:15]):\n",
        "    print(index+1,\".\",TITLE)"
      ],
      "execution_count": null,
      "outputs": [
        {
          "output_type": "stream",
          "text": [
            "1 . Innovations in times of Covid19\n",
            "2 . Vettel: Happiness, not money, key to new Ferrari F1 deal\n",
            "3 . You'll love this high tech water bottle, which just went on sale\n",
            "4 . Late 2020 Thailand beach hopper from Amsterdam for ?393! Discover Phuket, Koh Samui, Krabi and Phi Phi Islands!\n",
            "5 . This Browser Tool Makes Creating Gifs Easy for People Who Love Minimal Effort\n"
          ],
          "name": "stdout"
        }
      ]
    },
    {
      "cell_type": "code",
      "metadata": {
        "id": "M3JWraksmwVD",
        "outputId": "61bbac16-0e01-4ca6-88ea-ff03a8876940",
        "colab": {
          "base_uri": "https://localhost:8080/"
        }
      },
      "source": [
        "! pip install altair vega_datasets"
      ],
      "execution_count": null,
      "outputs": [
        {
          "output_type": "stream",
          "text": [
            "Requirement already satisfied: altair in /usr/local/lib/python3.6/dist-packages (4.1.0)\n",
            "Requirement already satisfied: vega_datasets in /usr/local/lib/python3.6/dist-packages (0.8.0)\n",
            "Requirement already satisfied: numpy in /usr/local/lib/python3.6/dist-packages (from altair) (1.18.5)\n",
            "Requirement already satisfied: jsonschema in /usr/local/lib/python3.6/dist-packages (from altair) (2.6.0)\n",
            "Requirement already satisfied: jinja2 in /usr/local/lib/python3.6/dist-packages (from altair) (2.11.2)\n",
            "Requirement already satisfied: pandas>=0.18 in /usr/local/lib/python3.6/dist-packages (from altair) (1.1.2)\n",
            "Requirement already satisfied: entrypoints in /usr/local/lib/python3.6/dist-packages (from altair) (0.3)\n",
            "Requirement already satisfied: toolz in /usr/local/lib/python3.6/dist-packages (from altair) (0.11.1)\n",
            "Requirement already satisfied: MarkupSafe>=0.23 in /usr/local/lib/python3.6/dist-packages (from jinja2->altair) (1.1.1)\n",
            "Requirement already satisfied: pytz>=2017.2 in /usr/local/lib/python3.6/dist-packages (from pandas>=0.18->altair) (2018.9)\n",
            "Requirement already satisfied: python-dateutil>=2.7.3 in /usr/local/lib/python3.6/dist-packages (from pandas>=0.18->altair) (2.8.1)\n",
            "Requirement already satisfied: six>=1.5 in /usr/local/lib/python3.6/dist-packages (from python-dateutil>=2.7.3->pandas>=0.18->altair) (1.15.0)\n"
          ],
          "name": "stdout"
        }
      ]
    },
    {
      "cell_type": "code",
      "metadata": {
        "id": "mqd_vwxSmNFy",
        "outputId": "6ff56a85-21f2-4f4a-9d8e-af639b9f52dc",
        "colab": {
          "base_uri": "https://localhost:8080/",
          "height": 476
        }
      },
      "source": [
        "bars = alt.Chart(giantstride).mark_bar(size=50).encode(\n",
        "    x=alt.X(\"Human\"),\n",
        "    y=alt.Y(\"count():Q\", axis=alt.Axis(title='Number of articles')),\n",
        "    tooltip=[alt.Tooltip('count()', title='Number of articles'), 'Human'],\n",
        "    color='Human'\n",
        "\n",
        ")\n",
        "\n",
        "text = bars.mark_text(\n",
        "    align='center',\n",
        "    baseline='bottom',\n",
        ").encode(\n",
        "    text='count()'\n",
        ")\n",
        "\n",
        "(bars + text).interactive().properties(\n",
        "    height=300, \n",
        "    width=700,\n",
        "    title = \"Number of articles in each category\",\n",
        ")"
      ],
      "execution_count": null,
      "outputs": [
        {
          "output_type": "execute_result",
          "data": {
            "text/plain": [
              "alt.LayerChart(...)"
            ],
            "text/html": [
              "\n",
              "<div id=\"altair-viz-d12572f4ef7e404bb3b7445b5b56f9ff\"></div>\n",
              "<script type=\"text/javascript\">\n",
              "  (function(spec, embedOpt){\n",
              "    let outputDiv = document.currentScript.previousElementSibling;\n",
              "    if (outputDiv.id !== \"altair-viz-d12572f4ef7e404bb3b7445b5b56f9ff\") {\n",
              "      outputDiv = document.getElementById(\"altair-viz-d12572f4ef7e404bb3b7445b5b56f9ff\");\n",
              "    }\n",
              "    const paths = {\n",
              "      \"vega\": \"https://cdn.jsdelivr.net/npm//vega@5?noext\",\n",
              "      \"vega-lib\": \"https://cdn.jsdelivr.net/npm//vega-lib?noext\",\n",
              "      \"vega-lite\": \"https://cdn.jsdelivr.net/npm//vega-lite@4.8.1?noext\",\n",
              "      \"vega-embed\": \"https://cdn.jsdelivr.net/npm//vega-embed@6?noext\",\n",
              "    };\n",
              "\n",
              "    function loadScript(lib) {\n",
              "      return new Promise(function(resolve, reject) {\n",
              "        var s = document.createElement('script');\n",
              "        s.src = paths[lib];\n",
              "        s.async = true;\n",
              "        s.onload = () => resolve(paths[lib]);\n",
              "        s.onerror = () => reject(`Error loading script: ${paths[lib]}`);\n",
              "        document.getElementsByTagName(\"head\")[0].appendChild(s);\n",
              "      });\n",
              "    }\n",
              "\n",
              "    function showError(err) {\n",
              "      outputDiv.innerHTML = `<div class=\"error\" style=\"color:red;\">${err}</div>`;\n",
              "      throw err;\n",
              "    }\n",
              "\n",
              "    function displayChart(vegaEmbed) {\n",
              "      vegaEmbed(outputDiv, spec, embedOpt)\n",
              "        .catch(err => showError(`Javascript Error: ${err.message}<br>This usually means there's a typo in your chart specification. See the javascript console for the full traceback.`));\n",
              "    }\n",
              "\n",
              "    if(typeof define === \"function\" && define.amd) {\n",
              "      requirejs.config({paths});\n",
              "      require([\"vega-embed\"], displayChart, err => showError(`Error loading script: ${err.message}`));\n",
              "    } else if (typeof vegaEmbed === \"function\") {\n",
              "      displayChart(vegaEmbed);\n",
              "    } else {\n",
              "      loadScript(\"vega\")\n",
              "        .then(() => loadScript(\"vega-lite\"))\n",
              "        .then(() => loadScript(\"vega-embed\"))\n",
              "        .catch(showError)\n",
              "        .then(() => displayChart(vegaEmbed));\n",
              "    }\n",
              "  })({\"config\": {\"view\": {\"continuousWidth\": 400, \"continuousHeight\": 300}}, \"layer\": [{\"mark\": {\"type\": \"bar\", \"size\": 50}, \"encoding\": {\"color\": {\"type\": \"nominal\", \"field\": \"Human\"}, \"tooltip\": [{\"type\": \"quantitative\", \"aggregate\": \"count\", \"title\": \"Number of articles\"}, {\"type\": \"nominal\", \"field\": \"Human\"}], \"x\": {\"type\": \"nominal\", \"field\": \"Human\"}, \"y\": {\"type\": \"quantitative\", \"aggregate\": \"count\", \"axis\": {\"title\": \"Number of articles\"}}}, \"selection\": {\"selector001\": {\"type\": \"interval\", \"bind\": \"scales\", \"encodings\": [\"x\", \"y\"]}}}, {\"mark\": {\"type\": \"text\", \"align\": \"center\", \"baseline\": \"bottom\"}, \"encoding\": {\"color\": {\"type\": \"nominal\", \"field\": \"Human\"}, \"text\": {\"type\": \"quantitative\", \"aggregate\": \"count\"}, \"tooltip\": [{\"type\": \"quantitative\", \"aggregate\": \"count\", \"title\": \"Number of articles\"}, {\"type\": \"nominal\", \"field\": \"Human\"}], \"x\": {\"type\": \"nominal\", \"field\": \"Human\"}, \"y\": {\"type\": \"quantitative\", \"aggregate\": \"count\", \"axis\": {\"title\": \"Number of articles\"}}}}], \"data\": {\"name\": \"data-dbae81372a8199f55a42b3d957a1504d\"}, \"height\": 300, \"title\": \"Number of articles in each category\", \"width\": 700, \"$schema\": \"https://vega.github.io/schema/vega-lite/v4.8.1.json\", \"datasets\": {\"data-dbae81372a8199f55a42b3d957a1504d\": [{\"TITLE\": \"Corona: Virologists Are Divided Over Need for Draconian Shutdowns\", \"Human\": \"Risk\", \"Label\": 8}, {\"TITLE\": \"Snapchat?s new lenses use AR to encourage social distancing\", \"Human\": \"Covid\", \"Label\": 0}, {\"TITLE\": \"Corona Challenge: Germany Reaching the Upper Limit of Testing Capacity\", \"Human\": \"Risk\", \"Label\": 8}, {\"TITLE\": \"Should You Worry About Eni S.p.A.'s (BIT:ENI) CEO Pay?\", \"Human\": \"Organizational Change\", \"Label\": 3}, {\"TITLE\": \"The crown vs. corona\", \"Human\": \"General\", \"Label\": 1}, {\"TITLE\": \"Follow the hot hands': HSBC lays out a coronavirus-investing playbook focused on funds that have beaten the market for years ? and shares the top stocks in each\", \"Human\": \"Opportunity\", \"Label\": 2}, {\"TITLE\": \"Welcome to the telco, we've got fun and games: BT inks 5-year deal to outsource mainframe management to IBM\", \"Human\": \"Opportunity\", \"Label\": 2}, {\"TITLE\": \"Social distancing is pushing esports into the mainstream\", \"Human\": \"General\", \"Label\": 1}, {\"TITLE\": \"1966 Ferrari 275 GTS\", \"Human\": \"General\", \"Label\": 1}, {\"TITLE\": \"Tom Brady shows Chris Godwin love on Instagram - Bucs Wire\", \"Human\": \"General\", \"Label\": 1}, {\"TITLE\": \"Innovations in times of Covid19\", \"Human\": \"Covid\", \"Label\": 0}, {\"TITLE\": \"Vettel: Happiness, not money, key to new Ferrari F1 deal\", \"Human\": \"Opportunity\", \"Label\": 2}, {\"TITLE\": \"You'll love this high tech water bottle, which just went on sale\", \"Human\": \"Opportunity\", \"Label\": 2}, {\"TITLE\": \"Late 2020 Thailand beach hopper from Amsterdam for ?393! Discover Phuket, Koh Samui, Krabi and Phi Phi Islands!\", \"Human\": \"Opportunity\", \"Label\": 2}, {\"TITLE\": \"This Browser Tool Makes Creating Gifs Easy for People Who Love Minimal Effort\", \"Human\": \"General\", \"Label\": 1}, {\"TITLE\": \"Facebook debuts standalone Messenger app on Mac and PC\", \"Human\": \"General\", \"Label\": 1}, {\"TITLE\": \"Facebook Messenger launches Mac & Windows apps\", \"Human\": \"Opportunity\", \"Label\": 2}, {\"TITLE\": \"Help Researchers Track COVID-19 Spread With This App\", \"Human\": \"Covid\", \"Label\": 0}, {\"TITLE\": \"4 helpful tips to practice social distancing\", \"Human\": \"General\", \"Label\": 1}, {\"TITLE\": \"Opinion: What Atlanta's snowmageddon teaches us about social distancing\", \"Human\": \"General\", \"Label\": 1}, {\"TITLE\": \"NMC Health Chairman Asks for Creditor Patience After Fraud Found\", \"Human\": \"Risk\", \"Label\": 8}, {\"TITLE\": \"Flying Down Empty Roads in FERRARI F8 Tributo...\", \"Human\": \"General\", \"Label\": 1}, {\"TITLE\": \"She was lonely from social distancing. Then inspiration struck\", \"Human\": \"General\", \"Label\": 1}, {\"TITLE\": \"NMC Health lender applies to court for administration\", \"Human\": \"Organizational Change\", \"Label\": 3}, {\"TITLE\": \"HSBC HK shareholders mull legal action over dividend suspension\", \"Human\": \"Risk\", \"Label\": 8}, {\"TITLE\": \"HSBC Says U.K. Is Cheap, Sees Pound Rising by Year End\", \"Human\": \"General\", \"Label\": 1}, {\"TITLE\": \"Eni says rocket episode in southern Iraq relatively far from its Basra ops\", \"Human\": \"General\", \"Label\": 1}, {\"TITLE\": \"Spurs remind players about social distancing after social media posts\", \"Human\": \"Covid\", \"Label\": 0}, {\"TITLE\": \"HSBC Dividend Halt Stirs Hong Kong Shareholders' Outrage\", \"Human\": \"Risk\", \"Label\": 8}, {\"TITLE\": \"RBS presses on with NatWest Markets cuts, axing 130 jobs - FT\", \"Human\": \"Risk\", \"Label\": 8}, {\"TITLE\": \"Remote pilgrimage: Iraqis mark Imam al-Mahdi's birth amid COVID19\", \"Human\": \"Covid\", \"Label\": 0}, {\"TITLE\": \"HSBC reports potential money laundering breaches in Australia\", \"Human\": \"Risk\", \"Label\": 8}, {\"TITLE\": \"Lamborghini and Supreme's new skateboarding fashion collaboration is the stuff of my wildest 12-year-old dreams\", \"Human\": \"General\", \"Label\": 1}, {\"TITLE\": \"UniCredit renews commitment to boosting shareholder returns: chairman\", \"Human\": \"Opportunity\", \"Label\": 2}, {\"TITLE\": \"Philip Morris International Confirms Commitment to Its Employees During Pandemic\", \"Human\": \"Covid\", \"Label\": 0}, {\"TITLE\": \"Philip Morris International Inc. to Host Webcast of 2020 First-Quarter Results\", \"Human\": \"General\", \"Label\": 1}, {\"TITLE\": \"Qumulo Wins 2020 Data Breakthrough Company of the Year Award for Data Storage\", \"Human\": \"General\", \"Label\": 1}, {\"TITLE\": \"British American Tobacco files patent suits against Philip Morris' IQOS products\", \"Human\": \"Risk\", \"Label\": 8}, {\"TITLE\": \"Love and dating during coronavirus\", \"Human\": \"General\", \"Label\": 1}, {\"TITLE\": \"Secretive big data company Palantir expects $1 billion in revenue this year and to break even for the first time in its 16-year history\", \"Human\": \"Revenue Growth\", \"Label\": 6}, {\"TITLE\": \"Exclusive: Italy's government set to reappoint Eni and Enel CEOs - source\", \"Human\": \"Organizational Change\", \"Label\": 3}, {\"TITLE\": \"Exclusive: Italy's government set to reappoint Eni and Enel CEOs - source\", \"Human\": \"Organizational Change\", \"Label\": 3}, {\"TITLE\": \"SE Cupp calls out pastors who ignore social distancing\", \"Human\": \"General\", \"Label\": 1}, {\"TITLE\": \"Will & Grace' actor's social distancing videos will make you laugh\", \"Human\": \"Covid\", \"Label\": 0}, {\"TITLE\": \"How people are celebrating the holiday while social distancing\", \"Human\": \"Covid\", \"Label\": 0}, {\"TITLE\": \"Lewis Hamilton and Stirling Moss race vintage F1 Mercedes\", \"Human\": \"General\", \"Label\": 1}, {\"TITLE\": \"Ford reveals how it's rewriting its PR playbook as it shifts to making coronavirus medical supplies\", \"Human\": \"Opportunity\", \"Label\": 2}, {\"TITLE\": \"Administrators of NMC Health revamp company's board\", \"Human\": \"Organizational Change\", \"Label\": 3}, {\"TITLE\": \"Barclays halts new job cuts during coronavirus crisis: memo\", \"Human\": \"Covid\", \"Label\": 0}, {\"TITLE\": \"Barclays Delays Top Executives' Long-Term Bonuses\", \"Human\": \"General\", \"Label\": 1}, {\"TITLE\": \"Barclays delays incentive payments to CEO, CFO due to coronavirus\", \"Human\": \"Organizational Change\", \"Label\": 3}, {\"TITLE\": \"IBM BrandVoice: Coping Amid Crisis: Best Practices From IBM Experts\", \"Human\": \"General\", \"Label\": 1}, {\"TITLE\": \"Life on Estonia's 'corona island'\", \"Human\": \"General\", \"Label\": 1}, {\"TITLE\": \"Florida man used COVID-19 quarantine rules to cover up his wife's murder, police say\", \"Human\": \"Risk\", \"Label\": 8}, {\"TITLE\": \"ADCB files criminal complaint against individuals linked to NMC Health\", \"Human\": \"General\", \"Label\": 1}, {\"TITLE\": \"Cadillac's new 'Blackwing' models could be the answer to BMW and Mercedes' luxury foothold ? if bungled branding and weird engine choices haven't already turned off fans\", \"Human\": \"Opportunity\", \"Label\": 2}, {\"TITLE\": \"Honda Extends U.S. Furloughs to Thousands of Salaried Employees\", \"Human\": \"General\", \"Label\": 1}, {\"TITLE\": \"Rebel Sherborne to withhold vote against Barclays boss in AGM\", \"Human\": \"Organizational Change\", \"Label\": 3}, {\"TITLE\": \"Barclays Activist Investor Withholds CEO Reappointment Vote\", \"Human\": \"Organizational Change\", \"Label\": 3}, {\"TITLE\": \"France says Trump has agreed to a global ceasefire during the coronavirus pandemic and Putin will sign up as well\", \"Human\": \"Organizational Change\", \"Label\": 3}, {\"TITLE\": \"Santander launches money transfer app in UK to fend off competition from fintechs\", \"Human\": \"Opportunity\", \"Label\": 2}, {\"TITLE\": \"British insurer Aviva halts executive bonuses, pay rises\", \"Human\": \"Organizational Change\", \"Label\": 3}, {\"TITLE\": \"HSBC CEO Tasks New Virus Unit to Deal With Corporate Failures\", \"Human\": \"Risk\", \"Label\": 8}, {\"TITLE\": \"10 affordable data science courses and programs you can take online ? offered by Harvard, MIT, and companies like IBM, Google, and Amazon\", \"Human\": \"Opportunity\", \"Label\": 2}, {\"TITLE\": \"Coronavirus: 'My housemate refuses to social distance'\", \"Human\": \"Covid\", \"Label\": 0}, {\"TITLE\": \"Institutional investors tell Big Pharma to cooperate on coronavirus\", \"Human\": \"Covid\", \"Label\": 0}, {\"TITLE\": \"UBS, HSBC sell down AMS stake left after rights issue\", \"Human\": \"General\", \"Label\": 1}, {\"TITLE\": \"Mercedes-Benz to Restart Idled Alabama SUV Plant April 27\", \"Human\": \"Opportunity\", \"Label\": 2}, {\"TITLE\": \"This Mercedes G-Wagen with wood floors is for people who can't decide between a yacht and an SUV ? see inside the G63 'Yachting Edition'\", \"Human\": \"General\", \"Label\": 1}, {\"TITLE\": \"Airstream just unveiled the new $238,000 Atlas camper RV built on a Mercedes-Benz Sprinter ? see inside\", \"Human\": \"Opportunity\", \"Label\": 2}, {\"TITLE\": \"Donald Trump is leaving states high and dry, and it's a sign his coronavirus response is getting worse\", \"Human\": \"Risk\", \"Label\": 8}, {\"TITLE\": \"Watch Piers Morgan's stunning advice for his friend Donald Trump\", \"Human\": \"General\", \"Label\": 1}, {\"TITLE\": \"Australia's Current-Account Conquest Could Save its Prized AAA\", \"Human\": \"General\", \"Label\": 1}, {\"TITLE\": \"From Hard-Shell To Chef-Driven: A New Book Traces America?s Taco Journey\", \"Human\": \"General\", \"Label\": 1}, {\"TITLE\": \"There is no dream of another team' - Hamilton 'not trying to move' away from Mercedes\", \"Human\": \"General\", \"Label\": 1}, {\"TITLE\": \"Barclays Executives Waive Pay Increases in Latest Virus Gesture\", \"Human\": \"General\", \"Label\": 1}, {\"TITLE\": \"HSBC reshuffles top investment bank jobs: memo\", \"Human\": \"Organizational Change\", \"Label\": 3}, {\"TITLE\": \"NatWest presses ahead with more job cuts in face of coronavirus crisis\", \"Human\": \"Covid\", \"Label\": 0}, {\"TITLE\": \"How Putin is using pandemic to get closer to Trump\", \"Human\": \"General\", \"Label\": 1}, {\"TITLE\": \"$416 million data analytics provider Domo is the most likely company to be acquired by a big player like Microsoft or Oracle in the wake of the coronavirus crisis, experts predict (DOMO, MSFT, ORCL)\", \"Human\": \"Opportunity\", \"Label\": 2}, {\"TITLE\": \"Ambulance jams, unprotected doctors, and mixed messages from Putin: Inside Russia's chaotic response to the coronavirus pandemic\", \"Human\": \"Risk\", \"Label\": 8}, {\"TITLE\": \"IBM Reports Falling Revenue and Withdraws Forecast on Virus Woes\", \"Human\": \"Risk\", \"Label\": 8}, {\"TITLE\": \"Does your health insurance cover you for COVID-19?\", \"Human\": \"Covid\", \"Label\": 0}, {\"TITLE\": \"IBM Falls With Analysts Skeptical on Revenue Growth Prospects\", \"Human\": \"Revenue Warning\", \"Label\": 7}, {\"TITLE\": \"Philip Morris Pulls 2020 Earnings Forecast on Virus Risk\", \"Human\": \"Risk\", \"Label\": 8}, {\"TITLE\": \"NMC Health Backer Weighs Strategic Options, Debt Revamp\", \"Human\": \"Opportunity\", \"Label\": 2}, {\"TITLE\": \"Does your health insurance cover you for COVID-19?\", \"Human\": \"Covid\", \"Label\": 0}, {\"TITLE\": \"Opinion: Today's biggest act of patriotic love\", \"Human\": \"General\", \"Label\": 1}, {\"TITLE\": \"In photos: Love during lockdown\", \"Human\": \"General\", \"Label\": 1}, {\"TITLE\": \"Difficult to See Oil Move Much Higher: Aviva Investments\", \"Human\": \"Opportunity\", \"Label\": 2}, {\"TITLE\": \"PD: 3 missing Chandler kids found safe at relative's home - FOX 10 News Phoenix\", \"Human\": \"General\", \"Label\": 1}, {\"TITLE\": \"A rare 1975 Mercedes-Benz Maybach limousine which took 7 years to restore is now on sale for more than $2 million ? see inside\", \"Human\": \"Opportunity\", \"Label\": 2}, {\"TITLE\": \"UniCredit appoints Hecker as global head of equity capital markets\", \"Human\": \"Organizational Change\", \"Label\": 3}, {\"TITLE\": \"Amazon employees say they used data from third-party sellers to help the company make its own competing products (AMZN)\", \"Human\": \"General\", \"Label\": 1}, {\"TITLE\": \"Ferrari 'living in denial' over budgets, say McLaren\", \"Human\": \"General\", \"Label\": 1}, {\"TITLE\": \"IBM is testing an opt-in mobile app to track the location of its employees in India to help curb the spread of COVID-19 (IBM)\", \"Human\": \"Covid\", \"Label\": 0}, {\"TITLE\": \"Tom Hanks offers friendship to bullied boy named Corona\", \"Human\": \"Opportunity\", \"Label\": 2}, {\"TITLE\": \"Coronavirus: Trump suggests injecting disinfectant as treatment\", \"Human\": \"Covid\", \"Label\": 0}, {\"TITLE\": \"BBC Sport's five things to do today\", \"Human\": \"General\", \"Label\": 1}, {\"TITLE\": \"Hubble telescope delivers stunning 30th birthday picture - BBC News\", \"Human\": \"General\", \"Label\": 1}, {\"TITLE\": \"HSBC to press ahead with overhaul 'wherever possible', despite coronavirus\", \"Human\": \"General\", \"Label\": 1}, {\"TITLE\": \"Coronavirus: Disinfectant firm issues warning after Trump comments\", \"Human\": \"Risk\", \"Label\": 8}, {\"TITLE\": \"Tom Hanks befriends bullied 8-year-old named Corona\", \"Human\": \"General\", \"Label\": 1}, {\"TITLE\": \"The 9 coolest vehicles from Mercedes' high-performance arm, including a gull-wing racer and a boat with 6 engines\", \"Human\": \"General\", \"Label\": 1}, {\"TITLE\": \"Trump abruptly exits virus briefing\", \"Human\": \"General\", \"Label\": 1}, {\"TITLE\": \"Photos of their loved ones in the pews helped them feel the love at their wedding\", \"Human\": \"General\", \"Label\": 1}, {\"TITLE\": \"Self-love toys and luxury lingerie: Data shows what UK online shoppers are buying during social distancing and a love lockdown\", \"Human\": \"General\", \"Label\": 1}, {\"TITLE\": \"Trump faces scrutiny over West Point address plans\", \"Human\": \"Organizational Change\", \"Label\": 3}, {\"TITLE\": \"Coronavirus: Is it too early to expand our 'social bubbles'?\", \"Human\": \"Covid\", \"Label\": 0}, {\"TITLE\": \"El Salvador's jails: Where social distancing is impossible\", \"Human\": \"General\", \"Label\": 1}, {\"TITLE\": \"NMC Health to delist from London Stock Exchange\", \"Human\": \"Risk\", \"Label\": 8}, {\"TITLE\": \"It's wrong to use two spaces between sentences, Microsoft Word says\", \"Human\": \"General\", \"Label\": 1}, {\"TITLE\": \"Major film festivals to unite for YouTube event - BBC News\", \"Human\": \"Press Release\", \"Label\": 4}, {\"TITLE\": \"Neanderthal fathers were younger than Homo sapiens, but mothers were older, study says\", \"Human\": \"General\", \"Label\": 1}, {\"TITLE\": \"HSBC Sets Aside Most for Credit Losses in Almost Nine Years\", \"Human\": \"General\", \"Label\": 1}, {\"TITLE\": \"HSBC first-quarter profit slides 48% on coronavirus crisis, misses forecasts\", \"Human\": \"Revenue Warning\", \"Label\": 7}, {\"TITLE\": \"HSBC profits halved by coronavirus pandemic impact\", \"Human\": \"Profit Warning\", \"Label\": 5}, {\"TITLE\": \"Santander CFO: Don't Expect High Levels of Non-Performing Loans in Spain\", \"Human\": \"General\", \"Label\": 1}, {\"TITLE\": \"HSBC hits pause on mass layoffs after profits plunge by nearly 50%\", \"Human\": \"Profit Warning\", \"Label\": 5}, {\"TITLE\": \"Big Pharma To See Slowdown In Drug Development Efforts (Radio)\", \"Human\": \"Revenue Warning\", \"Label\": 7}, {\"TITLE\": \"Coronavirus: Putin admits PPE shortage as lockdown extended\", \"Human\": \"Risk\", \"Label\": 8}, {\"TITLE\": \"Jaguars agree to terms with 18 undrafted free agents, including RBs James Robinson, Tavien Feaster\", \"Human\": \"General\", \"Label\": 1}, {\"TITLE\": \"Ford warns its losses are growing\", \"Human\": \"Profit Warning\", \"Label\": 5}, {\"TITLE\": \"Tesla is about to reveal how badly coronavirus hit its profit plans\", \"Human\": \"Risk\", \"Label\": 8}, {\"TITLE\": \"Be a good salesman, talk a big future, mention AI, and he will probably give you money': How the Vision Fund lost its way.\", \"Human\": \"Opportunity\", \"Label\": 2}, {\"TITLE\": \"Dancing gargantuan black holes perform on cue - BBC News\", \"Human\": \"General\", \"Label\": 1}, {\"TITLE\": \"Barclays Trading Surges, But Provisions Soar on Pandemic\", \"Human\": \"Opportunity\", \"Label\": 2}, {\"TITLE\": \"Barclays warns pandemic could cost it \\u009c2.1bn\", \"Human\": \"Risk\", \"Label\": 8}, {\"TITLE\": \"Barclays Takes 'Prudent' View on Potential Credit Losses\", \"Human\": \"Opportunity\", \"Label\": 2}, {\"TITLE\": \"HSBC Sees 10-Year Yield Below 1% for 'Very Long Time'\", \"Human\": \"Risk\", \"Label\": 8}, {\"TITLE\": \"Barclays, StanChart Traders Hold Fort With Coronavirus Losses Looming\", \"Human\": \"Risk\", \"Label\": 8}, {\"TITLE\": \"HSBC and Lloyds have seen significantly higher mobile check deposits since the UK locked down\", \"Human\": \"General\", \"Label\": 1}, {\"TITLE\": \"COVID-19 has 'changed everything', RBS Chairman says\", \"Human\": \"General\", \"Label\": 1}, {\"TITLE\": \"This Bugatti watch costs as much as a Ferrari and has a miniature 16-cylinder engine inside\", \"Human\": \"General\", \"Label\": 1}, {\"TITLE\": \"Hefty coronavirus provision hammers profits at Lloyds Bank\", \"Human\": \"Risk\", \"Label\": 8}, {\"TITLE\": \"It's amputation': Shell cut its dividend for the first time since World War II, the latest sign of the brutal crisis decimating the oil industry\", \"Human\": \"Revenue Warning\", \"Label\": 7}, {\"TITLE\": \"Hezbollah: Germany bans and raids Islamist group - BBC News\", \"Human\": \"Risk\", \"Label\": 8}, {\"TITLE\": \"Coronavirus: Eurozone economy shrinks at record rate - BBC News\", \"Human\": \"Revenue Warning\", \"Label\": 7}, {\"TITLE\": \"Ferrari to gradually restart operations from Monday\", \"Human\": \"General\", \"Label\": 1}, {\"TITLE\": \"Gout medication eyed as possible coronavirus treatment by researchers\", \"Human\": \"Covid\", \"Label\": 0}, {\"TITLE\": \"U.S. Navy awards $5.5 bln 10-ship frigate contract to Fincantieri\", \"Human\": \"Opportunity\", \"Label\": 2}, {\"TITLE\": \"U.S. Navy awards $5.5 bln 10-ship frigate contract to Fincantieri\", \"Human\": \"Opportunity\", \"Label\": 2}, {\"TITLE\": \"Royal Bank of Scotland Sets Aside $1 Billion For Bad Loans\", \"Human\": \"General\", \"Label\": 1}, {\"TITLE\": \"FERRARI Back-To-Work Plan Starts With Blood Test...\", \"Human\": \"General\", \"Label\": 1}, {\"TITLE\": \"Harrison Ford: The ups and downs of his long flying career\", \"Human\": \"Organizational Change\", \"Label\": 3}, {\"TITLE\": \"Russian military church scraps plan for Putin mosaic\", \"Human\": \"Organizational Change\", \"Label\": 3}, {\"TITLE\": \"UK founders are confused about accessing a \\u009c250 million scheme intended to rescue their startups from death ? here's everything we know about the Future Fund\", \"Human\": \"Organizational Change\", \"Label\": 3}, {\"TITLE\": \"A rare Mercedes that was hidden away in a barn collecting dust for more than 40 years just sold for $1.1 million\", \"Human\": \"Opportunity\", \"Label\": 2}, {\"TITLE\": \"A luxury car subscription from companies like Cadillac, Porsche, and BMW lets you test-drive various models before deciding which to purchase. Here are 3 reasons it's worth trying out ? and one drawback brand loyalists should know about.\", \"Human\": \"Opportunity\", \"Label\": 2}, {\"TITLE\": \"Canada navy helicopter crash: Five presumed dead - BBC News\", \"Human\": \"Risk\", \"Label\": 8}, {\"TITLE\": \"Match of Their Day: How Wenger's Arsenal turned tables on Man Utd\", \"Human\": \"General\", \"Label\": 1}, {\"TITLE\": \"A 'legendary' 1962 Ferrari GTE used by the Rome police in high-speed car chases is now for sale ? take a closer look\", \"Human\": \"Opportunity\", \"Label\": 2}, {\"TITLE\": \"This $90,000 camper van conversion was built on a Mercedes-Benz Sprinter for a woman to travel with her 4 dogs ? see inside 'Pluto'\", \"Human\": \"General\", \"Label\": 1}, {\"TITLE\": \"Marcus Rojo to be spoken to by Manchester United over 'lockdown breach'\", \"Human\": \"General\", \"Label\": 1}, {\"TITLE\": \"Conte Faces Surge of Lockdown Criticism With Italy Set to Reopen\", \"Human\": \"Opportunity\", \"Label\": 2}, {\"TITLE\": \"Absa Extends 5.8 Billion Rand in Virus Relief to South Africans\", \"Human\": \"Covid\", \"Label\": 0}, {\"TITLE\": \"South Africa's Absa PMI crashes to all-time low as economic activity freezes\", \"Human\": \"Risk\", \"Label\": 8}, {\"TITLE\": \"Ferrari Lowers Outlook After Lengthy Lockdown\", \"Human\": \"Opportunity\", \"Label\": 2}, {\"TITLE\": \"Loris Karius: Liverpool goalkeeper 'terminates' Besiktas loan deal\", \"Human\": \"Organizational Change\", \"Label\": 3}, {\"TITLE\": \"RBS is shuttering its standalone digital bank B\\u00a2 due to coronavirus fallout\", \"Human\": \"Risk\", \"Label\": 8}, {\"TITLE\": \"Coronavirus: Evening update as contact-tracing app launched - BBC News\", \"Human\": \"Press Release\", \"Label\": 4}, {\"TITLE\": \"Egregious lie,' CNN reporter fact-checks Trump\", \"Human\": \"General\", \"Label\": 1}, {\"TITLE\": \"Italy's Fincantieri will build newest class of US Navy warships\", \"Human\": \"Opportunity\", \"Label\": 2}, {\"TITLE\": \"A 5-Year-Old Boy Was Pulled Over While Trying To Drive To California To Buy A Lamborghini\", \"Human\": \"General\", \"Label\": 1}, {\"TITLE\": \"Coronavirus: France's first known case 'was in December' - BBC News\", \"Human\": \"General\", \"Label\": 1}, {\"TITLE\": \"The new president of IBM explains how its new products will demonstrate 'how far advanced' the company actually is at AI (IBM)\", \"Human\": \"Opportunity\", \"Label\": 2}, {\"TITLE\": \"On This Day: Chelsea beat Liverpool in 2012 FA Cup final\", \"Human\": \"General\", \"Label\": 1}, {\"TITLE\": \"IBM CEO Krishna on AI, Cloud Computing, Partnerships\", \"Human\": \"Opportunity\", \"Label\": 2}, {\"TITLE\": \"Chelsea, Liverpool, Spurs, Celtic & Rangers use social media to find missing people\", \"Human\": \"General\", \"Label\": 1}, {\"TITLE\": \"54% of adults want to work remotely most of the time after the pandemic, according to a new study from IBM\", \"Human\": \"General\", \"Label\": 1}, {\"TITLE\": \"HSBC Targets Singapore Oil Trader as Credit Concerns Escalate\", \"Human\": \"Opportunity\", \"Label\": 2}, {\"TITLE\": \"UniCredit warns of prolonged virus impact after $3 billion loss\", \"Human\": \"Revenue Warning\", \"Label\": 7}, {\"TITLE\": \"U.K. Plans End of Furlough Support\", \"Human\": \"General\", \"Label\": 1}, {\"TITLE\": \"This custom camper van built on a Mercedes-Benz Sprinter includes a 'Japanese soaking tub' ? see inside\", \"Human\": \"General\", \"Label\": 1}, {\"TITLE\": \"BuzzFeed to Furlough Some Staff After Pandemic Crushes Sales\", \"Human\": \"Covid\", \"Label\": 0}, {\"TITLE\": \"How IBM is automating IT to help companies maintain business continuity during crises\", \"Human\": \"Opportunity\", \"Label\": 2}, {\"TITLE\": \"Nutanix will furlough at least 1,500 employees, or 24% of its workforce, due to the COVID-19 crisis (NTNX)\", \"Human\": \"Covid\", \"Label\": 0}, {\"TITLE\": \"LG Chem says India factory gas leak under control, investigating cause\", \"Human\": \"General\", \"Label\": 1}, {\"TITLE\": \"Climate activists spray 'fake oil' onto Barclays HQ in London's Canary Wharf\", \"Human\": \"General\", \"Label\": 1}, {\"TITLE\": \"Australia's Future Fund names Raphael Arndt as CEO\", \"Human\": \"Organizational Change\", \"Label\": 3}, {\"TITLE\": \"Barclays Under U.K. Treasury Pressure to Fix Virus Loans Issues\", \"Human\": \"Opportunity\", \"Label\": 2}, {\"TITLE\": \"Italy's Conte Is Back in Church's Favor After Lifting Ban on Masses\", \"Human\": \"General\", \"Label\": 1}, {\"TITLE\": \"Trump reaffirms desire for arms control with Russia, China in Putin call\", \"Human\": \"Organizational Change\", \"Label\": 3}, {\"TITLE\": \"Lloyds lends over $1.2 billion to small businesses on the first day of the UK's Bounce Back program\", \"Human\": \"Opportunity\", \"Label\": 2}, {\"TITLE\": \"LG Chem plant in India starts leaking toxic gas again, prompting evacuation\", \"Human\": \"Risk\", \"Label\": 8}, {\"TITLE\": \"Sound On: FL Ag Commissioner Nikki Fried, Venezuela (Podcast)\", \"Human\": \"General\", \"Label\": 1}, {\"TITLE\": \"Paul Pogba: Manchester United midfielder likes his steak well done, says his chef\", \"Human\": \"General\", \"Label\": 1}, {\"TITLE\": \"Russia is fast becoming a coronavirus epicenter, with health workers still reporting PPE shortages. Putin is already thinking about reopening.\", \"Human\": \"Risk\", \"Label\": 8}, {\"TITLE\": \"Paychex CEO Says 60% of PPP Loan Applicants Waiting for Approval\", \"Human\": \"General\", \"Label\": 1}, {\"TITLE\": \"Venezuela: Trump denies role in bungled incursion\", \"Human\": \"Organizational Change\", \"Label\": 3}, {\"TITLE\": \"Vansmith has unveiled its new camper van with wood detailing built on a Mercedes-Benz Sprinter ? see inside\", \"Human\": \"Opportunity\", \"Label\": 2}, {\"TITLE\": \"Chelsea in talks over England full-back Chilwell - gossip\", \"Human\": \"Organizational Change\", \"Label\": 3}, {\"TITLE\": \"How Tesla's cargo capacity stacks up against other iconic front trunks in the car industry: From Ferrari, Porsche, Lamborghini, and more (TSLA, RACE)\", \"Human\": \"General\", \"Label\": 1}, {\"TITLE\": \"Coronavirus: Belarus WW2 parade defies pandemic and upstages Putin\", \"Human\": \"General\", \"Label\": 1}, {\"TITLE\": \"Coronavirus forces Russia to hold slimmed down Victory Day in blow to Putin\", \"Human\": \"Organizational Change\", \"Label\": 3}, {\"TITLE\": \"Manchester City to continue NHS support after Premier League games resume\", \"Human\": \"General\", \"Label\": 1}, {\"TITLE\": \"Italian aid worker kidnapped in Kenya has been freed: PM Conte\", \"Human\": \"General\", \"Label\": 1}, {\"TITLE\": \"Conte Says Lockdown in Italy May Ease Earlier Than Planned\", \"Human\": \"General\", \"Label\": 1}, {\"TITLE\": \"Tapper to Trump adviser: Here's what governors tell me\", \"Human\": \"General\", \"Label\": 1}, {\"TITLE\": \"One of Joe Biden's accusers says she supports him as the 'obvious choice' to defeat Donald Trump\", \"Human\": \"General\", \"Label\": 1}, {\"TITLE\": \"John Krasinski reunites stars of 'The Office' on Zoom\", \"Human\": \"General\", \"Label\": 1}, {\"TITLE\": \"Russia's Putin announces easing of coronavirus lockdown measures\", \"Human\": \"Covid\", \"Label\": 0}, {\"TITLE\": \"Coronavirus: Putin eases Russian lockdown as cases rise\", \"Human\": \"Covid\", \"Label\": 0}, {\"TITLE\": \"FA Cup archive: Liverpool 3-3 West Ham from 2006\", \"Human\": \"General\", \"Label\": 1}, {\"TITLE\": \"More than 1900 former DOJ officials call for AG Barr to resign over Flynn case\", \"Human\": \"Organizational Change\", \"Label\": 3}, {\"TITLE\": \"Bulgarian fossils show early arrival of Homo sapiens into Europe\", \"Human\": \"General\", \"Label\": 1}, {\"TITLE\": \"Shell, Eni lead oil majors' climate ambitions but still fall short -investors\", \"Human\": \"Risk\", \"Label\": 8}, {\"TITLE\": \"Sebastian Vettel to leave Ferrari at end of season\", \"Human\": \"Organizational Change\", \"Label\": 3}, {\"TITLE\": \"Jaguar Land Rover Owner's India Business Has No Value, CLSA Says\", \"Human\": \"General\", \"Label\": 1}, {\"TITLE\": \"Shell, Eni lead oil majors' climate ambitions but still fall short - investors\", \"Human\": \"Risk\", \"Label\": 8}, {\"TITLE\": \"Eurovision tribute by Fizz members and BBC correspondent\", \"Human\": \"Press Release\", \"Label\": 4}, {\"TITLE\": \"UPDATE 1-Shell, Eni lead oil majors' climate ambitions but still fall short - investors\", \"Human\": \"Risk\", \"Label\": 8}, {\"TITLE\": \"Michael Owen scores twice as Liverpool beat Arsenal in 2001 FA Cup final\", \"Human\": \"General\", \"Label\": 1}, {\"TITLE\": \"U.S. federal court to consider payout suit brought by RBS whistleblower\", \"Human\": \"Opportunity\", \"Label\": 2}, {\"TITLE\": \"Bloomberg Westminster: Addicted to Furlough?\", \"Human\": \"General\", \"Label\": 1}, {\"TITLE\": \"U.K. Extends Furlough Plan to October While Sharing Burden\", \"Human\": \"General\", \"Label\": 1}, {\"TITLE\": \"Sergio Aguero goal against QPR gives Manchester City first title in 44 years\", \"Human\": \"General\", \"Label\": 1}, {\"TITLE\": \"Exclusive: Thyssenkrupp, Fincantieri in talks to form warship champion - source\", \"Human\": \"Organizational Change\", \"Label\": 3}, {\"TITLE\": \"CNN Poll: Biden tops Trump nationwide, but battlegrounds tilt Trump\", \"Human\": \"General\", \"Label\": 1}, {\"TITLE\": \"Exclusive: Thyssenkrupp, Fincantieri in talks to form warship champion - source\", \"Human\": \"Organizational Change\", \"Label\": 3}, {\"TITLE\": \"Exclusive: Thyssenkrupp, Fincantieri in talks to form warship champion - source\", \"Human\": \"Organizational Change\", \"Label\": 3}, {\"TITLE\": \"Angela Merkel says she has 'hard evidence' that Russia hacked the German parliament and stole her emails\", \"Human\": \"Risk\", \"Label\": 8}, {\"TITLE\": \"The CEO of SUSE says the coronavirus crisis may benefit the open source company, especially now that its biggest rival has been 'taken out' by IBM (IBM)\", \"Human\": \"Organizational Change\", \"Label\": 3}, {\"TITLE\": \"HSBC Direct Savings is an online-only account with a high APY and a $1 opening deposit\", \"Human\": \"General\", \"Label\": 1}, {\"TITLE\": \"Pepsi and GM are looking to pull out of upfront advertising contracts in Q3\", \"Human\": \"General\", \"Label\": 1}, {\"TITLE\": \"Analysis: Trump is no Obama or Bush\", \"Human\": \"General\", \"Label\": 1}, {\"TITLE\": \"Acquitted former Barclays rainmaker Jenkins plots gentler comeback\", \"Human\": \"Organizational Change\", \"Label\": 3}, {\"TITLE\": \"Gianluca Vialli: Former Chelsea striker and manager opens up on cancer\", \"Human\": \"General\", \"Label\": 1}, {\"TITLE\": \"Coronavirus forces HSBC to cut global growth forecasts, again\", \"Human\": \"Risk\", \"Label\": 8}, {\"TITLE\": \"One in 4 people who died of COVID-19 in English hospitals had diabetes, NHS data finds\", \"Human\": \"Risk\", \"Label\": 8}, {\"TITLE\": \"Jurgen Klopp: Liverpool boss meets Steven Gerrard for first time during lockdown\", \"Human\": \"General\", \"Label\": 1}, {\"TITLE\": \"Fincantieri says cooperation with Thyssenkrupp chance to talk about consolidation\", \"Human\": \"Opportunity\", \"Label\": 2}, {\"TITLE\": \"BRIEF-Aegon Annual General Meeting Approves All Resolutions\", \"Human\": \"General\", \"Label\": 1}, {\"TITLE\": \"Eni appoints Citi to sell Australia gas assets - sources\", \"Human\": \"General\", \"Label\": 1}, {\"TITLE\": \"Look back: The Mount St. Helens Eruption\", \"Human\": \"General\", \"Label\": 1}, {\"TITLE\": \"Kenny Sansom: Ex-Arsenal & England defender in hospital\", \"Human\": \"General\", \"Label\": 1}, {\"TITLE\": \"Saudi Arabia Wealth Fund Buys Stakes in Disney, Facebook, Citi\", \"Human\": \"Opportunity\", \"Label\": 2}, {\"TITLE\": \"On Furlough From the Kingdom, Disney Workers Try to Keep the Magic Alive - The Wall Street Journal\", \"Human\": \"General\", \"Label\": 1}, {\"TITLE\": \"Italy's Conte Says Taking Calculated Risk in Easing Lockdown\", \"Human\": \"Risk\", \"Label\": 8}, {\"TITLE\": \"HSBC, Citi Speed Up Digital Push to Ward Off Asian Upstarts\", \"Human\": \"Opportunity\", \"Label\": 2}, {\"TITLE\": \"Interest in the 61-year-old programming language COBOL has skyrocketed during the coronavirus crisis, but the actual number of jobs hasn't (IBM)\", \"Human\": \"General\", \"Label\": 1}, {\"TITLE\": \"Looking back at the Mount St. Helens eruption\", \"Human\": \"General\", \"Label\": 1}, {\"TITLE\": \"Revisiting the 1980 eruption of Mount St. Helens\", \"Human\": \"General\", \"Label\": 1}, {\"TITLE\": \"Arsenal taking report Lacazette inhaled nitrous oxide 'seriously'\", \"Human\": \"General\", \"Label\": 1}, {\"TITLE\": \"Coronavirus probe gains momentum ahead of World Health Assembly\", \"Human\": \"General\", \"Label\": 1}, {\"TITLE\": \"Premier League: Henry? Bergkamp? Wright? - Pick your ultimate Arsenal title-winning XI\", \"Human\": \"General\", \"Label\": 1}, {\"TITLE\": \"Putin Sends Army to Fight Virus Outbreak at Siberian Gold Mine\", \"Human\": \"Risk\", \"Label\": 8}, {\"TITLE\": \"Putin says coronavirus situation in southern Russia's Dagestan is difficult\", \"Human\": \"Risk\", \"Label\": 8}, {\"TITLE\": \"Callum Hudson-Odoi: Chelsea and England winger arrested and bailed\", \"Human\": \"Risk\", \"Label\": 8}, {\"TITLE\": \"Craig Bellamy: Former Wales and Liverpool forward reveals manic depression diagnosis\", \"Human\": \"General\", \"Label\": 1}, {\"TITLE\": \"Hertz names new CEO after Kathryn Marinello resigned following report company was preparing for a possible bankruptcy (HTZ)\", \"Human\": \"Risk\", \"Label\": 8}, {\"TITLE\": \"Flowing mud does strange things on Mars - BBC News\", \"Human\": \"General\", \"Label\": 1}, {\"TITLE\": \"Leadership Live With David Rubenstein: Nasdaq CEO Adena Friedman\", \"Human\": \"General\", \"Label\": 1}, {\"TITLE\": \"Chipotle shares hit a record high above $1,000 as the company sees strong delivery momentum (CMG)\", \"Human\": \"Revenue Growth\", \"Label\": 6}, {\"TITLE\": \"Merkel, Macron Offer Deal to Shield EU From Virus Fallout\", \"Human\": \"Opportunity\", \"Label\": 2}, {\"TITLE\": \"Didier Drogba wins 2007 FA Cup for Chelsea against Manchester United\", \"Human\": \"General\", \"Label\": 1}, {\"TITLE\": \"Willy Caballero: Chelsea goalkeeper extends contract by a year\", \"Human\": \"Organizational Change\", \"Label\": 3}, {\"TITLE\": \"Santander agrees to $550 million settlement over subprime auto loans\", \"Human\": \"General\", \"Label\": 1}, {\"TITLE\": \"Trump fires back at Fox News host\", \"Human\": \"General\", \"Label\": 1}, {\"TITLE\": \"Hudson-Odoi returns to Chelsea training after arrest\", \"Human\": \"General\", \"Label\": 1}, {\"TITLE\": \"Premier League clubs including Liverpool, Chelsea & Southampton step up training\", \"Human\": \"General\", \"Label\": 1}, {\"TITLE\": \"Wednesday's gossip: Sane not interested in Liverpool move\", \"Human\": \"Organizational Change\", \"Label\": 3}, {\"TITLE\": \"Santander reaches settlement with states in subprime auto loan probe\", \"Human\": \"General\", \"Label\": 1}, {\"TITLE\": \"Opinion: The Trump crew's Covid quackery\", \"Human\": \"General\", \"Label\": 1}, {\"TITLE\": \"HSBC sees double-digit wealth asset growth in Asia by 2023\", \"Human\": \"Revenue Growth\", \"Label\": 6}, {\"TITLE\": \"Premier League: Terry? Kante? Hazard? Pick your Chelsea title-winning XI\", \"Human\": \"General\", \"Label\": 1}, {\"TITLE\": \"ESG Funds Are Ready For Your Retirement Plan\", \"Human\": \"General\", \"Label\": 1}, {\"TITLE\": \"Close to 1 Million in Spain Await Furlough Payments, Survey Says\", \"Human\": \"Press Release\", \"Label\": 4}, {\"TITLE\": \"Hertz just put more than 20 identical yellow 2019 Corvettes up for sale at a steep discount as the company reportedly prepares to file bankruptcy\", \"Human\": \"Opportunity\", \"Label\": 2}, {\"TITLE\": \"This 2003 Ferrari could fetch $2.9 million at auction, making it one of the most expensive cars ever sold online ? take a closer look at the famous Enzo\", \"Human\": \"General\", \"Label\": 1}, {\"TITLE\": \"How IBM is leading through change and highlighting the critical role of IT infrastructure\", \"Human\": \"Opportunity\", \"Label\": 2}, {\"TITLE\": \"DOI probers bust HRA police lieutenant with unlicensed gun in Brooklyn\", \"Human\": \"Risk\", \"Label\": 8}, {\"TITLE\": \"Women's Job Cuts May Shave $1 Trillion Off Global GDP, Citi Says\", \"Human\": \"Revenue Warning\", \"Label\": 7}, {\"TITLE\": \"Investors Are Still Very, Very Cautious, Says HSBC Global AM's Maldonado\", \"Human\": \"Risk\", \"Label\": 8}, {\"TITLE\": \"Ex-Manchester City captain Andy Morrison faced 'darkness and demons'\", \"Human\": \"General\", \"Label\": 1}, {\"TITLE\": \"U.K. Property Could Slump 12% on Pandemic Impact, Aviva Warns\", \"Human\": \"Risk\", \"Label\": 8}, {\"TITLE\": \"Italy's Conte Accuses Banks in Blame Game Over Cash for Business\", \"Human\": \"Risk\", \"Label\": 8}, {\"TITLE\": \"The cheapest luxury SUVs you can buy from brands like BMW, Tesla, and Mercedes\", \"Human\": \"General\", \"Label\": 1}, {\"TITLE\": \"Olivier Giroud: Chelsea and France striker to stay at Stamford Bridge next season\", \"Human\": \"Organizational Change\", \"Label\": 3}, {\"TITLE\": \"I spent years as a top exec at UBS, Citigroup, and Royal Bank of Canada preparing leaders for an uncertain future. This is the 4-step mental exercise anyone can use to weather a major career change.\", \"Human\": \"General\", \"Label\": 1}, {\"TITLE\": \"Lloyds Shareholders Lodge Protest Vote Over Executive Pay\", \"Human\": \"Risk\", \"Label\": 8}, {\"TITLE\": \"Friday's gossip: Barca lower price of Arsenal & Man Utd target Umtiti\", \"Human\": \"Organizational Change\", \"Label\": 3}, {\"TITLE\": \"Cristiano Ronaldo & Ruud van Nistelrooy win FA Cup for Manchester United against Millwall\", \"Human\": \"General\", \"Label\": 1}, {\"TITLE\": \"That Peter Crouch podcast: Tony Pulis on rattling Arsenal, Rory Delap & baseball caps\", \"Human\": \"General\", \"Label\": 1}, {\"TITLE\": \"Hertz Set to Join 'No-Coupon' Club\", \"Human\": \"Organizational Change\", \"Label\": 3}, {\"TITLE\": \"Tesco expands priority list for hundreds of disabled shoppers\", \"Human\": \"General\", \"Label\": 1}, {\"TITLE\": \"Virgil van Dijk: Vincent Kompany says Liverpool defender Premier League's best ever\", \"Human\": \"General\", \"Label\": 1}, {\"TITLE\": \"N'Golo Kante: Chelsea will allow midfielder to stay away from training amid coronavirus fears\", \"Human\": \"Covid\", \"Label\": 0}, {\"TITLE\": \"UK court throws out Nigerian oil corruption case against Shell, Eni\", \"Human\": \"General\", \"Label\": 1}, {\"TITLE\": \"Hong Kong activists are begging German Chancellor Angela Merkel not to sacrifice the country's values ??to please China\", \"Human\": \"General\", \"Label\": 1}, {\"TITLE\": \"IBM is cutting 'several thousand' jobs, a month after new CEO Arvind Krishna withdrew its financial outlook (IBM)\", \"Human\": \"Organizational Change\", \"Label\": 3}, {\"TITLE\": \"Frank Lampard: Chelsea boss wants to finish season but 'safety must come first'\", \"Human\": \"General\", \"Label\": 1}, {\"TITLE\": \"Putin Orders Support for Russia's Oil Industry Amid OPEC+ Cuts\", \"Human\": \"Opportunity\", \"Label\": 2}, {\"TITLE\": \"Jaguar Land Rover Seeks State Loan to Overcome Crisis, Sky Says\", \"Human\": \"Press Release\", \"Label\": 4}, {\"TITLE\": \"Travel tips for hitting the road this Memorial Day weekend\", \"Human\": \"General\", \"Label\": 1}, {\"TITLE\": \"Jaguar Land Rover Is Seeking U.K. Virus Aid Package\", \"Human\": \"Covid\", \"Label\": 0}, {\"TITLE\": \"A Nike warehouse reportedly denied a Tennessee health official access to its facility after a worker died of COVID-19\", \"Human\": \"Risk\", \"Label\": 8}, {\"TITLE\": \"Air travel has its busiest days in months heading into Memorial Day weekend\", \"Human\": \"General\", \"Label\": 1}, {\"TITLE\": \"Coronavirus: Jaguar Land Rover in talks over government loan\", \"Human\": \"Opportunity\", \"Label\": 2}, {\"TITLE\": \"Putin changes Russia's electoral law to allow remote vote\", \"Human\": \"Organizational Change\", \"Label\": 3}, {\"TITLE\": \"This hulking Mercedes is a $400,000, street-legal off-roader massive enough to go over traffic instead of around it ? see inside\", \"Human\": \"General\", \"Label\": 1}, {\"TITLE\": \"This $67,511 pop-top camper van built in a 2020 Mercedes-Benz minivan has two separate beds ? see inside the 'Backroad'\", \"Human\": \"General\", \"Label\": 1}, {\"TITLE\": \"Trump isn't masking his denial\", \"Human\": \"General\", \"Label\": 1}, {\"TITLE\": \"Arsenal set to begin Coutinho talks - Monday's gossip\", \"Human\": \"Organizational Change\", \"Label\": 3}, {\"TITLE\": \"Liverpool beat AC Milan: Memories of the 'Miracle of Istanbul' by those who were there\", \"Human\": \"General\", \"Label\": 1}, {\"TITLE\": \"Liverpool and Manchester United among 86 clubs using social media to find missing people\", \"Human\": \"Press Release\", \"Label\": 4}, {\"TITLE\": \"Citi warns that coronavirus may push 31 million women into unemployment and knock $1 trillion from world GDP\", \"Human\": \"Risk\", \"Label\": 8}, {\"TITLE\": \"Trump hits the links amid coronavirus pandemic\", \"Human\": \"General\", \"Label\": 1}, {\"TITLE\": \"Merkel won't allow EU to deprive Lufthansa of key slots: Handelsblatt\", \"Human\": \"General\", \"Label\": 1}, {\"TITLE\": \"Trump visits Arlington National Cemetery\", \"Human\": \"General\", \"Label\": 1}, {\"TITLE\": \"CNN reporter debunks beachgoers' coronavirus theories\", \"Human\": \"General\", \"Label\": 1}, {\"TITLE\": \"Insurer AXA to pay out to restaurants after court ruling\", \"Human\": \"General\", \"Label\": 1}, {\"TITLE\": \"Ex-Citi Banker's Alleged Ties at Issue in Insider-Trading Appeal\", \"Human\": \"Risk\", \"Label\": 8}, {\"TITLE\": \"S.Africa's Absa warns H1 profit likely to slump by over 20%\", \"Human\": \"Profit Warning\", \"Label\": 5}, {\"TITLE\": \"Bank of America, Citi, Chase, and Wells Fargo have shifted employees to deal with defaulted loans\", \"Human\": \"General\", \"Label\": 1}, {\"TITLE\": \"Jack Wilshere: West Ham midfielder on Arsenal, Barcelona, Cesc Fabregas and Iceland\", \"Human\": \"General\", \"Label\": 1}, {\"TITLE\": \"Coronavirus 'past peak' in Russia, WWII parade in June: Putin\", \"Human\": \"General\", \"Label\": 1}, {\"TITLE\": \"The more than 20 identical yellow 2019 Corvettes bankrupt Hertz was selling at a steep discount are already gone\", \"Human\": \"General\", \"Label\": 1}, {\"TITLE\": \"U.K.'s Sunak Plans to Close Furlough Program to New Entrants\", \"Human\": \"General\", \"Label\": 1}, {\"TITLE\": \"Lifting Premier League trophy without fans would be 'strange' - Liverpool captain Henderson\", \"Human\": \"General\", \"Label\": 1}, {\"TITLE\": \"Biden blasts Trump for mocking face masks\", \"Human\": \"General\", \"Label\": 1}, {\"TITLE\": \"Coronavirus: Why Merkel may help fund Europe's recovery plan\", \"Human\": \"Revenue Growth\", \"Label\": 6}, {\"TITLE\": \"Paul Gascoigne scores stunning free-kick in 1991 FA Cup semi-final against Arsenal\", \"Human\": \"General\", \"Label\": 1}, {\"TITLE\": \"Royal Bank of Canada quarterly profit slumps on higher loan loss provisions\", \"Human\": \"Profit Warning\", \"Label\": 5}, {\"TITLE\": \"Royal Bank of Canada quarterly profit slumps on higher loan loss provisions\", \"Human\": \"Profit Warning\", \"Label\": 5}, {\"TITLE\": \"Pakistani villager urges India to return 'spy' pigeon\", \"Human\": \"General\", \"Label\": 1}, {\"TITLE\": \"Royal Bank of Canada, BMO profits halved amid billions of dollars in loan-loss provisions\", \"Human\": \"Profit Warning\", \"Label\": 5}, {\"TITLE\": \"Arsenal Women fined \\u009c50,000 for 'act of discrimination' relating to former coach's dismissal\", \"Human\": \"Risk\", \"Label\": 8}, {\"TITLE\": \"U.S. Pizza Deliveries Could Provide Gauge of Covid-19 Concerns\", \"Human\": \"Covid\", \"Label\": 0}, {\"TITLE\": \"Putin pushes war history and patriotism in schools as he continues his campaign to militarize Russian youth\", \"Human\": \"General\", \"Label\": 1}, {\"TITLE\": \"Starboard set to win eight board seats at GCP Applied Technologies-sources\", \"Human\": \"Opportunity\", \"Label\": 2}, {\"TITLE\": \"Starboard set to win eight board seats at GCP Applied Technologies: sources\", \"Human\": \"Opportunity\", \"Label\": 2}, {\"TITLE\": \"Billionaire investor Carl Icahn dumped all of his Hertz shares at an almost $2 billion loss after the car-rental giant's bankruptcy\", \"Human\": \"Revenue Warning\", \"Label\": 7}, {\"TITLE\": \"From Mr. Clean to Michelle Yeoh, how the travel industry plans to woo customers back\", \"Human\": \"General\", \"Label\": 1}, {\"TITLE\": \"Premier League to restart on 17 June with Man City v Arsenal and Villa v Sheff Utd\", \"Human\": \"General\", \"Label\": 1}, {\"TITLE\": \"Apple's updated device-tracking system could hinder Tile's momentum\", \"Human\": \"Risk\", \"Label\": 8}, {\"TITLE\": \"Premier League return: June 17 tabbed as restart date, will feature Arsenal vs. Manchester City, report says\", \"Human\": \"General\", \"Label\": 1}, {\"TITLE\": \"Arsenal: Sir Chips Keswick retires as club chairman\", \"Human\": \"Organizational Change\", \"Label\": 3}, {\"TITLE\": \"Why India must battle the shame of period stain\", \"Human\": \"Risk\", \"Label\": 8}, {\"TITLE\": \"Trump to redefine social-media legal protections\", \"Human\": \"General\", \"Label\": 1}, {\"TITLE\": \"Citi Is Taking a Granular Approach to Reopening Offices, Says CEO\", \"Human\": \"Opportunity\", \"Label\": 2}, {\"TITLE\": \"U.K.'s Sunak Set to Put More Onus on Employers in Furlough Plan\", \"Human\": \"General\", \"Label\": 1}, {\"TITLE\": \"Premier League return: June 17 tabbed as restart date, reportedly will feature Arsenal vs. Manchester City\", \"Human\": \"General\", \"Label\": 1}, {\"TITLE\": \"N'Golo Kante: Chelsea midfielder returns to individual training\", \"Human\": \"General\", \"Label\": 1}, {\"TITLE\": \"Rental cars may be about to flood the used car market as companies like Hertz go bankrupt. Here's why they're a great value for shoppers.\", \"Human\": \"Opportunity\", \"Label\": 2}, {\"TITLE\": \"This free online Harvard course on family engagement in education has enrolled more than 80,000 people as millions of students turn to remote learning\", \"Human\": \"General\", \"Label\": 1}, {\"TITLE\": \"UK business confidence matches 2008 low in May - Lloyds Bank\", \"Human\": \"General\", \"Label\": 1}, {\"TITLE\": \"Hong Kong Dollar Peg Is Not Under Threat, Natwest Markets Says\", \"Human\": \"Risk\", \"Label\": 8}, {\"TITLE\": \"Citi Banker Sees Nations Targeting Wealthy to Recoup Virus Costs\", \"Human\": \"Covid\", \"Label\": 0}, {\"TITLE\": \"India May Fall Into First Recession Since 1980, DBS Bank Says\", \"Human\": \"Risk\", \"Label\": 8}, {\"TITLE\": \"Premier League: Liverpool could lift title at neutral venue with six fixtures set to move\", \"Human\": \"General\", \"Label\": 1}, {\"TITLE\": \"Former HK leader calls out HSBC following UK criticism of security law\", \"Human\": \"Risk\", \"Label\": 8}, {\"TITLE\": \"Acura's new TLX luxury sedan will cost thousands less than BMW and Mercedes Benz's closest competitors ? take a look at the redesigned 2021 model\", \"Human\": \"Opportunity\", \"Label\": 2}, {\"TITLE\": \"Minnesota governor takes 'full responsibility' for arrest of CNN crew: 'The issue here is trust'\", \"Human\": \"General\", \"Label\": 1}, {\"TITLE\": \"Shifting Gears: Meet Amazon's most important man who's not Jeff Bezos (AMZN, TSLA, UBER, UAL, AAL)\", \"Human\": \"General\", \"Label\": 1}, {\"TITLE\": \"Beyond Meat Announces New Deals With KFC and Pizza Hut in China\", \"Human\": \"Opportunity\", \"Label\": 2}, {\"TITLE\": \"7 key takeaways you can learn from travel agents and tour operators about how to book travel right now, and into next year\", \"Human\": \"General\", \"Label\": 1}, {\"TITLE\": \"Acosta: Trump punted on Minneapolis\", \"Human\": \"General\", \"Label\": 1}, {\"TITLE\": \"China-India border: Why tensions are rising between the neighbours\", \"Human\": \"Risk\", \"Label\": 8}, {\"TITLE\": \"The Biggest Hurdle for Reopening Will Be 'Getting People to the Office,' Says Citi CEO Corbat\", \"Human\": \"General\", \"Label\": 1}, {\"TITLE\": \"Elon Musk told CNN in 2008 how he could help NASA\", \"Human\": \"General\", \"Label\": 1}, {\"TITLE\": \"CNN reporter says she's never seen this before\", \"Human\": \"General\", \"Label\": 1}, {\"TITLE\": \"That's a healthy dose:' CNN reporter hit with gas\", \"Human\": \"General\", \"Label\": 1}, {\"TITLE\": \"CNN Center in Atlanta damaged during protests\", \"Human\": \"Opportunity\", \"Label\": 2}, {\"TITLE\": \"Merkel declines Trump invite for in-person G7 summit\", \"Human\": \"Organizational Change\", \"Label\": 3}, {\"TITLE\": \"Merkel Says Stimulus Plan to Promote Innovation, Sustainability\", \"Human\": \"Opportunity\", \"Label\": 2}, {\"TITLE\": \"Merkel, Citing Global Virus, May Skip Trump's Rescheduled G-7\", \"Human\": \"General\", \"Label\": 1}, {\"TITLE\": \"Lego is releasing a $379 kit to build a mini Lamborghini Sian hypercar that looks just like the real thing\", \"Human\": \"Opportunity\", \"Label\": 2}, {\"TITLE\": \"Trump postpones G7 to at least September\", \"Human\": \"General\", \"Label\": 1}, {\"TITLE\": \"Trump delays 'outdated' G7 leaders' summit\", \"Human\": \"Organizational Change\", \"Label\": 3}, {\"TITLE\": \"Escalating violence sends CNN crew on the run\", \"Human\": \"General\", \"Label\": 1}, {\"TITLE\": \"CNN reporter: This looks like a war zone\", \"Human\": \"General\", \"Label\": 1}, {\"TITLE\": \"Leah Williamson: Arsenal & England defender's five albums for lockdown\", \"Human\": \"General\", \"Label\": 1}, {\"TITLE\": \"Franchisees of iconic American chains are 'hemorrhaging' sales, as operators of IHOP, Pizza Hut, and more file for bankruptcy\", \"Human\": \"Risk\", \"Label\": 8}, {\"TITLE\": \"Defining moments from 40 years of CNN\", \"Human\": \"General\", \"Label\": 1}, {\"TITLE\": \"US astronauts welcomed aboard International Space Station - CNN\", \"Human\": \"General\", \"Label\": 1}, {\"TITLE\": \"S.Africa's Standard Bank flags more than 20% fall in H1 earnings\", \"Human\": \"Revenue Warning\", \"Label\": 7}, {\"TITLE\": \"India coronavirus: Huge crowds as train services resume\", \"Human\": \"General\", \"Label\": 1}, {\"TITLE\": \"South Africa's Absa PMI rises in May as economic activity edges up\", \"Human\": \"Revenue Growth\", \"Label\": 6}, {\"TITLE\": \"Kremlin says Putin 'supports dialogue' after Trump's proposed G7 invite\", \"Human\": \"Organizational Change\", \"Label\": 3}, {\"TITLE\": \"South Africa's Absa PMI rises in May as economic activity edges up\", \"Human\": \"Revenue Growth\", \"Label\": 6}, {\"TITLE\": \"Barclays to Return About 700 Staff, Mostly Traders, to Offices\", \"Human\": \"Organizational Change\", \"Label\": 3}, {\"TITLE\": \"Barclays Told to Turn Over Qatar Advice in $2 Billion Suit\", \"Human\": \"Opportunity\", \"Label\": 2}, {\"TITLE\": \"Trump tells governors they must 'dominate' protesters\", \"Human\": \"General\", \"Label\": 1}, {\"TITLE\": \"HSBC Names Seymour as Head of Canada Division to Succeed Stuart\", \"Human\": \"Organizational Change\", \"Label\": 3}, {\"TITLE\": \"Women's Super League: Arsenal defender Quinn backs decision to end season early\", \"Human\": \"Organizational Change\", \"Label\": 3}, {\"TITLE\": \"Russia: Putin sets July 1 for constitutional reform vote\", \"Human\": \"Organizational Change\", \"Label\": 3}, {\"TITLE\": \"Hear governor call out Trump on call\", \"Human\": \"General\", \"Label\": 1}, {\"TITLE\": \"Tesco CFO to Retire After CEO Leaves Biggest U.K. Grocer\", \"Human\": \"Organizational Change\", \"Label\": 3}, {\"TITLE\": \"Merkel to Broker Second Stimulus Deal\", \"Human\": \"Opportunity\", \"Label\": 2}, {\"TITLE\": \"Kenny Sansom: Ex-Arsenal & England defender remains in a 'stable' condition in hospital\", \"Human\": \"General\", \"Label\": 1}, {\"TITLE\": \"Working Out at Home Won't Replace Going to Gym, Barclays Says\", \"Human\": \"General\", \"Label\": 1}, {\"TITLE\": \"Investment banks are torn on which way the market is heading. Citi warns stocks are 'way ahead of reality,' but JPMorgan says they can climb higher.\", \"Human\": \"Opportunity\", \"Label\": 2}, {\"TITLE\": \"Special Report: U.S. school closures dramatically shrinking public education, Reuters finds\", \"Human\": \"Risk\", \"Label\": 8}, {\"TITLE\": \"HSBC Direct Savings is an online-only account with a high APY and a $1 opening deposit\", \"Human\": \"General\", \"Label\": 1}, {\"TITLE\": \"GM, Ford join U.S. companies condemning George Floyd death, racism\", \"Human\": \"General\", \"Label\": 1}, {\"TITLE\": \"Countries may start raising taxes on the ultrawealthy to fund coronavirus relief, according to a Citi executive\", \"Human\": \"General\", \"Label\": 1}, {\"TITLE\": \"AG Barr ordered protesters cleared from park near White House: Officials\", \"Human\": \"General\", \"Label\": 1}, {\"TITLE\": \"Merkel Forced to Delay Stimulus Package Amid Coalition Impasse\", \"Human\": \"General\", \"Label\": 1}, {\"TITLE\": \"A pizza chain is offering paid time off for employees who want to protest\", \"Human\": \"General\", \"Label\": 1}, {\"TITLE\": \"Risk of No-Deal Brexit Is at All-Time High, Says Aviva Investors\", \"Human\": \"Risk\", \"Label\": 8}, {\"TITLE\": \"HSBC says 'respects and supports' laws that stabilise Hong Kong\", \"Human\": \"General\", \"Label\": 1}, {\"TITLE\": \"The dollar could be on the verge of a 10-year-long bear market as currency investors return to risk, a Citi strategist warns\", \"Human\": \"Risk\", \"Label\": 8}, {\"TITLE\": \"The dollar could be on the verge of a 10-year-long bear market as currency investors return to risk, a Citi strategist warns\", \"Human\": \"Risk\", \"Label\": 8}, {\"TITLE\": \"OPEC+ keen to keep U.S. shale in check as oil prices rally\", \"Human\": \"Revenue Warning\", \"Label\": 7}, {\"TITLE\": \"The Appeal of ESG ETFs\", \"Human\": \"General\", \"Label\": 1}, {\"TITLE\": \"Coronavirus: Italy's Conte offers hope as travel restrictions end\", \"Human\": \"Covid\", \"Label\": 0}, {\"TITLE\": \"First State Super's McDonald on Australian Pensions, ESG\", \"Human\": \"General\", \"Label\": 1}, {\"TITLE\": \"Analysis: Why women should really worry Trump\", \"Human\": \"General\", \"Label\": 1}, {\"TITLE\": \"Coronavirus in Russia: 'I don't trust Putin any more'\", \"Human\": \"Risk\", \"Label\": 8}, {\"TITLE\": \"Russia's Putin declares state of emergency after Arctic Circle oil spill\", \"Human\": \"Press Release\", \"Label\": 4}, {\"TITLE\": \"HSBC and StanChart back China security laws for HK\", \"Human\": \"General\", \"Label\": 1}, {\"TITLE\": \"Botin's Vision of Future Pays Off for Santander in Age of Covid-19\", \"Human\": \"Covid\", \"Label\": 0}, {\"TITLE\": \"Barclays APAC Head: Hong Kong to Remain Important Financial Center\", \"Human\": \"Organizational Change\", \"Label\": 3}, {\"TITLE\": \"HSBC, StanChart shares rise in Hong Kong after backing China security law\", \"Human\": \"Revenue Growth\", \"Label\": 6}, {\"TITLE\": \"An oil CEO says crude prices could surge 90% to $70 by fall because US firms have 'over-cut production'\", \"Human\": \"Revenue Warning\", \"Label\": 7}, {\"TITLE\": \"Merkel Lifts Germany With $145 Billion Stimulus Package\", \"Human\": \"Revenue Growth\", \"Label\": 6}, {\"TITLE\": \"British Lawmaker Tells HSBC CEO That China Support Causes Alarm\", \"Human\": \"Risk\", \"Label\": 8}, {\"TITLE\": \"India outrage after pregnant elephant dies eating 'firecracker fruit'\", \"Human\": \"General\", \"Label\": 1}, {\"TITLE\": \"UBS just backed a cloud-based trading tech startup. Here's how the investment could prompt a data-fueled transformation of Wall Street trading floors.\", \"Human\": \"Opportunity\", \"Label\": 2}, {\"TITLE\": \"HSBC Private Banking's Fan on Asian Market Outlook\", \"Human\": \"Opportunity\", \"Label\": 2}, {\"TITLE\": \"Suspect was overheard saying, ?f---ing n----r,? after killing Ahmaud Arbery: investigator\", \"Human\": \"Risk\", \"Label\": 8}, {\"TITLE\": \"Tech-heavy Nasdaq 100 becomes first major US stock index to reach record highs after coronavirus plunge\", \"Human\": \"Opportunity\", \"Label\": 2}, {\"TITLE\": \"Merkel Says Germany Needed to Act 'Courageously and Decisively'\", \"Human\": \"General\", \"Label\": 1}, {\"TITLE\": \"Antifa, 'foreign actors' involved in sowing unrest and violence: AG Barr\", \"Human\": \"Risk\", \"Label\": 8}, {\"TITLE\": \"Barclays poaches Citigroup's Chawla in latest insurance investment banker move\", \"Human\": \"General\", \"Label\": 1}, {\"TITLE\": \"UBS Traders Set for Return to New York Offices at End of June\", \"Human\": \"General\", \"Label\": 1}, {\"TITLE\": \"Hertz skyrockets 825% since filing for bankruptcy as Robinhood traders pile in (HTZ)\", \"Human\": \"Revenue Growth\", \"Label\": 6}, {\"TITLE\": \"CNN Poll of Polls finds Biden leading Trump\", \"Human\": \"General\", \"Label\": 1}, {\"TITLE\": \"2021 Kia Seltos rapid review: A 60-second test drive of Kia's newest compact SUV\", \"Human\": \"Opportunity\", \"Label\": 2}, {\"TITLE\": \"How to buy a used rental car and potentially save thousands as companies like Hertz go bankrupt\", \"Human\": \"Opportunity\", \"Label\": 2}, {\"TITLE\": \"The $34,000 Buick Encore GX has arrived to take on Mazda, Toyota, and Honda ? but we should really be matching it up against BMW (GM)\", \"Human\": \"General\", \"Label\": 1}, {\"TITLE\": \"George Floyd: How DC protesters are keeping the momentum going\", \"Human\": \"General\", \"Label\": 1}, {\"TITLE\": \"High-Profile Names to Testify at Barclays $1.9 Billion Trial: FT\", \"Human\": \"Risk\", \"Label\": 8}, {\"TITLE\": \"Standard Bank Investors Urged to Oust Directors on Climate Fears - BloombergQuint\", \"Human\": \"Risk\", \"Label\": 8}, {\"TITLE\": \"Tesco Probe Dropped by U.K. Audit Watchdog After Half a Decade\", \"Human\": \"Risk\", \"Label\": 8}, {\"TITLE\": \"CNN poll: Trump sees big drop in approval rating\", \"Human\": \"General\", \"Label\": 1}, {\"TITLE\": \"Barclays Can't Get Beyond Financial Crisis in Staveley Trial\", \"Human\": \"Risk\", \"Label\": 8}, {\"TITLE\": \"British financier Staveley's $2 billion Barclays lawsuit hits High Court\", \"Human\": \"General\", \"Label\": 1}, {\"TITLE\": \"Saudi Arabia's oil-export revenues plunged $11 billion in the first quarter as crude prices tanked\", \"Human\": \"Revenue Warning\", \"Label\": 7}, {\"TITLE\": \"Top retired military officials criticize Trump\", \"Human\": \"General\", \"Label\": 1}, {\"TITLE\": \"UniCredit Eases Travel Ban, Starts Planning Return to Office\", \"Human\": \"General\", \"Label\": 1}, {\"TITLE\": \"UniCredit Eases Travel Ban, Starts Planning Return to Office - BloombergQuint\", \"Human\": \"General\", \"Label\": 1}, {\"TITLE\": \"Saudi Banks Are Too Expensive Given Earnings Doubts, HSBC Says\", \"Human\": \"General\", \"Label\": 1}, {\"TITLE\": \"IBM abandons 'biased' facial recognition tech\", \"Human\": \"Opportunity\", \"Label\": 2}, {\"TITLE\": \"Global protests in solidarity with #BlackLivesMatter\", \"Human\": \"General\", \"Label\": 1}, {\"TITLE\": \"UBS Starts Regional Private Markets Groups to Boost Alternatives\", \"Human\": \"Opportunity\", \"Label\": 2}, {\"TITLE\": \"Barclays labels Staveley lawsuit 'distorted and exaggerated'\", \"Human\": \"Risk\", \"Label\": 8}, {\"TITLE\": \"IBM just reignited the discussion around whether AI is biased, but more needs to be done to ensure the technology isn't racist\", \"Human\": \"General\", \"Label\": 1}, {\"TITLE\": \"Pompeo chides HSBC for 'corporate kowtow' to Beijing\", \"Human\": \"General\", \"Label\": 1}, {\"TITLE\": \"Santander Brasil to lay off 20% of workforce in Brazil amid COVID-19, paper says\", \"Human\": \"Risk\", \"Label\": 8}, {\"TITLE\": \"Santander Brasil to lay off 20% of workforce in Brazil amid COVID-19, paper says - Reuters India\", \"Human\": \"Risk\", \"Label\": 8}, {\"TITLE\": \"Santander Brasil to lay off 20% of workforce in Brazil amid COVID-19, paper says - Reuters\", \"Human\": \"Risk\", \"Label\": 8}, {\"TITLE\": \"Santander Brasil to lay off 20% of workforce in Brazil amid COVID-19, paper says - Reuters\", \"Human\": \"Risk\", \"Label\": 8}, {\"TITLE\": \"Mike Pompeo criticises HSBC for backing Hong Kong security law\", \"Human\": \"Risk\", \"Label\": 8}, {\"TITLE\": \"The US shale oil industry could collapse unless oil prices bounce back soon, a think-tank warns\", \"Human\": \"Risk\", \"Label\": 8}, {\"TITLE\": \"Day traders have driven stock-market euphoria to an 18-year high, boosting the odds of a downturn in the next year to over 70%, Citi says\", \"Human\": \"Revenue Growth\", \"Label\": 6}, {\"TITLE\": \"ING Offers Permanent Work-From-Home Option in Spain\", \"Human\": \"Opportunity\", \"Label\": 2}, {\"TITLE\": \"Boris Johnson says people living alone will be able to visit one other household in coronavirus 'support bubbles'\", \"Human\": \"General\", \"Label\": 1}, {\"TITLE\": \"How schools should look as they reopen despite the coronavirus pandemic, according to the CDC and education experts\", \"Human\": \"Covid\", \"Label\": 0}, {\"TITLE\": \"Haberman: Why Trump won't remove confederate names\", \"Human\": \"General\", \"Label\": 1}, {\"TITLE\": \"Unilever to Combine in U.K., Raising Prospect of Breakup\", \"Human\": \"Risk\", \"Label\": 8}, {\"TITLE\": \"How English primary schools are focusing on emotional education to reopen safely during the coronavirus pandemic\", \"Human\": \"Covid\", \"Label\": 0}, {\"TITLE\": \"Lloyds Bank fined $81 million for mortgage arrears failures\", \"Human\": \"Risk\", \"Label\": 8}, {\"TITLE\": \"Lloyds Bank fined $81 million for overcharging mortgage customers\", \"Human\": \"Risk\", \"Label\": 8}, {\"TITLE\": \"Lloyds Bank fined $81 million for overcharging mortgage customers\", \"Human\": \"Risk\", \"Label\": 8}, {\"TITLE\": \"Uber, Lyft drivers now considered employees under California law\", \"Human\": \"Organizational Change\", \"Label\": 3}, {\"TITLE\": \"Trump authorizes sanctions against International Criminal Court\", \"Human\": \"General\", \"Label\": 1}, {\"TITLE\": \"What?s new in Microsoft 365 Compliance and Risk Management\", \"Human\": \"Opportunity\", \"Label\": 2}, {\"TITLE\": \"Microsoft says it won't sell facial recognition tech to US police departments\", \"Human\": \"General\", \"Label\": 1}, {\"TITLE\": \"Yum Brands Sues GrubHub Over KFC/Taco Bell Delivery Deal\", \"Human\": \"Risk\", \"Label\": 8}, {\"TITLE\": \"Anderson Cooper suggests Trump admit his mistakes\", \"Human\": \"General\", \"Label\": 1}, {\"TITLE\": \"Barclays Lawyer Caught on Zoom Saying That Staveley Was 'Lying'\", \"Human\": \"Risk\", \"Label\": 8}, {\"TITLE\": \"Boris Johnson met with billionaire developer three times before approving his housing scheme\", \"Human\": \"General\", \"Label\": 1}, {\"TITLE\": \"Putin makes first public appearance in weeks of lockdown in Russia\", \"Human\": \"Organizational Change\", \"Label\": 3}, {\"TITLE\": \"CNN Poll: Americans report feeling hopeful and angry as unrest unfolds across US\", \"Human\": \"Risk\", \"Label\": 8}, {\"TITLE\": \"Best moments from CNN and Sesame Street's second coronavirus town hall for kids and parents\", \"Human\": \"General\", \"Label\": 1}, {\"TITLE\": \"CNN crew harassed and camera broken during protest\", \"Human\": \"General\", \"Label\": 1}, {\"TITLE\": \"Coronavirus: India to use 500 train carriages as wards in Delhi\", \"Human\": \"General\", \"Label\": 1}, {\"TITLE\": \"Unilever to invest 1 billion euros in climate change fund over 10 years\", \"Human\": \"Opportunity\", \"Label\": 2}, {\"TITLE\": \"HKEX Chairman on ESG, Diversity\", \"Human\": \"General\", \"Label\": 1}, {\"TITLE\": \"2019 Kia Niro EV Rapid Review: Kia's new $40,000 electric crossover is spunky and fun, but not nearly as refined as its price indicates\", \"Human\": \"General\", \"Label\": 1}, {\"TITLE\": \"Nissan just revamped its best-selling car, giving it updated looks and more technology than ever ? check out the new Nissan Rogue\", \"Human\": \"Opportunity\", \"Label\": 2}, {\"TITLE\": \"HSBC gets veiled rebuke from UK government over Hong Kong\", \"Human\": \"Risk\", \"Label\": 8}, {\"TITLE\": \"Tata Motors' High Debt Seen as Risk, Analyst Says\", \"Human\": \"Risk\", \"Label\": 8}, {\"TITLE\": \"They f---ing killed him': 911 transcripts from George Floyd's death show horrified witnesses reporting his arrest\", \"Human\": \"General\", \"Label\": 1}, {\"TITLE\": \"India-China dispute: The border row explained in 400 words\", \"Human\": \"General\", \"Label\": 1}, {\"TITLE\": \"Who will be the next Donald Trump?\", \"Human\": \"General\", \"Label\": 1}, {\"TITLE\": \"Trump: Without police, there is chaos\", \"Human\": \"General\", \"Label\": 1}, {\"TITLE\": \"Experts rank ChargePoint and 14 other major players in the world of electric-vehicle charging\", \"Human\": \"General\", \"Label\": 1}, {\"TITLE\": \"India-China clash: Two sides blames each other for deadly fighting\", \"Human\": \"General\", \"Label\": 1}, {\"TITLE\": \"HSBC revives plan to axe 35,000 jobs - Fox Business\", \"Human\": \"General\", \"Label\": 1}, {\"TITLE\": \"HSBC Revives Plan to Cut 35,000 Jobs: Report\", \"Human\": \"General\", \"Label\": 1}, {\"TITLE\": \"Keanu wants to go on a Zoom date with you -- for a good cause\", \"Human\": \"General\", \"Label\": 1}, {\"TITLE\": \"Exclusive: Who's in charge at Nissan? COO's allies push to give him shared CEO role ? sources\", \"Human\": \"Organizational Change\", \"Label\": 3}, {\"TITLE\": \"Deutsche Bank says a giant volcanic eruption and another deadly pandemic are among the 'catastrophic' disasters that could devastate the world economy in the next 10 years\", \"Human\": \"Risk\", \"Label\": 8}, {\"TITLE\": \"Exclusive: Who's in charge at Nissan? COO's allies push to give him shared CEO role ? sources\", \"Human\": \"Organizational Change\", \"Label\": 3}, {\"TITLE\": \"Putin is facing growing anger in Russia\", \"Human\": \"Risk\", \"Label\": 8}, {\"TITLE\": \"I think Putin thinks he can play [Trump] like a fiddle': John Bolton\", \"Human\": \"General\", \"Label\": 1}, {\"TITLE\": \"Analysis: Don't assume China has the military edge over India\", \"Human\": \"General\", \"Label\": 1}, {\"TITLE\": \"Tesco to Sell Polish Business to Danish Retailer Salling\", \"Human\": \"Opportunity\", \"Label\": 2}, {\"TITLE\": \"Tesco sells Polish supermarket business - BBC News\", \"Human\": \"Opportunity\", \"Label\": 2}, {\"TITLE\": \"Tesco sells Polish supermarket business\", \"Human\": \"General\", \"Label\": 1}, {\"TITLE\": \"ANZ Sees at Least One Further Indonesian Rate Cut in 3Q\", \"Human\": \"Risk\", \"Label\": 8}, {\"TITLE\": \"UBS, Credit Suisse May Face Worsening Credit Quality, SNB Warns\", \"Human\": \"Risk\", \"Label\": 8}, {\"TITLE\": \"HSBC Hits Out at 'Internet Rumors' With China Investment Pledge\", \"Human\": \"Risk\", \"Label\": 8}, {\"TITLE\": \"Unilever Brazil laundry franchise deal may presage new business push - Reuters\", \"Human\": \"Opportunity\", \"Label\": 2}, {\"TITLE\": \"I ate Blaze Pizza's new pizza crust made with Mango White Claw instead of water and liked it better than the original\", \"Human\": \"General\", \"Label\": 1}, {\"TITLE\": \"The $186,000 Aston Martin Vantage is the most exciting car I've driven in 2020. Here's how this amazing machine takes on Porsche, Mercedes, and even Ferrari.\", \"Human\": \"General\", \"Label\": 1}, {\"TITLE\": \"Barclays Questioning Leaves Staveley in Tears in $2 Billion Case\", \"Human\": \"Risk\", \"Label\": 8}, {\"TITLE\": \"Berman to CNN: I'm just here to do my job\", \"Human\": \"General\", \"Label\": 1}, {\"TITLE\": \"In pictures: Trump returns to campaign trail\", \"Human\": \"General\", \"Label\": 1}, {\"TITLE\": \"Which Disney Channel Star Is Your BFF Based On Your Pizza Preferences?\", \"Human\": \"General\", \"Label\": 1}, {\"TITLE\": \"The big oil turnaround: From negative prices to a bull market - BNNBloomberg.ca\", \"Human\": \"Opportunity\", \"Label\": 2}, {\"TITLE\": \"Tapper: Once again, Trump is revealing this\", \"Human\": \"General\", \"Label\": 1}, {\"TITLE\": \"UniCredit CEO calls for clarity on banks' dividend prospects\", \"Human\": \"General\", \"Label\": 1}, {\"TITLE\": \"UBS COO Says One-Third of Staff Could Permanently Work Remotely\", \"Human\": \"General\", \"Label\": 1}, {\"TITLE\": \"UBS COO Says One-Third of Staff Could Permanently Work From Home\", \"Human\": \"General\", \"Label\": 1}, {\"TITLE\": \"CANADA STOCKS-TSX futures rise on higher oil prices - Reuters\", \"Human\": \"Revenue Growth\", \"Label\": 6}, {\"TITLE\": \"TSX futures rise on higher oil prices - Reuters Canada\", \"Human\": \"Revenue Growth\", \"Label\": 6}, {\"TITLE\": \"COLUMN-Oil prices transitioning to next phase of cycle: Kemp - Reuters\", \"Human\": \"General\", \"Label\": 1}, {\"TITLE\": \"BRIEF-UBS to offer U.S. wealth management clients third-party asset management - Reuters\", \"Human\": \"Opportunity\", \"Label\": 2}, {\"TITLE\": \"Column: Oil prices transitioning to next phase of cycle - Reuters UK\", \"Human\": \"General\", \"Label\": 1}, {\"TITLE\": \"CANADA STOCKS-Energy stocks lift TSX as oil prices gain - Reuters\", \"Human\": \"General\", \"Label\": 1}, {\"TITLE\": \"French restaurant settles with Axa in tussle over lockdown losses - Reuters\", \"Human\": \"General\", \"Label\": 1}, {\"TITLE\": \"Can We Guess If You're An Introvert, Extrovert, Or Ambivert By Your Taste In Pizza Toppings?\", \"Human\": \"General\", \"Label\": 1}, {\"TITLE\": \"Lions owner Firestone Ford steps down, daughter takes over - Reuters Canada\", \"Human\": \"Organizational Change\", \"Label\": 3}, {\"TITLE\": \"French restaurant settles with Axa in tussle over lockdown losses - Reuters India\", \"Human\": \"General\", \"Label\": 1}, {\"TITLE\": \"Oil prices slides as U.S. crude stockpile growth heightens oversupply fears - Reuters India\", \"Human\": \"Revenue Growth\", \"Label\": 6}, {\"TITLE\": \"Japan car sales recovering after big fall in April, May - Nissan executive - Reuters India\", \"Human\": \"Revenue Growth\", \"Label\": 6}, {\"TITLE\": \"BRIEF-Unicredit Says EIB To Provide Unicredit Bank Srbija EUR 30 Mln Loan For SMEs - Reuters\", \"Human\": \"General\", \"Label\": 1}, {\"TITLE\": \"CANADA STOCKS-TSX futures fall on weaker oil prices - Reuters\", \"Human\": \"Revenue Warning\", \"Label\": 7}, {\"TITLE\": \"TSX futures fall on weaker oil prices - Reuters Canada\", \"Human\": \"Revenue Warning\", \"Label\": 7}, {\"TITLE\": \"Opinion: Trump is not 'kidding,' he's lying\", \"Human\": \"General\", \"Label\": 1}, {\"TITLE\": \"Kia redesigned its minivan to make it look like an SUV and now calls it a 'Grand Utility Vehicle' ? take a look at the new Sedona\", \"Human\": \"General\", \"Label\": 1}, {\"TITLE\": \"U.S. probes Kia headlight failures, GM steering issues - Reuters\", \"Human\": \"General\", \"Label\": 1}, {\"TITLE\": \"Queen's private banker Coutts aims for a greener portfolio - Reuters\", \"Human\": \"Opportunity\", \"Label\": 2}, {\"TITLE\": \"Queen's private banker Coutts aims for a greener portfolio - Reuters UK\", \"Human\": \"Opportunity\", \"Label\": 2}, {\"TITLE\": \"Queen's private banker Coutts aims for a greener portfolio - Reuters India\", \"Human\": \"Opportunity\", \"Label\": 2}, {\"TITLE\": \"Fiat Chrysler's Dodge, Kia Motors top J.D. Power quality study - Reuters\", \"Human\": \"General\", \"Label\": 1}, {\"TITLE\": \"U.S. energy producers sought bailout as oil prices fell: Dallas Fed survey - Reuters\", \"Human\": \"Revenue Warning\", \"Label\": 7}, {\"TITLE\": \"Oil prices hold ground after sharp retreat on virus fears - Reuters\", \"Human\": \"Risk\", \"Label\": 8}, {\"TITLE\": \"Oil prices fall further on virus fears, U.S. crude stock build - Reuters Africa\", \"Human\": \"Risk\", \"Label\": 8}, {\"TITLE\": \"Oil prices fall further on virus fears, U.S. crude stock build - Reuters India\", \"Human\": \"Risk\", \"Label\": 8}, {\"TITLE\": \"Ford signs deal with Vodafone for private 5G network in UK - Reuters\", \"Human\": \"Opportunity\", \"Label\": 2}, {\"TITLE\": \"Orcel's ?112 million claim against Santander in court September 14 - Reuters UK\", \"Human\": \"General\", \"Label\": 1}, {\"TITLE\": \"Orcel's 112 million euro claim against Santander in court Sept. 14 - Reuters\", \"Human\": \"General\", \"Label\": 1}, {\"TITLE\": \"TSX futures drop on weaker oil prices - Reuters Canada\", \"Human\": \"General\", \"Label\": 1}, {\"TITLE\": \"Nissan to lay off 200 Mexico workers amid global auto slowdown - Reuters\", \"Human\": \"General\", \"Label\": 1}, {\"TITLE\": \"Nissan to lay off 200 Mexico workers amid global auto slowdown - Reuters India\", \"Human\": \"General\", \"Label\": 1}, {\"TITLE\": \"UPDATE 1-Electric vehicle startup to unveil truck at former GM Ohio auto plant - Reuters\", \"Human\": \"Opportunity\", \"Label\": 2}, {\"TITLE\": \"Ford is livestreaming the all-new Ford F-150 pickup truck official reveal tonight. Here's how to watch.\", \"Human\": \"General\", \"Label\": 1}, {\"TITLE\": \"HSBC Plans to Double Mobile Bank Users in Cost-Cutting Drive\", \"Human\": \"Opportunity\", \"Label\": 2}, {\"TITLE\": \"Oil prices crawl up on demand recovery, tempered by virus outbreaks - Reuters\", \"Human\": \"General\", \"Label\": 1}, {\"TITLE\": \"EU needs stronger markets watchdog for COVID recovery, Barclays says - Reuters UK\", \"Human\": \"Covid\", \"Label\": 0}, {\"TITLE\": \"Ford, other automakers will stay neutral on challenges to Trump vehicle emissions rule: document - Reuters\", \"Human\": \"Risk\", \"Label\": 8}, {\"TITLE\": \"Ford, other automakers will stay neutral on challenges to Trump vehicle emissions rule - document - Reuters India\", \"Human\": \"Risk\", \"Label\": 8}, {\"TITLE\": \"Lamborghini Gets Wrecked 20 Minutes After Purchase\", \"Human\": \"General\", \"Label\": 1}, {\"TITLE\": \"McConnell contrasts Trump to encourage wearing masks\", \"Human\": \"General\", \"Label\": 1}, {\"TITLE\": \"Nissan CEO repeats pledge to step down if he fails to deliver recovery - Reuters\", \"Human\": \"Organizational Change\", \"Label\": 3}, {\"TITLE\": \"Nissan denies corporate conspiracy to oust ex-chairman Ghosn - Reuters UK\", \"Human\": \"Organizational Change\", \"Label\": 3}, {\"TITLE\": \"Nissan denies corporate conspiracy to oust ex-chairman Ghosn - Reuters UK\", \"Human\": \"Organizational Change\", \"Label\": 3}, {\"TITLE\": \"Nissan denies corporate conspiracy to oust Ghosn - Reuters\", \"Human\": \"Organizational Change\", \"Label\": 3}, {\"TITLE\": \"Nissan to launch seven models in Africa to pursue growth - Reuters UK\", \"Human\": \"Opportunity\", \"Label\": 2}, {\"TITLE\": \"Nissan to launch 7 models in Africa to pursue growth - Reuters\", \"Human\": \"Opportunity\", \"Label\": 2}, {\"TITLE\": \"Ferrari forced to make a major redesign of their car\", \"Human\": \"Opportunity\", \"Label\": 2}, {\"TITLE\": \"Ferrari have had to redesign flawed F1 car, says Binotto - Reuters UK\", \"Human\": \"Press Release\", \"Label\": 4}, {\"TITLE\": \"Lamborghini partnered with a boat maker to create this $3.4 million 'motor yacht' that looks like a supercar ? take a closer look\", \"Human\": \"Opportunity\", \"Label\": 2}, {\"TITLE\": \"Dow CEO Jim Fitterling on Diversity, Sustainability and Dealing With Coronavirus\", \"Human\": \"General\", \"Label\": 1}, {\"TITLE\": \"Review: The $297,250 Ferrari F8 Spider Roars, Glides, and Bites\", \"Human\": \"General\", \"Label\": 1}, {\"TITLE\": \"HSBC hires former Deutsche Bank executives to Southeast Asia equity division - Reuters UK\", \"Human\": \"Organizational Change\", \"Label\": 3}, {\"TITLE\": \"HSBC hires former Deutsche Bank executives to Southeast Asia equity division - Reuters UK\", \"Human\": \"General\", \"Label\": 1}, {\"TITLE\": \"Should You Worry About Eni S.p.A.'s (BIT:ENI) CEO Pay?\", \"Human\": \"General\", \"Label\": 1}, {\"TITLE\": \"NMC Health lender applies to court for administration\", \"Human\": \"Organizational Change\", \"Label\": 3}, {\"TITLE\": \"Hedge Funds Have Never Been More Bullish On PLDT Inc. (PHI)\", \"Human\": \"General\", \"Label\": 1}, {\"TITLE\": \"Lloyds Bank plc - Results Of Tender Offer for Any and All of Its 12.00% Fixed-to-floating Rate Perpetual Capital Securities\", \"Human\": \"General\", \"Label\": 1}, {\"TITLE\": \"Lloyds Bank plc - Results of Tender Offer for Certain of Its Outstanding Senior Notes\", \"Human\": \"General\", \"Label\": 1}, {\"TITLE\": \"Natwest struggling to cope with volume of calls for emergency loans\", \"Human\": \"General\", \"Label\": 1}, {\"TITLE\": \"Matillion Recognized as a UK Leading Tech Company by Future Fifty; Matillion ETL Named Overall Data Tech Solution of The Year by Data Breakthrough Awards\", \"Human\": \"General\", \"Label\": 1}, {\"TITLE\": \"UniCredit renews commitment to boosting shareholder returns: chairman\", \"Human\": \"Press Release\", \"Label\": 4}, {\"TITLE\": \"UniCredit renews commitment to boosting shareholder returns: chairman\", \"Human\": \"Press Release\", \"Label\": 4}, {\"TITLE\": \"British American Tobacco files patent suits against Philip Morris' IQOS products\", \"Human\": \"General\", \"Label\": 1}, {\"TITLE\": \"British American Tobacco files patent suits against Philip Morris' IQOS products\", \"Human\": \"General\", \"Label\": 1}, {\"TITLE\": \"British American Tobacco files patent suits against Philip Morris' IQOS products\", \"Human\": \"General\", \"Label\": 1}, {\"TITLE\": \"PLDT (PHI) Gains But Lags Market: What You Should Know\", \"Human\": \"General\", \"Label\": 1}, {\"TITLE\": \"Exclusive: Italy's government set to reappoint Eni and Enel CEOs - source\", \"Human\": \"Organizational Change\", \"Label\": 3}, {\"TITLE\": \"Exclusive: Italy's government set to reappoint Eni and Enel CEOs - source\", \"Human\": \"Organizational Change\", \"Label\": 3}, {\"TITLE\": \"Exclusive: Italy's government set to reappoint Eni and Enel CEOs - source\", \"Human\": \"Organizational Change\", \"Label\": 3}, {\"TITLE\": \"Berger Montague Investigates Securities Fraud Class Action Claims Against NMC Health Plc (OTC Pink: NMHLY); Lead Plaintiff Deadline is May 11, 2020\", \"Human\": \"Risk\", \"Label\": 8}, {\"TITLE\": \"NMHLY Loss Notice: Rosen, A Top Firm, Reminds NMC Health Plc Investors With Large Losses Of The Important May 11 Deadline In The Class Action Seeking Recovery Of Investor Losses First Filed By The Firm - NMHLY\", \"Human\": \"General\", \"Label\": 1}, {\"TITLE\": \"SHAREHOLDER ALERT: Pomerantz Law Firm Reminds Shareholders with Losses on their Investment in NMC Health Plc of Class Action Lawsuit and Upcoming Deadline - NMHLY\", \"Human\": \"Revenue Warning\", \"Label\": 7}, {\"TITLE\": \"Administrators of NMC Health revamp company's board\", \"Human\": \"Organizational Change\", \"Label\": 3}, {\"TITLE\": \"Administrators of NMC Health revamp company's board\", \"Human\": \"Organizational Change\", \"Label\": 3}, {\"TITLE\": \"ADCB files criminal complaint against individuals linked to NMC Health\", \"Human\": \"General\", \"Label\": 1}, {\"TITLE\": \"ADCB files criminal complaint against individuals linked to NMC Health\", \"Human\": \"General\", \"Label\": 1}, {\"TITLE\": \"?No Coke, Pepsi? will be the motto for the NFL?s 58 on-air draft prospects\", \"Human\": \"General\", \"Label\": 1}, {\"TITLE\": \"Barclays Activist Investor Withholds CEO Reappointment Vote\", \"Human\": \"Organizational Change\", \"Label\": 3}, {\"TITLE\": \"Santander launches money transfer app in UK to fend off competition from fintechs\", \"Human\": \"Opportunity\", \"Label\": 2}, {\"TITLE\": \"Santander launches money transfer app in UK to fend off competition from fintechs\", \"Human\": \"Opportunity\", \"Label\": 2}, {\"TITLE\": \"British insurer Aviva halts executive bonuses, pay rises\", \"Human\": \"General\", \"Label\": 1}, {\"TITLE\": \"PLDT (PHI) Stock Sinks As Market Gains: What You Should Know\", \"Human\": \"Press Release\", \"Label\": 4}, {\"TITLE\": \"Institutional investors tell Big Pharma to cooperate on coronavirus\", \"Human\": \"Covid\", \"Label\": 0}, {\"TITLE\": \"Institutional investors tell Big Pharma to cooperate on coronavirus\", \"Human\": \"Covid\", \"Label\": 0}, {\"TITLE\": \"Institutional investors tell Big Pharma to cooperate on coronavirus\", \"Human\": \"Covid\", \"Label\": 0}, {\"TITLE\": \"Things You Must Know Ahead of Philip Morris' (PM) Q1 Earnings\", \"Human\": \"General\", \"Label\": 1}, {\"TITLE\": \"Donald Trump warns of consequences if China was knowingly responsible for coronavirus\", \"Human\": \"Covid\", \"Label\": 0}, {\"TITLE\": \"Putin says coronavirus crisis under full control despite record rise in cases\", \"Human\": \"Covid\", \"Label\": 0}, {\"TITLE\": \"Australia?s Current-Account Conquest Could Save its Prized AAA\", \"Human\": \"General\", \"Label\": 1}, {\"TITLE\": \"Australia?s Current-Account Conquest Could Save its Prized AAA\", \"Human\": \"General\", \"Label\": 1}, {\"TITLE\": \"Putin warns Russia's coronavirus crisis yet to peak as cases surpass 47,000\", \"Human\": \"Covid\", \"Label\": 0}, {\"TITLE\": \"2020 BMW X7 Review and Buying Guide | Ultimate Opulence Machine\", \"Human\": \"General\", \"Label\": 1}, {\"TITLE\": \"Pepsi Scores FTC Approval For $3.85 Billion Rockstar Deal\", \"Human\": \"Opportunity\", \"Label\": 2}, {\"TITLE\": \"HSBC reshuffles top investment bank jobs: memo\", \"Human\": \"Press Release\", \"Label\": 4}, {\"TITLE\": \"HSBC reshuffles top investment bank jobs: memo\", \"Human\": \"Press Release\", \"Label\": 4}, {\"TITLE\": \"NatWest presses ahead with more job cuts in face of coronavirus crisis\", \"Human\": \"Covid\", \"Label\": 0}, {\"TITLE\": \"Donald Trump Jr. Erupts As Facebook Cuts Dangerous COVID-19 Protest Posts\", \"Human\": \"Covid\", \"Label\": 0}, {\"TITLE\": \"Coke volume plunged 25% in April; sees bounce-back coming\", \"Human\": \"Revenue Warning\", \"Label\": 7}, {\"TITLE\": \"Paychex Aligns with FinTech Providers to Help Businesses Rapidly Apply for New Paycheck Protection Program Funding, Once Available\", \"Human\": \"General\", \"Label\": 1}, {\"TITLE\": \"Earth Day 2020: Driving the Mercedes-Benz Vision EQS Concept in Japan\", \"Human\": \"General\", \"Label\": 1}, {\"TITLE\": \"How Has Philip Morris' Q1 Earnings Beat Impacted Staples ETFs?\", \"Human\": \"General\", \"Label\": 1}, {\"TITLE\": \"UniCredit appoints Hecker as global head of equity capital markets\", \"Human\": \"Organizational Change\", \"Label\": 3}, {\"TITLE\": \"UniCredit appoints Hecker as global head of equity capital markets\", \"Human\": \"Organizational Change\", \"Label\": 3}, {\"TITLE\": \"Sapiens Announces a New Version of its Insurance Underwriting Solution\", \"Human\": \"General\", \"Label\": 1}, {\"TITLE\": \"Sapiens Announces a New Version of its Insurance Underwriting Solution\", \"Human\": \"General\", \"Label\": 1}, {\"TITLE\": \"Amazon employees say the company used data from 3rd-party sellers to make its own products, a practice the company has denied for years\", \"Human\": \"General\", \"Label\": 1}, {\"TITLE\": \"Canada AAA on the Line as Oil Crash Hits Provincial Coffers\", \"Human\": \"Revenue Warning\", \"Label\": 7}, {\"TITLE\": \"Eni Reports 94% Slump in Profit, Cuts Production Forecast\", \"Human\": \"Profit Warning\", \"Label\": 5}, {\"TITLE\": \"NMC HEALTH PLC UPDATE: Berger Montague Updates Investors Regarding Securities Fraud Claims Against NMC Health Plc. U.S. Class Action Lead Plaintiff Deadline is May 11, 2020\", \"Human\": \"Risk\", \"Label\": 8}, {\"TITLE\": \"ROSEN, A GLOBALLY RECOGNIZED FIRM, Reminds NMC Health Plc Investors of Important May 11th Deadline in First Filed Securities Class Action Commenced By the Firm\", \"Human\": \"General\", \"Label\": 1}, {\"TITLE\": \"Were Hedge Funds Right About Philip Morris International Inc. (PM)?\", \"Human\": \"General\", \"Label\": 1}, {\"TITLE\": \"RBC Capital Picks Pepsi Over Coca Cola Ahead of Q1 Earnings\", \"Human\": \"General\", \"Label\": 1}, {\"TITLE\": \"NMC Health requests delisting from LSE\", \"Human\": \"General\", \"Label\": 1}, {\"TITLE\": \"NMC Health requests delisting from LSE\", \"Human\": \"General\", \"Label\": 1}, {\"TITLE\": \"Is There An Opportunity With Fincantieri S.p.A.'s (BIT:FCT) 50% Undervaluation?\", \"Human\": \"General\", \"Label\": 1}, {\"TITLE\": \"RRS Medical Expands its Secure PHI Transfer Reach with a Strategic Acquisition\", \"Human\": \"Opportunity\", \"Label\": 2}, {\"TITLE\": \"Santander Takes Biggest Provision Hit in Europe for Virus Impact\", \"Human\": \"General\", \"Label\": 1}, {\"TITLE\": \"HSBC profits halved by coronavirus pandemic impact\", \"Human\": \"Covid\", \"Label\": 0}, {\"TITLE\": \"Santander Consumer USA Holdings Inc. Reports First Quarter 2020 Results\", \"Human\": \"General\", \"Label\": 1}, {\"TITLE\": \"Santander Consumer USA Holdings Inc. Postpones Earnings Conference Call\", \"Human\": \"General\", \"Label\": 1}, {\"TITLE\": \"How Does Sapiens International's (NASDAQ:SPNS) P/E Compare To Its Industry, After Its Big Share Price Gain?\", \"Human\": \"General\", \"Label\": 1}, {\"TITLE\": \"Santander Consumer USA Holdings Inc. Announces Earnings Conference Call Update\", \"Human\": \"General\", \"Label\": 1}, {\"TITLE\": \"Barclays warns pandemic could cost it \\u009c2.1bn\", \"Human\": \"Revenue Warning\", \"Label\": 7}, {\"TITLE\": \"COVID-19 has 'changed everything', RBS Chairman says\", \"Human\": \"Covid\", \"Label\": 0}, {\"TITLE\": \"Banco Santander M\\u0082xico Reports First Quarter 2020 Net Income of Ps.5,414 Million\", \"Human\": \"Revenue Growth\", \"Label\": 6}, {\"TITLE\": \"Donald Trump accuses China of doing 'anything they can' to prevent his re-election\", \"Human\": \"Organizational Change\", \"Label\": 3}, {\"TITLE\": \"Secretary Pompeo: We know the COVID-19 crisis began in Wuhan and the Chinese government tried to cover it up\", \"Human\": \"Covid\", \"Label\": 0}, {\"TITLE\": \"Lloyds Books 1.4 Billion-Pound Loan Charge and Scraps Forecasts\", \"Human\": \"General\", \"Label\": 1}, {\"TITLE\": \"Hefty coronavirus provision hammers profits at Lloyds Bank\", \"Human\": \"Covid\", \"Label\": 0}, {\"TITLE\": \"Royal Bank of Scotland Sets Aside $1 Billion For Bad Loans\", \"Human\": \"General\", \"Label\": 1}, {\"TITLE\": \"RBS profits halved by coronavirus hit, drops B\\u00a2 brand\", \"Human\": \"Covid\", \"Label\": 0}, {\"TITLE\": \"Norway wealth fund backs Barclays climate goals amid investor pressure\", \"Human\": \"General\", \"Label\": 1}, {\"TITLE\": \"Glendora PD arrests man 3 times in 1 day under new CA bail policy\", \"Human\": \"General\", \"Label\": 1}, {\"TITLE\": \"Drugs for heartburn, gout and depression now being tested as coronavirus treatments\", \"Human\": \"Covid\", \"Label\": 0}, {\"TITLE\": \"Reviewing 2019 Late-Year Breakouts - RBs & WRs\", \"Human\": \"General\", \"Label\": 1}, {\"TITLE\": \"HSBC to Take Full Control of Chinese Life Insurance Venture\", \"Human\": \"General\", \"Label\": 1}, {\"TITLE\": \"Should We Worry About Banco Santander, S.A.'s (BME:SAN) P/E Ratio?\", \"Human\": \"General\", \"Label\": 1}, {\"TITLE\": \"Sapiens to Announce First Quarter 2020 Financial Results on May 14, 2020\", \"Human\": \"Press Release\", \"Label\": 4}, {\"TITLE\": \"Investors Who Bought AXA (EPA:CS) Shares Three Years Ago Are Now Down 35%\", \"Human\": \"General\", \"Label\": 1}, {\"TITLE\": \"Here's What You Should Know About Santander Consumer USA Holdings Inc.'s (NYSE:SC) 5.9% Dividend Yield\", \"Human\": \"Revenue Growth\", \"Label\": 6}, {\"TITLE\": \"Were Hedge Funds Right About HSBC Holdings plc (HSBC)?\", \"Human\": \"General\", \"Label\": 1}, {\"TITLE\": \"India's Delhi imposes 70% 'corona tax' on alcohol to deter large crowds\", \"Human\": \"Covid\", \"Label\": 0}, {\"TITLE\": \"Is Now An Opportune Moment To Examine Lloyds Banking Group plc (LON:LLOY)?\", \"Human\": \"General\", \"Label\": 1}, {\"TITLE\": \"Arrowpoint Capital Upgrades Its Cloud-based Reinsurance Capabilities With Sapiens\", \"Human\": \"General\", \"Label\": 1}, {\"TITLE\": \"Arrowpoint Capital Upgrades Its Cloud-based Reinsurance Capabilities With Sapiens\", \"Human\": \"General\", \"Label\": 1}, {\"TITLE\": \"Paychex Study Finds Majority of Paycheck Protection Program Applicants Face Loan Status Uncertainty\", \"Human\": \"General\", \"Label\": 1}, {\"TITLE\": \"Coronavirus: Barclays customers struggle to get 'vital' loans\", \"Human\": \"Covid\", \"Label\": 0}, {\"TITLE\": \"Utah boy, 5, pulled over driving to California to buy a Lamborghini\", \"Human\": \"General\", \"Label\": 1}, {\"TITLE\": \"French insurer AXA warns coronavirus to have material impact on 2020 earnings\", \"Human\": \"Covid\", \"Label\": 0}, {\"TITLE\": \"UniCredit Posts $2.9 Billion Loss\", \"Human\": \"Profit Warning\", \"Label\": 5}, {\"TITLE\": \"HSBC seeks judicial management for Singapore's Zenrock Commodities - sources\", \"Human\": \"General\", \"Label\": 1}, {\"TITLE\": \"AXA upgrades \\\"Mind Health\\\" programme for its corporate customers with digital wellness tools and exclusive partnerships to provide mental health support under the pandemic\", \"Human\": \"General\", \"Label\": 1}, {\"TITLE\": \"UniCredit warns of prolonged virus impact after $3 billion loss\", \"Human\": \"Revenue Warning\", \"Label\": 7}, {\"TITLE\": \"HSBC Targets Singapore Oil Trader as Loan Concerns Escalate\", \"Human\": \"General\", \"Label\": 1}, {\"TITLE\": \"HSBC Taiwan partners with Ascenda to enhance rewards offering\", \"Human\": \"General\", \"Label\": 1}, {\"TITLE\": \"HSBC, BNP Repeatedly Breached Trading Limits in Market Chaos\", \"Human\": \"General\", \"Label\": 1}, {\"TITLE\": \"Paychex Charitable Foundation Donates $1M to United Way to Help Address Impacts of COVID-19\", \"Human\": \"Covid\", \"Label\": 0}, {\"TITLE\": \"Pepsi Teams up with Local Communities to Spotlight Frontline Workers in New \\\"Stronger Together\\\" Campaign\", \"Human\": \"General\", \"Label\": 1}, {\"TITLE\": \"American captured over alleged Venezuelan coup plot says Donald Trump ordered plan\", \"Human\": \"Risk\", \"Label\": 8}, {\"TITLE\": \"Were Hedge FundsRight About Paychex, Inc. (PAYX)?\", \"Human\": \"General\", \"Label\": 1}, {\"TITLE\": \"Were Hedge Funds Right About Sapiens International Corporation (SPNS)?\", \"Human\": \"General\", \"Label\": 1}, {\"TITLE\": \"Chemical leak at LG plant in India kills 8, nearly 1,000 ill\", \"Human\": \"General\", \"Label\": 1}, {\"TITLE\": \"UK parliament tells Barclays CEO: explain emergency business loans delays\", \"Human\": \"General\", \"Label\": 1}, {\"TITLE\": \"UK parliament tells Barclays CEO: explain emergency business loans delays\", \"Human\": \"General\", \"Label\": 1}, {\"TITLE\": \"Thomson Reuters to Present at the 2020 Barclays Americas Select Franchise Conference\", \"Human\": \"General\", \"Label\": 1}, {\"TITLE\": \"Rep. Jim Jordan reacts to DOJ dropping case against Flynn: Good day for America and AG Barr\", \"Human\": \"General\", \"Label\": 1}, {\"TITLE\": \"Singapore Police Raid Oil Trader After HSBC Allegations\", \"Human\": \"Risk\", \"Label\": 8}, {\"TITLE\": \"Putin attends slimmed down Victory Day celebrations\", \"Human\": \"General\", \"Label\": 1}, {\"TITLE\": \"Italian aid worker kidnapped in Kenya has been freed: PM Conte\", \"Human\": \"General\", \"Label\": 1}, {\"TITLE\": \"Manchester City owners add Belgian club Lommel SK to roster\", \"Human\": \"General\", \"Label\": 1}, {\"TITLE\": \"AXA XL rolls out Technology Adoption Maturity Index (TAMI), a tech benchmarking service for construction clients\", \"Human\": \"General\", \"Label\": 1}, {\"TITLE\": \"Lloyds Bank Plc Commences a Cash Tender Offer for Certain of Its Outstanding Senior Notes\", \"Human\": \"General\", \"Label\": 1}, {\"TITLE\": \"Truist to Present at the Barclays Americas Select Franchise Conference\", \"Human\": \"General\", \"Label\": 1}, {\"TITLE\": \"Shell, Eni lead oil majors' climate ambitions but still fall short - investors\", \"Human\": \"General\", \"Label\": 1}, {\"TITLE\": \"Aker BP ASA (OB:AKERBP) Analysts Just Slashed This Year's Estimates\", \"Human\": \"General\", \"Label\": 1}, {\"TITLE\": \"HSBC Sees Oil and Virus Turmoil Boosting Middle East Deals\", \"Human\": \"Profit Warning\", \"Label\": 5}, {\"TITLE\": \"Exclusive: Thyssenkrupp, Fincantieri in talks to form warship champion - source\", \"Human\": \"General\", \"Label\": 1}, {\"TITLE\": \"Fantasy Football 2020: David Montgomery among ESPN's 'favorite RBs to target'\", \"Human\": \"General\", \"Label\": 1}, {\"TITLE\": \"Acquiring Grubhub is the next logical step for Uber: Barclays\", \"Human\": \"Opportunity\", \"Label\": 2}, {\"TITLE\": \"Exclusive: Thyssenkrupp, Fincantieri in talks to form warship champion - source\", \"Human\": \"General\", \"Label\": 1}, {\"TITLE\": \"Acquitted former Barclays rainmaker Jenkins plots gentler comeback\", \"Human\": \"Organizational Change\", \"Label\": 3}, {\"TITLE\": \"Goldman-Backed FX Platform Clinches HSBC, Citigroup Funding\", \"Human\": \"General\", \"Label\": 1}, {\"TITLE\": \"Aegon Asset Management reports significant boost in responsible investment activities\", \"Human\": \"General\", \"Label\": 1}, {\"TITLE\": \"Man charged in death threats to Michigan governor, AG\", \"Human\": \"General\", \"Label\": 1}, {\"TITLE\": \"The Zacks Analyst Blog Highlights: ExxonMobil, Chevron, BP, Equinor and Royal Dutch Shell\", \"Human\": \"General\", \"Label\": 1}, {\"TITLE\": \"Microsoft Buys Metaswitch For Cloud-Based Telecoms Move, 5G Expansion\", \"Human\": \"Opportunity\", \"Label\": 2}, {\"TITLE\": \"Merkel: Coronavirus pandemic will be overcome quicker if world works together\", \"Human\": \"Covid\", \"Label\": 0}, {\"TITLE\": \"Santander Consumer USA Holdings Inc. Announces Change to a Virtual Meeting Format for 2020 Annual Meeting of Shareholders\", \"Human\": \"General\", \"Label\": 1}, {\"TITLE\": \"Lloyds Bank plc - Results of Tender Offer for Certain of Its Outstanding Senior Notes\", \"Human\": \"General\", \"Label\": 1}, {\"TITLE\": \"Santander Consumer USA Provides Statement on Settlement with Attorneys General\", \"Human\": \"General\", \"Label\": 1}, {\"TITLE\": \"How Does Prada S.p.A.'s (HKG:1913) Earnings Growth Stack Up Against Industry Performance?\", \"Human\": \"General\", \"Label\": 1}, {\"TITLE\": \"Negative Interest Rates Are Last on BOE List, Barclays Says\", \"Human\": \"General\", \"Label\": 1}, {\"TITLE\": \"Hertz just put more than 20 identical yellow 2019 Corvettes up for sale at a steep discount as the company reportedly prepares for a potential bankruptcy\", \"Human\": \"General\", \"Label\": 1}, {\"TITLE\": \"Starboard Delivers Open Letter to GCP Shareholders\", \"Human\": \"General\", \"Label\": 1}, {\"TITLE\": \"Putin urges more testing as Russia's coronavirus death toll climbs\", \"Human\": \"Covid\", \"Label\": 0}, {\"TITLE\": \"UK court throws out Nigerian oil corruption case against Shell, Eni\", \"Human\": \"General\", \"Label\": 1}, {\"TITLE\": \"Insurer AXA must pay restaurant's COVID-19 losses, French court rules\", \"Human\": \"General\", \"Label\": 1}, {\"TITLE\": \"Coronavirus: Car rental firm Hertz files for bankruptcy - Yahoo Finance\", \"Human\": \"General\", \"Label\": 1}, {\"TITLE\": \"Trump claims Jeff Sessions not 'mentally qualified' to be AG as feud escalates\", \"Human\": \"General\", \"Label\": 1}, {\"TITLE\": \"Trump claims Jeff Sessions not 'mentally qualified' to be AG as feud escalates\", \"Human\": \"General\", \"Label\": 1}, {\"TITLE\": \"Trump says Sessions wasn't 'mentally qualified' for AG position as feud reignites\", \"Human\": \"General\", \"Label\": 1}, {\"TITLE\": \"The inconvenient truth is that Boris Johnson needs an enforcer\", \"Human\": \"General\", \"Label\": 1}, {\"TITLE\": \"Insurer AXA to pay out to restaurants after court ruling\", \"Human\": \"General\", \"Label\": 1}, {\"TITLE\": \"Insurer AXA to pay out to restaurants after court ruling\", \"Human\": \"General\", \"Label\": 1}, {\"TITLE\": \"CallCabinet's Cloud Call Recording Solution Receives Metaswitch Certification\", \"Human\": \"General\", \"Label\": 1}, {\"TITLE\": \"Starboard Delivers Open Letter to GCP Shareholders\", \"Human\": \"General\", \"Label\": 1}, {\"TITLE\": \"The CEO of Hertz will get a $700,000 payday as his 102-year-old company crumbles into bankruptcy\", \"Human\": \"Revenue Warning\", \"Label\": 7}, {\"TITLE\": \"Putin says worst case coronavirus scenario in Moscow averted as lockdown unwinds\", \"Human\": \"Covid\", \"Label\": 0}, {\"TITLE\": \"WRAPUP 1-Royal Bank of Canada, BMO profits halved amid billions of dollars in loan-loss provisions\", \"Human\": \"General\", \"Label\": 1}, {\"TITLE\": \"Police say Connecticut murder suspect took Uber to Walmart after suspected killings\", \"Human\": \"General\", \"Label\": 1}, {\"TITLE\": \"Royal Bank of Canada, BMO profits halved amid billions of dollars in loan-loss provisions\", \"Human\": \"General\", \"Label\": 1}, {\"TITLE\": \"David C. Lawler named next chief of bp America\", \"Human\": \"Organizational Change\", \"Label\": 3}, {\"TITLE\": \"UK business confidence matches 2008 low in May - Lloyds Bank\", \"Human\": \"General\", \"Label\": 1}, {\"TITLE\": \"Royal Bank of Canada (RY) Q2 Earnings Disappoint, Provisions Up\", \"Human\": \"General\", \"Label\": 1}, {\"TITLE\": \"Hedge Funds Aren?t Done Selling Aegon N.V. (AEG)\", \"Human\": \"General\", \"Label\": 1}, {\"TITLE\": \"Boris Johnson blocks Corbyn?s recommendation for John Bercow peerage\", \"Human\": \"General\", \"Label\": 1}, {\"TITLE\": \"Kremlin says Putin 'supports dialogue' after Trump's proposed G7 invite\", \"Human\": \"General\", \"Label\": 1}, {\"TITLE\": \"Santander Cash Nexus named \\\"Best Payment Hub Solution\\\" by Global Finance Magazine\", \"Human\": \"General\", \"Label\": 1}, {\"TITLE\": \"Minnesota AG says 4 officers will be charged to 'highest degree of accountability'\", \"Human\": \"General\", \"Label\": 1}, {\"TITLE\": \"Amazon benefitting from an accelerated shift to eCommerce, says UBS\", \"Human\": \"General\", \"Label\": 1}, {\"TITLE\": \"Finance chief who guided Tesco from scandal to turnaround to retire\", \"Human\": \"General\", \"Label\": 1}, {\"TITLE\": \"OTC Markets Group Introduces Risk Scoring to its Small Cap Listed Compliance Product\", \"Human\": \"General\", \"Label\": 1}, {\"TITLE\": \"Special Report: U.S. school closures dramatically shrinking public education, Reuters finds\", \"Human\": \"General\", \"Label\": 1}, {\"TITLE\": \"SysAid Launches Worksafe App to Reduce COVID-19 Self-Reporting Burdens and Compliance Risk as Employees Return to Work\", \"Human\": \"Covid\", \"Label\": 0}, {\"TITLE\": \"JPMorgan, Barclays settle Mexican bond rigging litigation\", \"Human\": \"General\", \"Label\": 1}, {\"TITLE\": \"China warns the UK to 'step back from the brink' after Boris Johnson offers 3 million Hong Kong citizens refuge in Britain\", \"Human\": \"General\", \"Label\": 1}, {\"TITLE\": \"HSBC exec signs petition backing China security law for Hong Kong\", \"Human\": \"General\", \"Label\": 1}, {\"TITLE\": \"UK's Prince Charles says coronavirus reset is a new chance for sustainability\", \"Human\": \"Covid\", \"Label\": 0}, {\"TITLE\": \"UK's Prince Charles says coronavirus reset is a new chance for sustainability\", \"Human\": \"Covid\", \"Label\": 0}, {\"TITLE\": \"ThetaRay Provides Banco Santander With an Anti-Money Laundering (AML) Solution for Correspondent Banking\", \"Human\": \"General\", \"Label\": 1}, {\"TITLE\": \"ThetaRay Provides Banco Santander With an Anti-Money Laundering (AML) Solution for Correspondent Banking\", \"Human\": \"General\", \"Label\": 1}, {\"TITLE\": \"HSBC Backs China?s National Security Law for Hong Kong\", \"Human\": \"General\", \"Label\": 1}, {\"TITLE\": \"Kountable launches ESG Execution\", \"Human\": \"General\", \"Label\": 1}, {\"TITLE\": \"BP slashes price of Premier Oil deal\", \"Human\": \"General\", \"Label\": 1}, {\"TITLE\": \"Is Boris Johnson Really Ready to Take in Millions of People from Hong Kong?\", \"Human\": \"General\", \"Label\": 1}, {\"TITLE\": \"Barclays poaches Citigroup's Chawla in latest insurance investment banker move\", \"Human\": \"General\", \"Label\": 1}, {\"TITLE\": \"LeBron James on Laura Ingraham defending Drew Brees: ?F-N tired of this treatment?\", \"Human\": \"General\", \"Label\": 1}, {\"TITLE\": \"Merkel allies criticize Trump decision to cut U.S. troops in Germany\", \"Human\": \"General\", \"Label\": 1}, {\"TITLE\": \"Coronavirus: Sports Direct CFO calls for more support for ailing retailers\", \"Human\": \"Covid\", \"Label\": 0}, {\"TITLE\": \"The Sinking Dollar Won?t Help Emerging Currencies, Barclays Says\", \"Human\": \"General\", \"Label\": 1}, {\"TITLE\": \"Cooper Standard to Participate in the 2020 Deutsche Bank Global Auto Industry Conference\", \"Human\": \"General\", \"Label\": 1}, {\"TITLE\": \"Boris Johnson told to give legally-binding Huawei 5G exit date or face Commons defeat\", \"Human\": \"General\", \"Label\": 1}, {\"TITLE\": \"Friday Health Plans Enters into Multi-Year Reinsurance Agreement with AXA\", \"Human\": \"General\", \"Label\": 1}, {\"TITLE\": \"New Zealand business confidence recovers slightly in June, ANZ survey shows\", \"Human\": \"General\", \"Label\": 1}, {\"TITLE\": \"Barclays labels Staveley lawsuit 'distorted and exaggerated'\", \"Human\": \"General\", \"Label\": 1}, {\"TITLE\": \"Barclays labels Staveley lawsuit 'distorted and exaggerated'\", \"Human\": \"General\", \"Label\": 1}, {\"TITLE\": \"Dow, S&P pull back, Nasdaq sets record\", \"Human\": \"General\", \"Label\": 1}, {\"TITLE\": \"ColorTokens Boosts ANZ Presence, Appoints Elvis Jusic as Regional Director Sales\", \"Human\": \"Organizational Change\", \"Label\": 3}, {\"TITLE\": \"AXA Asia partners with Columbia University WHO Center for Global Mental Health to help companies protect employees' mental health during and post-COVID-19\", \"Human\": \"Opportunity\", \"Label\": 2}, {\"TITLE\": \"No threat to Hong Kong's crown as international financial centre, AXA Investment Managers says\", \"Human\": \"Risk\", \"Label\": 8}, {\"TITLE\": \"WINT to provide water leak detection in AXA XL's Construction Ecosystem\", \"Human\": \"General\", \"Label\": 1}, {\"TITLE\": \"AXA Asia partners with Columbia University WHO Center for Global Mental Health to help companies protect employees' mental health during and post-COVID-19\", \"Human\": \"General\", \"Label\": 1}, {\"TITLE\": \"ColorTokens Boosts ANZ Presence, Appoints Elvis Jusic as Regional Director Sales\", \"Human\": \"Organizational Change\", \"Label\": 3}, {\"TITLE\": \"China Launches Bold New Electric Vehicle Credit Scheme\", \"Human\": \"General\", \"Label\": 1}, {\"TITLE\": \"$69+ Billion Worldwide Office Stationery and Supplies Industry to 2027 - Featuring Costco, Office Depot & Tesco Among Others\", \"Human\": \"General\", \"Label\": 1}, {\"TITLE\": \"HSBC under fire in UK for backing China's Hong Kong law\", \"Human\": \"General\", \"Label\": 1}, {\"TITLE\": \"Unilever plans switch to British holding company to cut complexity\", \"Human\": \"General\", \"Label\": 1}, {\"TITLE\": \"Unilever Simplifies Structure, Lays Groundwork for More M&A\", \"Human\": \"General\", \"Label\": 1}, {\"TITLE\": \"Unilever plans switch to British holding company to cut complexity\", \"Human\": \"General\", \"Label\": 1}, {\"TITLE\": \"Lloyds Bank fined $81 million for overcharging mortgage customers\", \"Human\": \"Risk\", \"Label\": 8}, {\"TITLE\": \"Lloyds fined \\u009c64m for failing struggling mortgage customers\", \"Human\": \"General\", \"Label\": 1}, {\"TITLE\": \"Lloyds Bank fined $81 million for overcharging mortgage customers\", \"Human\": \"Risk\", \"Label\": 8}, {\"TITLE\": \"Santander to hire 3,000 IT professionals worldwide this year\", \"Human\": \"Opportunity\", \"Label\": 2}, {\"TITLE\": \"Deutsche Bank (DB) Mulling to Form New Global Private Bank\", \"Human\": \"General\", \"Label\": 1}, {\"TITLE\": \"Global Enterprise Governance, Risk, and Compliance (eGRC) Solutions Market Analysis 2020-2024, with Key Players Dell Technologies Inc., International Business Machines Corp., Maclear LLC and MetricStream Inc.\", \"Human\": \"Risk\", \"Label\": 8}, {\"TITLE\": \"Unilever Sets 1 Billion Euro Climate Fund\", \"Human\": \"General\", \"Label\": 1}, {\"TITLE\": \"Unilever to invest 1 billion euros in climate change fund over 10 years\", \"Human\": \"General\", \"Label\": 1}, {\"TITLE\": \"Unilever to invest 1 billion euros in climate change fund over 10 years\", \"Human\": \"General\", \"Label\": 1}, {\"TITLE\": \"Santander US Announces Closures in Observance of Juneteenth\", \"Human\": \"General\", \"Label\": 1}, {\"TITLE\": \"UK Fintech Bank Revolut Will Give Customers ?Legal? Ownership Over Cryptos ? But With a Caveat\", \"Human\": \"General\", \"Label\": 1}, {\"TITLE\": \"The global adaptive learning market size is projected to grow from USD 1.9 billion in 2020 to USD 5.3 billion by 2025, at a Compound Annual Growth Rate (CAGR) of 22.7%\", \"Human\": \"Revenue Growth\", \"Label\": 6}, {\"TITLE\": \"HSBC revives plan for 35,000 job cuts\", \"Human\": \"General\", \"Label\": 1}, {\"TITLE\": \"Upgrade Closes $40 Million Series D Round Led by Santander InnoVentures\", \"Human\": \"General\", \"Label\": 1}, {\"TITLE\": \"Are Investors Undervaluing Aegon NV (AEG) Right Now?\", \"Human\": \"General\", \"Label\": 1}, {\"TITLE\": \"From sport to entertainment, #BlackLivesMatter shakes up US society\", \"Human\": \"General\", \"Label\": 1}, {\"TITLE\": \"Tesco sells Polish supermarket business\", \"Human\": \"Opportunity\", \"Label\": 2}, {\"TITLE\": \"Tesco to sell Polish business for \\u009c181m\", \"Human\": \"Opportunity\", \"Label\": 2}, {\"TITLE\": \"Unilever Brazil laundry franchise deal may presage new business push\", \"Human\": \"General\", \"Label\": 1}, {\"TITLE\": \"Western Union Ties Up With AXA to Offer Insurance Products\", \"Human\": \"General\", \"Label\": 1}, {\"TITLE\": \"Is Santander Consumer USA Holdings Inc (SC) A Good Stock To Buy?\", \"Human\": \"General\", \"Label\": 1}, {\"TITLE\": \"Hedge Funds Cautiously Watching Banco Santander (Brasil) SA (BSBR)\", \"Human\": \"General\", \"Label\": 1}, {\"TITLE\": \"Mitratech Acquires CMPG Risk Solutions to Strengthen Its Enterprise Compliance Suite with Best-in-Class Vendor Risk Management\", \"Human\": \"General\", \"Label\": 1}, {\"TITLE\": \"Asia-Pacific Healthcare and Social Services Industry 2020-2027 | Featuring Biotricity, AIA Group, AXA, China Life Insurance, Metlife, UnitedHealth Group and More\", \"Human\": \"General\", \"Label\": 1}, {\"TITLE\": \"UBS may increase home working after coronavirus\", \"Human\": \"Covid\", \"Label\": 0}, {\"TITLE\": \"Santander Bank Arranges $225 Million Deal with Purolite\", \"Human\": \"Opportunity\", \"Label\": 2}, {\"TITLE\": \"Hedge Funds Are Selling Banco Santander, S.A. (SAN)\", \"Human\": \"General\", \"Label\": 1}, {\"TITLE\": \"French restaurant settles with Axa in tussle over lockdown losses\", \"Human\": \"General\", \"Label\": 1}, {\"TITLE\": \"French restaurant settles with Axa in tussle over lockdown losses\", \"Human\": \"General\", \"Label\": 1}, {\"TITLE\": \"AXA XL adds tool to help general contractors assess subcontractor default risk post-COVID 19\", \"Human\": \"Covid\", \"Label\": 0}, {\"TITLE\": \"KKR, Cinven Among Firms Weighing Unilever Tea Bids\", \"Human\": \"General\", \"Label\": 1}, {\"TITLE\": \"Do Hedge Funds Love Lloyds Banking Group PLC (LYG)?\", \"Human\": \"General\", \"Label\": 1}, {\"TITLE\": \"FlyForm Receives Investment From Lloyds Bank to Accelerate \\u009c1bn Growth Plan\", \"Human\": \"Revenue Growth\", \"Label\": 6}, {\"TITLE\": \"HSBC Holdings plc (HSBC): Hedge Funds Cashing Out\", \"Human\": \"General\", \"Label\": 1}, {\"TITLE\": \"Facebook Messenger launches Mac & Windows apps\", \"Human\": \"Opportunity\", \"Label\": 2}, {\"TITLE\": \"Investor survey results: Upcoming trends in social startups\", \"Human\": \"Press Release\", \"Label\": 4}, {\"TITLE\": \"Facebook ships an experimental app for couples\", \"Human\": \"Opportunity\", \"Label\": 2}, {\"TITLE\": \"Zoom sued by shareholder for ?overstating? security claims\", \"Human\": \"Risk\", \"Label\": 8}, {\"TITLE\": \"Microsoft starts testing a new news reading experience in Windows 10\", \"Human\": \"Opportunity\", \"Label\": 2}, {\"TITLE\": \"Outrunning COVID-19 twice\", \"Human\": \"Covid\", \"Label\": 0}, {\"TITLE\": \"Amazon puts new online grocery shoppers on a waitlist\", \"Human\": \"General\", \"Label\": 1}, {\"TITLE\": \"OnePlus redefines its premium approach with the 8 Pro\", \"Human\": \"General\", \"Label\": 1}, {\"TITLE\": \"Amazon has to limit orders in France following court decision\", \"Human\": \"General\", \"Label\": 1}, {\"TITLE\": \"GE Healthcare and Microsoft are bringing a COVID-19 patient monitoring tool to health systems\", \"Human\": \"Covid\", \"Label\": 0}, {\"TITLE\": \"Amazon reportedly closes warehouses in France following court order\", \"Human\": \"General\", \"Label\": 1}, {\"TITLE\": \"Santander launches PagoFX in the UK, a money transfer app to take on TransferWise and other fintechs\", \"Human\": \"Opportunity\", \"Label\": 2}, {\"TITLE\": \"India says video conference app Zoom is ?not safe?\", \"Human\": \"Risk\", \"Label\": 8}, {\"TITLE\": \"Apple Music?s web interface exits beta\", \"Human\": \"General\", \"Label\": 1}, {\"TITLE\": \"Levi?s partnered with TikTok on social commerce and doubled its product views\", \"Human\": \"General\", \"Label\": 1}, {\"TITLE\": \"B\\u00a2, the digital bank developed by RBS, is losing its chief product officer to company builder Antler\", \"Human\": \"Organizational Change\", \"Label\": 3}, {\"TITLE\": \"AWS and Facebook launch an open-source model server for PyTorch\", \"Human\": \"Opportunity\", \"Label\": 2}, {\"TITLE\": \"Amazon employees plan additional protests over COVID-19 working conditions\", \"Human\": \"Covid\", \"Label\": 0}, {\"TITLE\": \"Google adds a universal watchlist for movies and TV to Google Search\", \"Human\": \"General\", \"Label\": 1}, {\"TITLE\": \"Google Cloud?s fully-managed Anthos is now generally available for AWS\", \"Human\": \"Opportunity\", \"Label\": 2}, {\"TITLE\": \"Latest COVID-19 projections from Columbia University show mid-May spike if social distancing is relaxed\", \"Human\": \"Covid\", \"Label\": 0}, {\"TITLE\": \"Ford goes drag racing with 1,400 HP electric Mustang Cobra Jet\", \"Human\": \"General\", \"Label\": 1}, {\"TITLE\": \"Facebook to launch ?virtual dating? over Messenger for Facebook Dating users\", \"Human\": \"Opportunity\", \"Label\": 2}, {\"TITLE\": \"Gillmor Gang: Zoom Normal\", \"Human\": \"General\", \"Label\": 1}, {\"TITLE\": \"Tesla vehicles recognize and respond to traffic lights, stop signs with latest software update\", \"Human\": \"General\", \"Label\": 1}, {\"TITLE\": \"Former Tesla and Lyft exec Jon McNeill just launched a fund that plans to spin out its own companies\", \"Human\": \"General\", \"Label\": 1}, {\"TITLE\": \"Ford postpones autonomous vehicle service until 2022\", \"Human\": \"General\", \"Label\": 1}, {\"TITLE\": \"Google Cloud opens its Las Vegas region\", \"Human\": \"Opportunity\", \"Label\": 2}, {\"TITLE\": \"Microsoft shares rise after the tech giant posts 15% growth\", \"Human\": \"Revenue Growth\", \"Label\": 6}, {\"TITLE\": \"The lockdown is driving people to Facebook\", \"Human\": \"General\", \"Label\": 1}, {\"TITLE\": \"Tesla pushes Tesla Semi deliveries to 2021\", \"Human\": \"General\", \"Label\": 1}, {\"TITLE\": \"Tesla to reduce price of standard range Model 3 in China\", \"Human\": \"General\", \"Label\": 1}, {\"TITLE\": \"Google gives $2.3M to 18 news organizations in Asia Pacific\", \"Human\": \"General\", \"Label\": 1}, {\"TITLE\": \"Microsoft makes it easier to get started with Windows Virtual Desktops\", \"Human\": \"General\", \"Label\": 1}, {\"TITLE\": \"Apple News hits 125 million monthly active users\", \"Human\": \"General\", \"Label\": 1}, {\"TITLE\": \"B\\u00a2, the digital bank developed by RBS-owned Natwest, is to shutter\", \"Human\": \"General\", \"Label\": 1}, {\"TITLE\": \"B\\u00a2, the digital bank developed by RBS-owned Natwest, is to shutter\", \"Human\": \"General\", \"Label\": 1}, {\"TITLE\": \"Tesla shares fall on Elon Musk ?stock price too high? tweet\", \"Human\": \"Revenue Warning\", \"Label\": 7}, {\"TITLE\": \"AWS engineer Tim Bray resigns from Amazon following worker firings\", \"Human\": \"Organizational Change\", \"Label\": 3}, {\"TITLE\": \"AWS launches the $995 Elemental Link for streaming video to its cloud\", \"Human\": \"General\", \"Label\": 1}, {\"TITLE\": \"Elon Musk: Video conferencing is ?definitely? coming to Tesla vehicles\", \"Human\": \"General\", \"Label\": 1}, {\"TITLE\": \"Zoom acquires Keybase to get end-to-end encryption expertise\", \"Human\": \"Opportunity\", \"Label\": 2}, {\"TITLE\": \"Daily Crunch: Zoom acquires security startup Keybase\", \"Human\": \"Opportunity\", \"Label\": 2}, {\"TITLE\": \"Microsoft is acquiring Metaswitch Networks to expand its Azure 5G strategy\", \"Human\": \"Opportunity\", \"Label\": 2}, {\"TITLE\": \"Trump adds another year to Huawei/ZTE ban\", \"Human\": \"General\", \"Label\": 1}, {\"TITLE\": \"Facebook?s social Zoom competitor Messenger Rooms goes live globally\", \"Human\": \"General\", \"Label\": 1}, {\"TITLE\": \"Why did Apple buy NextVR?\", \"Human\": \"General\", \"Label\": 1}, {\"TITLE\": \"Biden campaign releases a flurry of digital DIY projects and virtual banners. Yes, there are Zoom backgrounds\", \"Human\": \"General\", \"Label\": 1}, {\"TITLE\": \"GO1, an enterprise learning platform, picks up $40M from Microsoft, Salesforce and more\", \"Human\": \"General\", \"Label\": 1}, {\"TITLE\": \"Daily Crunch: Apple Stores begin to reopen\", \"Human\": \"Opportunity\", \"Label\": 2}, {\"TITLE\": \"EasyJet says 9 million travel records taken in data breach\", \"Human\": \"Risk\", \"Label\": 8}, {\"TITLE\": \"Following multiple scandals including Luckin Coffee, Nasdaq ready to tighten rules on IPO listings\", \"Human\": \"General\", \"Label\": 1}, {\"TITLE\": \"IBM confirms layoffs are happening, but won?t provide details\", \"Human\": \"General\", \"Label\": 1}, {\"TITLE\": \"The Station: Hertz files for bankruptcy, hailing ?self-driving? scooters, Memorial Day travel\", \"Human\": \"General\", \"Label\": 1}, {\"TITLE\": \"Uber cuts 600 jobs in India\", \"Human\": \"General\", \"Label\": 1}, {\"TITLE\": \"Apple fixes bug that stopped iOS apps from opening\", \"Human\": \"General\", \"Label\": 1}, {\"TITLE\": \"Google removes millions of negative TikTok reviews amid backlash in India\", \"Human\": \"General\", \"Label\": 1}, {\"TITLE\": \"Apple begins offering Macs with custom configurations in India\", \"Human\": \"General\", \"Label\": 1}, {\"TITLE\": \"Daily Crunch: Twitter vs. Trump\", \"Human\": \"General\", \"Label\": 1}, {\"TITLE\": \"Daily Crunch: Trump takes aim at social media companies\", \"Human\": \"General\", \"Label\": 1}, {\"TITLE\": \"India rejects Walmart-owned Flipkart?s proposed foray into food retail business\", \"Human\": \"General\", \"Label\": 1}, {\"TITLE\": \"A service that detects ?China apps? goes viral in India\", \"Human\": \"General\", \"Label\": 1}, {\"TITLE\": \"Zoom faces criticism for denying free users e2e encryption\", \"Human\": \"General\", \"Label\": 1}, {\"TITLE\": \"Zoom and CrowdStrike hang onto 2020 gains despite huge earnings expectations\", \"Human\": \"Profit Warning\", \"Label\": 5}, {\"TITLE\": \"Daily Crunch: Zoom reports spectacular growth\", \"Human\": \"Revenue Growth\", \"Label\": 6}, {\"TITLE\": \"Uber could lose its Grubhub deal to Just Eat or Delivery Hero\", \"Human\": \"General\", \"Label\": 1}, {\"TITLE\": \"IBM ends all facial recognition work as CEO calls out bias and inequality\", \"Human\": \"General\", \"Label\": 1}, {\"TITLE\": \"Daily Crunch: IBM is getting out of facial recognition\", \"Human\": \"General\", \"Label\": 1}, {\"TITLE\": \"Nikola Motor to open pre-orders for fuel cell pickup truck to compete with Ford, Tesla\", \"Human\": \"Opportunity\", \"Label\": 2}, {\"TITLE\": \"Uber Africa launches Uber Cash with Flutterwave and explores EVs\", \"Human\": \"Opportunity\", \"Label\": 2}, {\"TITLE\": \"Nasdaq 10,000, or whatever\", \"Human\": \"General\", \"Label\": 1}, {\"TITLE\": \"Uber appoints Pradeep Parameswaran as new head of its Asia Pacific business\", \"Human\": \"Organizational Change\", \"Label\": 3}, {\"TITLE\": \"Airbnb, Lyft and Uber: when to call a it a comeback\", \"Human\": \"General\", \"Label\": 1}, {\"TITLE\": \"Zoom admits to shutting down activist accounts at the request of the Chinese government\", \"Human\": \"Risk\", \"Label\": 8}, {\"TITLE\": \"The 2021 Ford Bronco gets an official debut date\", \"Human\": \"General\", \"Label\": 1}, {\"TITLE\": \"ByteDance to shut down Vigo apps in India, move users to TikTok\", \"Human\": \"General\", \"Label\": 1}, {\"TITLE\": \"Apple expands Apple Card?s interest-free financing to iPad, Mac, AirPods & more\", \"Human\": \"Opportunity\", \"Label\": 2}, {\"TITLE\": \"Microsoft moves its Windows 10 Insider Program from rings to release channels\", \"Human\": \"General\", \"Label\": 1}, {\"TITLE\": \"Revolut expands bank account aggregation to Ireland\", \"Human\": \"General\", \"Label\": 1}, {\"TITLE\": \"Revolut expands bank account aggregation to Ireland\", \"Human\": \"General\", \"Label\": 1}, {\"TITLE\": \"Microsoft employs experimental undersea data center in search for COVID-19 vaccine\", \"Human\": \"Covid\", \"Label\": 0}, {\"TITLE\": \"Microsoft pitched its facial recognition tech to the DEA, new emails show\", \"Human\": \"General\", \"Label\": 1}, {\"TITLE\": \"Zoom U-turns on no e2e encryption for free users\", \"Human\": \"General\", \"Label\": 1}, {\"TITLE\": \"Amazon expands Flex delivery program to more than 35 cities in India\", \"Human\": \"Opportunity\", \"Label\": 2}, {\"TITLE\": \"Ford to roll out hands-free driving in Q3 of 2021, starting with the Mustang Mach-E\", \"Human\": \"Opportunity\", \"Label\": 2}, {\"TITLE\": \"Facebook removes Trump campaign ads featuring Nazi symbol\", \"Human\": \"General\", \"Label\": 1}, {\"TITLE\": \"BMW, Mercedes Benz end ?long term? automated driving alliance, for now\", \"Human\": \"General\", \"Label\": 1}, {\"TITLE\": \"Ford Bronco debut date moved so it wouldn?t fall on O.J. Simpson?s birthday\", \"Human\": \"General\", \"Label\": 1}, {\"TITLE\": \"Microsoft kills Mixer, will push users to Facebook Gaming\", \"Human\": \"General\", \"Label\": 1}, {\"TITLE\": \"Apple Maps gets electric vehicle routing to find EV chargers\", \"Human\": \"Opportunity\", \"Label\": 2}, {\"TITLE\": \"Zoom founder and CEO Eric Yuan will speak at Disrupt 2020\", \"Human\": \"General\", \"Label\": 1}, {\"TITLE\": \"Zoom misses its own deadline to publish its first transparency report\", \"Human\": \"General\", \"Label\": 1}, {\"TITLE\": \"IBM BrandVoice: Coping Amid Crisis: Best Practices From IBM Experts\", \"Human\": \"General\", \"Label\": 1}, {\"TITLE\": \"From Hard-Shell To Chef-Driven: A New Book Traces America?s Taco Journey\", \"Human\": \"General\", \"Label\": 1}, {\"TITLE\": \"HSBC Profits Plunge As Europe?s Biggest Bank Faces Coronavirus Hit\", \"Human\": \"Profit Warning\", \"Label\": 5}, {\"TITLE\": \"3 Digital Realities Arising From The Covid19 Pandemic\", \"Human\": \"Covid\", \"Label\": 0}, {\"TITLE\": \"Barclays Profits Plunge 38% As It Warns Of $2.6 Billion Pandemic Hit\", \"Human\": \"Profit Warning\", \"Label\": 5}, {\"TITLE\": \"Not All Billionaires Are Created Equal: One Key Lesson From The Corona Virus\", \"Human\": \"Covid\", \"Label\": 0}, {\"TITLE\": \"If You Live In These States, COVID-19 Unemployment Benefits Are Not Enough To Fully Cover Rent And Mortgage Payments\", \"Human\": \"Covid\", \"Label\": 0}, {\"TITLE\": \"COVID19: A Stress Test For Couples\", \"Human\": \"Covid\", \"Label\": 0}, {\"TITLE\": \"Why We Don?t Need A High Street Inhabited By Sports Direct Or JD Wetherspoon\", \"Human\": \"General\", \"Label\": 1}, {\"TITLE\": \"How To Contact Your Bank For Bounce Back Loan Details\", \"Human\": \"General\", \"Label\": 1}, {\"TITLE\": \"Smart Serendipity In IBM AI For Operations\", \"Human\": \"Opportunity\", \"Label\": 2}, {\"TITLE\": \"Big Tech?s AAA Balance Sheets\", \"Human\": \"General\", \"Label\": 1}, {\"TITLE\": \"Remembering The 40th Anniversary Of The Mount St. Helens Eruption\", \"Human\": \"General\", \"Label\": 1}, {\"TITLE\": \"The Unintended Consequences Of ESG Activism\", \"Human\": \"General\", \"Label\": 1}, {\"TITLE\": \"Best And Worst Momentum ETFs\", \"Human\": \"General\", \"Label\": 1}, {\"TITLE\": \"The Furlough Dilemma In Higher Education\", \"Human\": \"General\", \"Label\": 1}, {\"TITLE\": \"Guild Education Makes $80 Million Acquisition To Build Out Job Marketplace Amid Covid-19 Layoffs\", \"Human\": \"Covid\", \"Label\": 0}, {\"TITLE\": \"The Future Of Ag Biosecurity In The U.S.\", \"Human\": \"General\", \"Label\": 1}, {\"TITLE\": \"Covid-19 Is Accelerating ESG Investing And Corporate Sustainability Practices\", \"Human\": \"Covid\", \"Label\": 0}, {\"TITLE\": \"New Chip Advancements Highlight 5G Momentum\", \"Human\": \"General\", \"Label\": 1}, {\"TITLE\": \"IBM Launches Open Source Equal Access Toolkit\", \"Human\": \"Opportunity\", \"Label\": 2}, {\"TITLE\": \"Why Asset Managers Should Keep The ESG Momentum Going\", \"Human\": \"General\", \"Label\": 1}, {\"TITLE\": \"Jerusalem Tech Beyond COVID19: Five Facts About The Vibrant, Diverse Ecosystem That Has Doubled In Size In Recent Years\", \"Human\": \"Covid\", \"Label\": 0}, {\"TITLE\": \"Tableau APAC BrandVoice: Putting Data At The Heart Of Your Organization's Post-COVID19 Recovery Plans\", \"Human\": \"Covid\", \"Label\": 0}, {\"TITLE\": \"How Is ESG Performing In The Covid-19 Crisis?\", \"Human\": \"Covid\", \"Label\": 0}, {\"TITLE\": \"SEC Urged To Take Global Lead In Requiring ESG Disclosures\", \"Human\": \"General\", \"Label\": 1}, {\"TITLE\": \"CFOs Are Measured On 2 Metrics: EPS And ESG\", \"Human\": \"General\", \"Label\": 1}, {\"TITLE\": \"Manchester United Confident Of Overcoming Coronavirus Impact\", \"Human\": \"Covid\", \"Label\": 0}, {\"TITLE\": \"As Formula One Strives To Save A Shard Of Its Summer, Aston Martin CEO Lawrence Stroll Hones His Racing Point Team Into A Major Challenger\", \"Human\": \"Organizational Change\", \"Label\": 3}, {\"TITLE\": \"Rashford And Pogba Fit To Return For Manchester United\", \"Human\": \"General\", \"Label\": 1}, {\"TITLE\": \"The Sustainability Chip\", \"Human\": \"General\", \"Label\": 1}, {\"TITLE\": \"Lamborghini Enters Esports With The Real Race Competition\", \"Human\": \"General\", \"Label\": 1}, {\"TITLE\": \"What To Make Of The SEC?s Warnings On ESG Ratings And Recommendations For ESG Disclosures\", \"Human\": \"General\", \"Label\": 1}, {\"TITLE\": \"What To Expect From Manchester United When The Premier League Returns\", \"Human\": \"General\", \"Label\": 1}, {\"TITLE\": \"Manchester United Must Commit To Signing Jadon Sancho\", \"Human\": \"General\", \"Label\": 1}, {\"TITLE\": \"After 7 Years, Indiana Returns Seized Land Rover In Landmark Supreme Court Case\", \"Human\": \"General\", \"Label\": 1}, {\"TITLE\": \"Prada-Backed AI Startup To Create First Live Streamed 3D Virtual Fashion Show\", \"Human\": \"Opportunity\", \"Label\": 2}, {\"TITLE\": \"Why Your Business Should Care About Corporate Sustainability Initiatives\", \"Human\": \"General\", \"Label\": 1}, {\"TITLE\": \"Former F1 Champ Nico Rosberg Driving Now For Sustainability\", \"Human\": \"General\", \"Label\": 1}, {\"TITLE\": \"All Petrol Stations In Germany Will Be Required To Provide Electric Vehicle Charging\", \"Human\": \"General\", \"Label\": 1}, {\"TITLE\": \"Fyllo Compliance Cloud Automates Risk Mitigation Within Cannabis Companies\", \"Human\": \"Risk\", \"Label\": 8}, {\"TITLE\": \"Why I Just Deleted My Revolut Account And You Should Too\", \"Human\": \"General\", \"Label\": 1}, {\"TITLE\": \"Your 2030 Sustainability Targets Are Wrong\", \"Human\": \"General\", \"Label\": 1}, {\"TITLE\": \"A New Beauty Brand Leading The Charge On Sustainability\", \"Human\": \"General\", \"Label\": 1}, {\"TITLE\": \"Demystifying ESG...It?s History & Current Status\", \"Human\": \"General\", \"Label\": 1}, {\"TITLE\": \"12 Ways For You To Drive Better ESG Reporting\", \"Human\": \"General\", \"Label\": 1}, {\"TITLE\": \"Seeing Results From AI, Even During Covid19 Recession\", \"Human\": \"Covid\", \"Label\": 0}, {\"TITLE\": \"Entrepreneurs: Here Are 5 Steps You Need To Take Before Rebuilding Your Company In The Post-Corona Era\", \"Human\": \"General\", \"Label\": 1}, {\"TITLE\": \"Dow Jones Futures Rally As Pompeo Blasts HSBC; NASDAQ Hit 10,000 Ahead Of Fed Meeting\", \"Human\": \"General\", \"Label\": 1}, {\"TITLE\": \"Billionaire Mike Ashley And Sports Direct Will Survive The Coronavirus By Picking Up Exactly Where They Left Off\", \"Human\": \"Covid\", \"Label\": 0}, {\"TITLE\": \"Black Lives Matter And COVID19: After George Floyd, Our Souls Need To Breathe\", \"Human\": \"Covid\", \"Label\": 0}, {\"TITLE\": \"Measuring Stakeholder Capitalism & The Future Of ESG Reporting\", \"Human\": \"General\", \"Label\": 1}, {\"TITLE\": \"No, The Market Is Not Rallying Because Of Robinhood Traders, Barclays Says\", \"Human\": \"General\", \"Label\": 1}, {\"TITLE\": \"Boohoo, Tesco, Morrisons Face Backlash As Retail Executives? Pay Sparks Investor Revolt\", \"Human\": \"General\", \"Label\": 1}, {\"TITLE\": \"How Much Will Primark And Sports Direct Queuers End Up Paying?\", \"Human\": \"General\", \"Label\": 1}, {\"TITLE\": \"Considering Sustainability As An Integral Part Of Your Branding Strategy\", \"Human\": \"General\", \"Label\": 1}, {\"TITLE\": \"Lamborghini Explains Why It Will No Longer Attend Motor Shows\", \"Human\": \"General\", \"Label\": 1}, {\"TITLE\": \"How Lyft Comunity Grants Can Help Non-Profits And Local Governments Dealing With COVID19\", \"Human\": \"Covid\", \"Label\": 0}, {\"TITLE\": \"Is ESG Ready To Take Center Stage In Portfolios?\", \"Human\": \"General\", \"Label\": 1}, {\"TITLE\": \"Sports Direct V. Kurt Geiger - Who Won The Battle For Consumers On Reopening?\", \"Human\": \"General\", \"Label\": 1}, {\"TITLE\": \"HSBC Plans To Cut 35,000 Workers: This May Be A Harbinger Of What?s To Come\", \"Human\": \"General\", \"Label\": 1}, {\"TITLE\": \"How Agile Is Helping Unilever Go Forward Faster\", \"Human\": \"General\", \"Label\": 1}, {\"TITLE\": \"After Aunt Jemima And Uncle Ben, Lloyds Of London And Britain?s Biggest Pub Chain Apologize For Links To Atlantic Slave Trade\", \"Human\": \"General\", \"Label\": 1}, {\"TITLE\": \"Investing Fundamentals: Understanding ESG Investing\", \"Human\": \"General\", \"Label\": 1}, {\"TITLE\": \"AI Mining ESG Data Companies Not Disclosing Says Blackrock Exec\", \"Human\": \"General\", \"Label\": 1}, {\"TITLE\": \"Post-Coronavirus: Sustainability-Focused Investment As The New Normal?\", \"Human\": \"Covid\", \"Label\": 0}, {\"TITLE\": \"Top Advisor Spotlight: Leslie Lauer, UBS\", \"Human\": \"General\", \"Label\": 1}, {\"TITLE\": \"SAP BrandVoice: The Future Of Oil And Gas Is Sustainability\", \"Human\": \"General\", \"Label\": 1}, {\"TITLE\": \"Amazon's 2019 Sustainability Report: Some Progress, But Critical Challenges Remain\", \"Human\": \"General\", \"Label\": 1}, {\"TITLE\": \"PepsiCo Says Inclusion Is Essential To Sustainability Of Food System\", \"Human\": \"General\", \"Label\": 1}, {\"TITLE\": \"Ferrari SF90 Stradale Driven, And It?s Astonishing.\", \"Human\": \"General\", \"Label\": 1}, {\"TITLE\": \"What a typical 100% Serverless Architecture looks like in AWS\", \"Human\": \"General\", \"Label\": 1}, {\"TITLE\": \"Lloyds profits fall 95% as UK economic slump looms\", \"Human\": \"Profit Warning\", \"Label\": 5}, {\"TITLE\": \"Coronavirus: \\u009c500m Future Fund clears crucial state aid hurdle\", \"Human\": \"Covid\", \"Label\": 0}, {\"TITLE\": \"Lloyds and Nike staff shared facilities at hotel before COVID-19 outbreak\", \"Human\": \"Covid\", \"Label\": 0}, {\"TITLE\": \"Terrifying footage' shows masked man robbing Tesco store at gunpoint\", \"Human\": \"General\", \"Label\": 1}, {\"TITLE\": \"News24.com | Financial report highlights devastating loss of Absa sponsorship to PSL coffers\", \"Human\": \"Revenue Warning\", \"Label\": 7}, {\"TITLE\": \"News24.com | Bidvest Group ready to take over from Absa as PSL's new head sponsor - report\", \"Human\": \"Organizational Change\", \"Label\": 3}, {\"TITLE\": \"Shareho+C120:S3327lder Alert: Robbins LLP Announces It Is Investigating NMC Health Plc (NMHLY) Sued for Misleading Shareholders\", \"Human\": \"Risk\", \"Label\": 8}, {\"TITLE\": \"AAA giving back $100 million in auto insurance refunds during coronavirus shutdown - Sacramento Bee\", \"Human\": \"Covid\", \"Label\": 0}, {\"TITLE\": \"Strawberry-Rhubarb Crisp Is the Ultimate Spring Dessert\", \"Human\": \"General\", \"Label\": 1}, {\"TITLE\": \"NHL Classic Games: 1976 MTL vs. PHI, Stanley Cup Final, Gm 4 - NHL\", \"Human\": \"General\", \"Label\": 1}, {\"TITLE\": \"PHI 10: application for authority to send authorised materials\", \"Human\": \"General\", \"Label\": 1}, {\"TITLE\": \"China revises Wuhan COVID-19 death toll by 50% days after Donald Trump accused Beijing of a cover up - The Sun\", \"Human\": \"Covid\", \"Label\": 0}, {\"TITLE\": \"Aegon announces decision to hold electronic AGM\", \"Human\": \"General\", \"Label\": 1}, {\"TITLE\": \"Drew Spence believes her involvement in Eni Aluko, Mark Sampson racism case hindered England chances\", \"Human\": \"General\", \"Label\": 1}, {\"TITLE\": \"New Hope To Cure COVID: Plasma Therapy To Treat Patients With Corona Virus - India Today\", \"Human\": \"Covid\", \"Label\": 0}, {\"TITLE\": \"Donald Trump is not happy with China and says 'they must have the highest COVID-19 death toll' - The Sun\", \"Human\": \"Covid\", \"Label\": 0}, {\"TITLE\": \"Mr A White v Lloyds Banking Group: 1801000/2020\", \"Human\": \"General\", \"Label\": 1}, {\"TITLE\": \"Aegon Custody offloads HDFC Bank shares worth Rs 72 crore\", \"Human\": \"Revenue Warning\", \"Label\": 7}, {\"TITLE\": \"Yuvraj and Kaif, heroes of 2002 Natwest Trophy, relive India's historic win\", \"Human\": \"General\", \"Label\": 1}, {\"TITLE\": \"KBRA Assigns AAA Rating and Stable Outlook to State of Texas Highway Improvement General Obligation Refunding Bonds, Taxable Series 2020\", \"Human\": \"General\", \"Label\": 1}, {\"TITLE\": \"Facebook AI, AWS partner to release new PyTorch libraries\", \"Human\": \"Opportunity\", \"Label\": 2}, {\"TITLE\": \"New Coke, 35 years on: Inside the recipe tweak that sparked nationwide backlash and almost ruined Coca-Cola\", \"Human\": \"General\", \"Label\": 1}, {\"TITLE\": \"Google Cloud?s fully managed Anthos is now generally available for AWS\", \"Human\": \"Opportunity\", \"Label\": 2}, {\"TITLE\": \"Slice Labs & AXA XL Offer Lenovo Small Business Users On-Demand Cyber Insurance\", \"Human\": \"Opportunity\", \"Label\": 2}, {\"TITLE\": \"Amazon employees say they used data from third-party sellers to help the company make its own competing products\", \"Human\": \"General\", \"Label\": 1}, {\"TITLE\": \"How To Make the Absolute Best Strawberry-Rhubarb Pie\", \"Human\": \"General\", \"Label\": 1}, {\"TITLE\": \"Mrs T Jhuti v Lloyds Bank plc: 3329514/2017\", \"Human\": \"General\", \"Label\": 1}, {\"TITLE\": \"Apply for a coronavirus Bounce Back Loan\", \"Human\": \"Covid\", \"Label\": 0}, {\"TITLE\": \"Santander Strengthens Its International Trade Operations for SMEs With the Completion of the Investment in Ebury\", \"Human\": \"General\", \"Label\": 1}, {\"TITLE\": \"Lloyds Bank profits plunge 95 per cent as lender forecasts coronavirus will cause \\u009c1.4bn of bad debts\", \"Human\": \"Profit Warning\", \"Label\": 5}, {\"TITLE\": \"Lloyds Bank profits plunge 95 per cent as lender forecasts coronavirus will cause \\u009c1.4bn of bad debts\", \"Human\": \"Profit Warning\", \"Label\": 5}, {\"TITLE\": \"RBS boss axes app-only bank Bo, launched months ago as challenger to Monzo\", \"Human\": \"General\", \"Label\": 1}, {\"TITLE\": \"Paychex Declares Quarterly Dividend\", \"Human\": \"General\", \"Label\": 1}, {\"TITLE\": \"Bounce Back Loan Scheme: letter from the Chancellor to lenders\", \"Human\": \"General\", \"Label\": 1}, {\"TITLE\": \"Op-Ed: Big Pharma Could Jack Up Prices on a COVID-19 Vaccine | NowThis - NowThis News\", \"Human\": \"Covid\", \"Label\": 0}, {\"TITLE\": \"RDRM10545 - Residence: Particular Occupations: Lloyds underwriters\", \"Human\": \"General\", \"Label\": 1}, {\"TITLE\": \"Sports Direct and House of Fraser 'secretly pressured furloughed store managers to work once a week'\", \"Human\": \"General\", \"Label\": 1}, {\"TITLE\": \"Barclays gets 200 bounce-back loan applications in the first minute of new scheme launching today\", \"Human\": \"General\", \"Label\": 1}, {\"TITLE\": \"Big Pharma and coronavirus vaccine development | COVID-19 Special - DW News\", \"Human\": \"Covid\", \"Label\": 0}, {\"TITLE\": \"Sports Direct and Harveys workers 'are asked to check stores and clear shelves'\", \"Human\": \"General\", \"Label\": 1}, {\"TITLE\": \"Barclays Graper Says Investment Grade Issuance Is Firing on All Cylinders\", \"Human\": \"General\", \"Label\": 1}, {\"TITLE\": \"A 5-year-old boy was pulled over in Utah on his way to California to try to buy a Lamborghini\", \"Human\": \"General\", \"Label\": 1}, {\"TITLE\": \"Barclays customers rage as bank's systems CRASH in the middle of bounce-back loan applications\", \"Human\": \"General\", \"Label\": 1}, {\"TITLE\": \"News story: Over 69,000 loans approved in the first day of the Bounce Back Loan Scheme\", \"Human\": \"General\", \"Label\": 1}, {\"TITLE\": \"Experts at Infiniti Research Reveal Key Strategies for Big Pharma Companies to Succeed in Emerging Markets\", \"Human\": \"Opportunity\", \"Label\": 2}, {\"TITLE\": \"Lamborghini RWD Huracan Evo loses its top for Spyder version - Driving\", \"Human\": \"General\", \"Label\": 1}, {\"TITLE\": \"Ricky Gervais jokes about getting gout in lockdown as he shares After Life bloopers\", \"Human\": \"General\", \"Label\": 1}, {\"TITLE\": \"3 New York Children Die Of Mystery Illness Believed To be Linked To COVID19 | NBC Nightly News - NBC News\", \"Human\": \"Covid\", \"Label\": 0}, {\"TITLE\": \"Aegon provides first quarter 2020 update\", \"Human\": \"General\", \"Label\": 1}, {\"TITLE\": \"Aegon provides first quarter 2020 update\", \"Human\": \"General\", \"Label\": 1}, {\"TITLE\": \"Mrs A Iliff v Lloyds Bank plc: 2410476/2019\", \"Human\": \"General\", \"Label\": 1}, {\"TITLE\": \"Barclays Research launches UK Spend Trends 2.0\", \"Human\": \"General\", \"Label\": 1}, {\"TITLE\": \"Mr P Hammond v Kier Ltd: 1400118/2020\", \"Human\": \"General\", \"Label\": 1}, {\"TITLE\": \"Boris Johnson and Kier Starmer clash over 10,000 care home deaths\", \"Human\": \"Covid\", \"Label\": 0}, {\"TITLE\": \"Eni Aluko clashes with Bethany England after furlough criticism\", \"Human\": \"General\", \"Label\": 1}, {\"TITLE\": \"Mr D Clark v Kier Group and others: 3400152/2015 and 3401239/2016\", \"Human\": \"General\", \"Label\": 1}, {\"TITLE\": \"Mr S Turner v Kier Group and others: 3400271/2015 and 3401232/2016\", \"Human\": \"General\", \"Label\": 1}, {\"TITLE\": \"A designer reimagined iconic Nike and Adidas sneakers as face masks. Here's what they look like:\", \"Human\": \"General\", \"Label\": 1}, {\"TITLE\": \"Aegon Annual General Meeting approves all resolutions\", \"Human\": \"General\", \"Label\": 1}, {\"TITLE\": \"Aegon Annual General Meeting approves all resolutions\", \"Human\": \"General\", \"Label\": 1}, {\"TITLE\": \"Travel insurance for summer travel could be tricky - here's how Saga and Aviva are reacting\", \"Human\": \"General\", \"Label\": 1}, {\"TITLE\": \"Eni Aluko reveals she has suffered racist abuse after comments on the furlough scheme\", \"Human\": \"General\", \"Label\": 1}, {\"TITLE\": \"Remembering the 1980 Mount St. Helens eruption 40 years later - KING 5\", \"Human\": \"General\", \"Label\": 1}, {\"TITLE\": \"Rogue Landlord: BIR/31UC/HRA/2019/0001\", \"Human\": \"General\", \"Label\": 1}, {\"TITLE\": \"Future Fund launches today\", \"Human\": \"General\", \"Label\": 1}, {\"TITLE\": \"NatWest Markets Plc - Stabilisation Notice\", \"Human\": \"General\", \"Label\": 1}, {\"TITLE\": \"Mr S Lane v Kier Ltd: 3326303/2019\", \"Human\": \"General\", \"Label\": 1}, {\"TITLE\": \"40 Years Ago, Mount St. Helens Blew its Top Off\", \"Human\": \"General\", \"Label\": 1}, {\"TITLE\": \"AI Supercomputer - Microsoft\", \"Human\": \"Opportunity\", \"Label\": 2}, {\"TITLE\": \"Pepsi takes down 'dystopian' advertisement on a COVID-19 testing sign after being mocked on Twitter\", \"Human\": \"General\", \"Label\": 1}, {\"TITLE\": \"Amphan: Cyclone lashes India and Bangladesh - BBC News - BBC News\", \"Human\": \"General\", \"Label\": 1}, {\"TITLE\": \"Mr R Cartmel v Lloyds Banking Group plc and others: 2417075/2019 and 2400119/2020\", \"Human\": \"General\", \"Label\": 1}, {\"TITLE\": \"Shopaholic' ex-Lloyds Bank manager wins fight with brother for half her mother's \\u009c325k estate\", \"Human\": \"General\", \"Label\": 1}, {\"TITLE\": \"Sports Direct boss Mike Ashley tops up furloughed staff's salaries to 100%\", \"Human\": \"General\", \"Label\": 1}, {\"TITLE\": \"Bank holiday opening times: When are Tesco, Aldi, Sainsbury's and other supermarkets open on Monday?\", \"Human\": \"General\", \"Label\": 1}, {\"TITLE\": \"We live in a Golden Age of car wheels ? here are my favorite wheel designs from Ferrari, Lamborghini, Porsche and more\", \"Human\": \"General\", \"Label\": 1}, {\"TITLE\": \"Tesco begins selling white eggs for the first time in 40 years following increased demand during lockdown\", \"Human\": \"General\", \"Label\": 1}, {\"TITLE\": \"Uber lays off 600 people in India\", \"Human\": \"General\", \"Label\": 1}, {\"TITLE\": \"DBS Finance invoicing processing guidance\", \"Human\": \"General\", \"Label\": 1}, {\"TITLE\": \"HP, IBM to cut jobs, reduce salaries due to coronavirus\", \"Human\": \"Covid\", \"Label\": 0}, {\"TITLE\": \"Hertz doubled down on sedans when Americans demanded SUVs, and a new report reveals how that helped bankrupt the 102-year-old giant\", \"Human\": \"General\", \"Label\": 1}, {\"TITLE\": \"Miss L Weatherall v Tesco Stores plc: 2300096/2020\", \"Human\": \"General\", \"Label\": 1}, {\"TITLE\": \"COVID-19: FG, Shell, Eni await new date for $1.1bn Malabu court case in Italy ? Investigation\", \"Human\": \"Covid\", \"Label\": 0}, {\"TITLE\": \"Aegon launches Life Insurance with Covid-19 Cover\", \"Human\": \"Covid\", \"Label\": 0}, {\"TITLE\": \"The biggest moments in SpaceX's history - CNN\", \"Human\": \"General\", \"Label\": 1}, {\"TITLE\": \"Miss S Povey v Sainsburys Supermarkets Ltd: 1401544/2020\", \"Human\": \"General\", \"Label\": 1}, {\"TITLE\": \"Mr D Lloyd v Tesco plc: 1400048/2020\", \"Human\": \"General\", \"Label\": 1}, {\"TITLE\": \"Manchester City Women appoint former Wales international Gareth Taylor as new manager\", \"Human\": \"General\", \"Label\": 1}, {\"TITLE\": \"NatWest Markets Plc - Stabilisation Notice\", \"Human\": \"General\", \"Label\": 1}, {\"TITLE\": \"Revolut customers warned of targeted scam texts and malicious Google ads\", \"Human\": \"General\", \"Label\": 1}, {\"TITLE\": \"RBI slaps penalties on Bank of India, Karnataka Bank, Saraswat Cooperative Bank for non-compliance - The Financial Express\", \"Human\": \"General\", \"Label\": 1}, {\"TITLE\": \"1969 Ford Mustang Mach 1 Overview - Carscoops\", \"Human\": \"General\", \"Label\": 1}, {\"TITLE\": \"Ford is bringing back the Mustang Mach 1 for 2021 - Driving\", \"Human\": \"General\", \"Label\": 1}, {\"TITLE\": \"CNN reporter in Minneapolis: I've never seen anything like this - CNN\", \"Human\": \"General\", \"Label\": 1}, {\"TITLE\": \"DBS Bank partners with TCIL for real time payments to truck drivers\", \"Human\": \"General\", \"Label\": 1}, {\"TITLE\": \"Danske Bank, Denmark?s Largest Bank, Embraces Advanced Analytics From Behavox Compliance Solution to Enhance Risk Management\", \"Human\": \"General\", \"Label\": 1}, {\"TITLE\": \"Kidney Failure: Chronicling 9 decades of BMW grilles - Driving\", \"Human\": \"General\", \"Label\": 1}, {\"TITLE\": \"The dollar could be on the verge of a 10-year-long bear market as currency investors return to risk, a Citi strategist warns\", \"Human\": \"General\", \"Label\": 1}, {\"TITLE\": \"RHONY?s Aviva Drescher Calls Out Lea Michele: You Were 'Very Unkind to Me?\", \"Human\": \"General\", \"Label\": 1}, {\"TITLE\": \"Aviva Italy Chooses Guidewire InsuranceSuite Cloud\", \"Human\": \"General\", \"Label\": 1}, {\"TITLE\": \"DBS register of interests\", \"Human\": \"General\", \"Label\": 1}, {\"TITLE\": \"Black Lives Matter movement gains momentum worldwide with fresh weekend of protests - FRANCE 24 English\", \"Human\": \"General\", \"Label\": 1}, {\"TITLE\": \"All systems go: Uber just needs drivers to start up in city - Winnipeg Free Press\", \"Human\": \"Opportunity\", \"Label\": 2}, {\"TITLE\": \"As many as 36% of large investors own crypto assets, and bitcoin is the most popular, Fidelity says\", \"Human\": \"General\", \"Label\": 1}, {\"TITLE\": \"Ms L Greenwood v Lloyds Bank plc: 1400965/2020\", \"Human\": \"General\", \"Label\": 1}, {\"TITLE\": \"Mr A Tinsley v Lloyds Banking Group: 1802230/2020\", \"Human\": \"General\", \"Label\": 1}, {\"TITLE\": \"NAVEX Global and FTI Consulting Partner to Help Customers Better Address Risk and Compliance Program Requirements\", \"Human\": \"Risk\", \"Label\": 8}, {\"TITLE\": \"Watch Jonah Yano's Moody \\\"strawberry!\\\" Music Video\", \"Human\": \"General\", \"Label\": 1}, {\"TITLE\": \"Miss LM Medley v Aegon UK Corporate Services Ltd: 2401525/2020\", \"Human\": \"General\", \"Label\": 1}, {\"TITLE\": \"Boris Johnson will delay plans to enforce Brexit border checks on EU goods\", \"Human\": \"General\", \"Label\": 1}, {\"TITLE\": \"2020 Insights on Aegon - Enterprise Tech Ecosystem Series - ResearchAndMarkets.com - Business Wire\", \"Human\": \"General\", \"Label\": 1}, {\"TITLE\": \"Large queues forming at Primark, Zara, Sports Direct and Hip as Leeds shoppers return to city centre\", \"Human\": \"General\", \"Label\": 1}, {\"TITLE\": \"Video: Coronavirus: Hundreds queue outside Sports Direct in Aintree\", \"Human\": \"Covid\", \"Label\": 0}, {\"TITLE\": \"Video: Enormous line for Middlesborough Sports Direct on opening day\", \"Human\": \"Covid\", \"Label\": 0}, {\"TITLE\": \"Learn how to make sourdough pizza at home without any fancy equipment in this course\", \"Human\": \"General\", \"Label\": 1}, {\"TITLE\": \"IDEMIA Partners With RHB Bank to Launch the First Recycled Debit Card in Asia Pacific\", \"Human\": \"General\", \"Label\": 1}, {\"TITLE\": \"First Look: 2021 Ford Mustang Mach 1 - Driving\", \"Human\": \"General\", \"Label\": 1}, {\"TITLE\": \"AXA XL names VP of business operations, customer management in Canada - Insurance Business Canada\", \"Human\": \"General\", \"Label\": 1}, {\"TITLE\": \"Discovery of 6ft snake forces Sports Direct store to close on first day back from lockdown\", \"Human\": \"General\", \"Label\": 1}, {\"TITLE\": \"BMW M5 Competition (2021) - pictures, information & specs - NetCarShow.com\", \"Human\": \"General\", \"Label\": 1}, {\"TITLE\": \"I think Putin thinks he can play him like a fiddle': John Bolton unloads about Trump's relationship with Putin\", \"Human\": \"General\", \"Label\": 1}, {\"TITLE\": \"Mr A K McCann v Sainsburys Supermarkets Ltd: 3322506/2019\", \"Human\": \"General\", \"Label\": 1}, {\"TITLE\": \"Western Union Partners with AXA to Offer Insurance Services Through Its Global Payments Platform\", \"Human\": \"General\", \"Label\": 1}, {\"TITLE\": \"Aegon appoints Duncan Russell as Chief Transformation Officer\", \"Human\": \"General\", \"Label\": 1}, {\"TITLE\": \"Aegon appoints Duncan Russell as Chief Transformation Officer\", \"Human\": \"General\", \"Label\": 1}, {\"TITLE\": \"Australian Managed Security Services Market Outlook 2020-2025: Identity & Access Management, Antivirus/Anti-Malware, Firewall, Risk & Compliance Management, and Others - ResearchAndMarkets.com\", \"Human\": \"General\", \"Label\": 1}, {\"TITLE\": \"Vodafone to build private 5G network for Ford's electric vehicle plant\", \"Human\": \"General\", \"Label\": 1}, {\"TITLE\": \"NatWest launches open banking payments service\", \"Human\": \"General\", \"Label\": 1}, {\"TITLE\": \"Deutsche Bank is looking to attract younger customers with new WhatsApp banking features\", \"Human\": \"General\", \"Label\": 1}, {\"TITLE\": \"Kier Starmer names Kate Green as new shadow education secretary after sacking Rebecca Long-Bailey\", \"Human\": \"Organizational Change\", \"Label\": 3}, {\"TITLE\": \"More people now think Kier Starmer would be better prime minister than Boris Johnson, poll suggests\", \"Human\": \"General\", \"Label\": 1}, {\"TITLE\": \"AXA promotes environmental protection at workplace\", \"Human\": \"General\", \"Label\": 1}, {\"TITLE\": \"Hilltop Holdings Inc. Completes Sale of National Lloyds Corporation to Align Financial Holdings, LLC\", \"Human\": \"General\", \"Label\": 1}]}}, {\"mode\": \"vega-lite\"});\n",
              "</script>"
            ]
          },
          "metadata": {
            "tags": []
          },
          "execution_count": 8
        }
      ]
    },
    {
      "cell_type": "code",
      "metadata": {
        "id": "B5kh-ujZnfEk"
      },
      "source": [
        "giantstride['News_length'] = giantstride['TITLE'].str.len()"
      ],
      "execution_count": null,
      "outputs": []
    },
    {
      "cell_type": "code",
      "metadata": {
        "id": "neyCnWWFnwun",
        "outputId": "e6272222-27ee-4605-b470-4811c97022aa",
        "colab": {
          "base_uri": "https://localhost:8080/",
          "height": 405
        }
      },
      "source": [
        "plt.figure(figsize=(12.8,6))\n",
        "sns.distplot(giantstride['News_length']).set_title('News length distribution');"
      ],
      "execution_count": null,
      "outputs": [
        {
          "output_type": "display_data",
          "data": {
            "image/png": "[encoded data removed]",
            "text/plain": [
              "<Figure size 921.6x432 with 1 Axes>"
            ]
          },
          "metadata": {
            "tags": []
          }
        }
      ]
    },
    {
      "cell_type": "code",
      "metadata": {
        "id": "a14yrVTsn6cd",
        "outputId": "cf7210b3-284e-4f84-f5cd-fe94f7de60af",
        "colab": {
          "base_uri": "https://localhost:8080/"
        }
      },
      "source": [
        "giantstride['News_length'].describe()"
      ],
      "execution_count": null,
      "outputs": [
        {
          "output_type": "execute_result",
          "data": {
            "text/plain": [
              "count    1109.000000\n",
              "mean       72.513075\n",
              "std        27.091986\n",
              "min        20.000000\n",
              "25%        56.000000\n",
              "50%        66.000000\n",
              "75%        82.000000\n",
              "max       237.000000\n",
              "Name: News_length, dtype: float64"
            ]
          },
          "metadata": {
            "tags": []
          },
          "execution_count": 11
        }
      ]
    },
    {
      "cell_type": "code",
      "metadata": {
        "id": "o5RfRMiHn0em",
        "outputId": "a5ea9fd9-82f5-4491-a6b0-2726bf574ef8",
        "colab": {
          "base_uri": "https://localhost:8080/",
          "height": 35
        }
      },
      "source": [
        "giantstride.loc[1]['TITLE']"
      ],
      "execution_count": null,
      "outputs": [
        {
          "output_type": "execute_result",
          "data": {
            "application/vnd.google.colaboratory.intrinsic+json": {
              "type": "string"
            },
            "text/plain": [
              "'Snapchat?s new lenses use AR to encourage social distancing'"
            ]
          },
          "metadata": {
            "tags": []
          },
          "execution_count": 12
        }
      ]
    },
    {
      "cell_type": "markdown",
      "metadata": {
        "id": "70Pr33cUs7Kj"
      },
      "source": [
        "#Text Cleaning\n",
        "We'll downcase the texts "
      ]
    },
    {
      "cell_type": "code",
      "metadata": {
        "id": "EGsVPys-ox8J"
      },
      "source": [
        "# Lowercasing the text\n",
        "giantstride['Content_Parsed_2'] = giantstride['TITLE'].str.lower()"
      ],
      "execution_count": null,
      "outputs": []
    },
    {
      "cell_type": "markdown",
      "metadata": {
        "id": "W3OmuWPCtFu6"
      },
      "source": [
        "# Punctuation signs\n",
        "\n",
        "Punctuation signs won't have any predicting power, so we'll just get rid of them.\n"
      ]
    },
    {
      "cell_type": "code",
      "metadata": {
        "id": "BYTkGT20plZv"
      },
      "source": [
        "punctuation_signs = list(\"?:!.,;\")\n",
        "giantstride['Content_Parsed_3'] = giantstride['Content_Parsed_2']\n",
        "\n",
        "for punct_sign in punctuation_signs:\n",
        "    giantstride['Content_Parsed_3'] = giantstride['Content_Parsed_3'].str.replace(punct_sign, '')\n"
      ],
      "execution_count": null,
      "outputs": []
    },
    {
      "cell_type": "markdown",
      "metadata": {
        "id": "P8wtSH8XtQh6"
      },
      "source": [
        "# Possessive pronouns\n",
        "\n",
        "We'll also remove possessive pronoun terminations:\n"
      ]
    },
    {
      "cell_type": "code",
      "metadata": {
        "id": "ZSAJPX5DqgBH"
      },
      "source": [
        "giantstride['Content_Parsed_4'] = giantstride['Content_Parsed_3'].str.replace(\"'s\", \"\")"
      ],
      "execution_count": null,
      "outputs": []
    },
    {
      "cell_type": "markdown",
      "metadata": {
        "id": "aEVbA74dtdr9"
      },
      "source": [
        "## Stemming and Lemmatization\n",
        "\n",
        "Since stemming can produce output words that don't exist, we'll only use a lemmatization process at this moment. Lemmatization takes into consideration the morphological analysis of the words and returns words that do exist, so it will be more useful for us."
      ]
    },
    {
      "cell_type": "code",
      "metadata": {
        "id": "Smw-irPKsrRf",
        "outputId": "df1d2acc-f9e8-434d-8de7-a516daf3a523",
        "colab": {
          "base_uri": "https://localhost:8080/"
        }
      },
      "source": [
        "# Downloading punkt and wordnet from NLTK\n",
        "nltk.download('punkt')\n",
        "print(\"------------------------------------------------------------\")\n",
        "nltk.download('wordnet')"
      ],
      "execution_count": null,
      "outputs": [
        {
          "output_type": "stream",
          "text": [
            "[nltk_data] Downloading package punkt to /root/nltk_data...\n",
            "[nltk_data]   Package punkt is already up-to-date!\n",
            "------------------------------------------------------------\n",
            "[nltk_data] Downloading package wordnet to /root/nltk_data...\n",
            "[nltk_data]   Package wordnet is already up-to-date!\n"
          ],
          "name": "stdout"
        },
        {
          "output_type": "execute_result",
          "data": {
            "text/plain": [
              "True"
            ]
          },
          "metadata": {
            "tags": []
          },
          "execution_count": 16
        }
      ]
    },
    {
      "cell_type": "code",
      "metadata": {
        "id": "FSblhk1Msr-F"
      },
      "source": [
        "# Saving the lemmatizer into an object\n",
        "wordnet_lemmatizer = WordNetLemmatizer()"
      ],
      "execution_count": null,
      "outputs": []
    },
    {
      "cell_type": "code",
      "metadata": {
        "id": "5BbiWYaVtm3E"
      },
      "source": [
        "nrows = len(giantstride)\n",
        "lemmatized_text_list = []\n",
        "\n",
        "for row in range(0, nrows):\n",
        "    \n",
        "    # Create an empty list containing lemmatized words\n",
        "    lemmatized_list = []\n",
        "    \n",
        "    # Save the text and its words into an object\n",
        "    text = giantstride.loc[row]['Content_Parsed_4']\n",
        "    text_words = text.split(\" \")\n",
        "\n",
        "    # Iterate through every word to lemmatize\n",
        "    for word in text_words:\n",
        "        lemmatized_list.append(wordnet_lemmatizer.lemmatize(word, pos=\"v\"))\n",
        "        \n",
        "    # Join the list\n",
        "    lemmatized_text = \" \".join(lemmatized_list)\n",
        "    \n",
        "    # Append to the list containing the texts\n",
        "    lemmatized_text_list.append(lemmatized_text)"
      ],
      "execution_count": null,
      "outputs": []
    },
    {
      "cell_type": "code",
      "metadata": {
        "id": "QSSUK27Xtpd0"
      },
      "source": [
        "giantstride['Content_Parsed_5'] = lemmatized_text_list\n"
      ],
      "execution_count": null,
      "outputs": []
    },
    {
      "cell_type": "code",
      "metadata": {
        "id": "7A6ze_2CxSxD",
        "outputId": "51c64d2c-9731-405f-ec43-19276aab9be9",
        "colab": {
          "base_uri": "https://localhost:8080/",
          "height": 262
        }
      },
      "source": [
        "giantstride.head()"
      ],
      "execution_count": null,
      "outputs": [
        {
          "output_type": "execute_result",
          "data": {
            "text/html": [
              "<div>\n",
              "<style scoped>\n",
              "    .dataframe tbody tr th:only-of-type {\n",
              "        vertical-align: middle;\n",
              "    }\n",
              "\n",
              "    .dataframe tbody tr th {\n",
              "        vertical-align: top;\n",
              "    }\n",
              "\n",
              "    .dataframe thead th {\n",
              "        text-align: right;\n",
              "    }\n",
              "</style>\n",
              "<table border=\"1\" class=\"dataframe\">\n",
              "  <thead>\n",
              "    <tr style=\"text-align: right;\">\n",
              "      <th></th>\n",
              "      <th>TITLE</th>\n",
              "      <th>Human</th>\n",
              "      <th>Label</th>\n",
              "      <th>News_length</th>\n",
              "      <th>Content_Parsed_2</th>\n",
              "      <th>Content_Parsed_3</th>\n",
              "      <th>Content_Parsed_4</th>\n",
              "      <th>Content_Parsed_5</th>\n",
              "    </tr>\n",
              "  </thead>\n",
              "  <tbody>\n",
              "    <tr>\n",
              "      <th>0</th>\n",
              "      <td>Corona: Virologists Are Divided Over Need for ...</td>\n",
              "      <td>Risk</td>\n",
              "      <td>8</td>\n",
              "      <td>65</td>\n",
              "      <td>corona: virologists are divided over need for ...</td>\n",
              "      <td>corona virologists are divided over need for d...</td>\n",
              "      <td>corona virologists are divided over need for d...</td>\n",
              "      <td>corona virologists be divide over need for dra...</td>\n",
              "    </tr>\n",
              "    <tr>\n",
              "      <th>1</th>\n",
              "      <td>Snapchat?s new lenses use AR to encourage soci...</td>\n",
              "      <td>Covid</td>\n",
              "      <td>0</td>\n",
              "      <td>59</td>\n",
              "      <td>snapchat?s new lenses use ar to encourage soci...</td>\n",
              "      <td>snapchats new lenses use ar to encourage socia...</td>\n",
              "      <td>snapchats new lenses use ar to encourage socia...</td>\n",
              "      <td>snapchats new lenses use ar to encourage socia...</td>\n",
              "    </tr>\n",
              "    <tr>\n",
              "      <th>2</th>\n",
              "      <td>Corona Challenge: Germany Reaching the Upper L...</td>\n",
              "      <td>Risk</td>\n",
              "      <td>8</td>\n",
              "      <td>70</td>\n",
              "      <td>corona challenge: germany reaching the upper l...</td>\n",
              "      <td>corona challenge germany reaching the upper li...</td>\n",
              "      <td>corona challenge germany reaching the upper li...</td>\n",
              "      <td>corona challenge germany reach the upper limit...</td>\n",
              "    </tr>\n",
              "    <tr>\n",
              "      <th>3</th>\n",
              "      <td>Should You Worry About Eni S.p.A.'s (BIT:ENI) ...</td>\n",
              "      <td>Organizational Change</td>\n",
              "      <td>3</td>\n",
              "      <td>54</td>\n",
              "      <td>should you worry about eni s.p.a.'s (bit:eni) ...</td>\n",
              "      <td>should you worry about eni spa's (biteni) ceo pay</td>\n",
              "      <td>should you worry about eni spa (biteni) ceo pay</td>\n",
              "      <td>should you worry about eni spa (biteni) ceo pay</td>\n",
              "    </tr>\n",
              "    <tr>\n",
              "      <th>4</th>\n",
              "      <td>The crown vs. corona</td>\n",
              "      <td>General</td>\n",
              "      <td>1</td>\n",
              "      <td>20</td>\n",
              "      <td>the crown vs. corona</td>\n",
              "      <td>the crown vs corona</td>\n",
              "      <td>the crown vs corona</td>\n",
              "      <td>the crown vs corona</td>\n",
              "    </tr>\n",
              "  </tbody>\n",
              "</table>\n",
              "</div>"
            ],
            "text/plain": [
              "                                               TITLE  ...                                   Content_Parsed_5\n",
              "0  Corona: Virologists Are Divided Over Need for ...  ...  corona virologists be divide over need for dra...\n",
              "1  Snapchat?s new lenses use AR to encourage soci...  ...  snapchats new lenses use ar to encourage socia...\n",
              "2  Corona Challenge: Germany Reaching the Upper L...  ...  corona challenge germany reach the upper limit...\n",
              "3  Should You Worry About Eni S.p.A.'s (BIT:ENI) ...  ...    should you worry about eni spa (biteni) ceo pay\n",
              "4                               The crown vs. corona  ...                                the crown vs corona\n",
              "\n",
              "[5 rows x 8 columns]"
            ]
          },
          "metadata": {
            "tags": []
          },
          "execution_count": 20
        }
      ]
    },
    {
      "cell_type": "code",
      "metadata": {
        "id": "4t4nK4SLt6Z6"
      },
      "source": [
        "giantstride = giantstride.rename(columns={'Content_Parsed_5': 'Content_Parsed'})"
      ],
      "execution_count": null,
      "outputs": []
    },
    {
      "cell_type": "code",
      "metadata": {
        "id": "SZh3OUnbu1bQ"
      },
      "source": [
        "category_codes = {\n",
        "    'Covid': 0,\n",
        "    'General': 1,\n",
        "    'Opportunity': 2,\n",
        "    'organizational Change': 3,\n",
        "    'Press Release': 4,\n",
        "    'Profit warning': 5,\n",
        "    'Revenue growth': 6,\n",
        "    'Revenue warning': 7,\n",
        "    'Risk': 8\n",
        "\n",
        "}"
      ],
      "execution_count": null,
      "outputs": []
    },
    {
      "cell_type": "code",
      "metadata": {
        "id": "xxaHPxVmuC1G"
      },
      "source": [
        "# Category mapping\n",
        "giantstride['Category_Code'] = giantstride['Human']\n",
        "giantstride = giantstride.replace({'Category_Code':category_codes})"
      ],
      "execution_count": null,
      "outputs": []
    },
    {
      "cell_type": "code",
      "metadata": {
        "id": "r5I1ve-Y3QUT",
        "outputId": "333000e0-965a-41ab-e953-029e7adcc728",
        "colab": {
          "base_uri": "https://localhost:8080/",
          "height": 478
        }
      },
      "source": [
        "giantstride.head(10)"
      ],
      "execution_count": null,
      "outputs": [
        {
          "output_type": "execute_result",
          "data": {
            "text/html": [
              "<div>\n",
              "<style scoped>\n",
              "    .dataframe tbody tr th:only-of-type {\n",
              "        vertical-align: middle;\n",
              "    }\n",
              "\n",
              "    .dataframe tbody tr th {\n",
              "        vertical-align: top;\n",
              "    }\n",
              "\n",
              "    .dataframe thead th {\n",
              "        text-align: right;\n",
              "    }\n",
              "</style>\n",
              "<table border=\"1\" class=\"dataframe\">\n",
              "  <thead>\n",
              "    <tr style=\"text-align: right;\">\n",
              "      <th></th>\n",
              "      <th>TITLE</th>\n",
              "      <th>Human</th>\n",
              "      <th>Label</th>\n",
              "      <th>News_length</th>\n",
              "      <th>Content_Parsed_2</th>\n",
              "      <th>Content_Parsed_3</th>\n",
              "      <th>Content_Parsed_4</th>\n",
              "      <th>Content_Parsed</th>\n",
              "      <th>Category_Code</th>\n",
              "    </tr>\n",
              "  </thead>\n",
              "  <tbody>\n",
              "    <tr>\n",
              "      <th>0</th>\n",
              "      <td>Corona: Virologists Are Divided Over Need for ...</td>\n",
              "      <td>Risk</td>\n",
              "      <td>8</td>\n",
              "      <td>65</td>\n",
              "      <td>corona: virologists are divided over need for ...</td>\n",
              "      <td>corona virologists are divided over need for d...</td>\n",
              "      <td>corona virologists are divided over need for d...</td>\n",
              "      <td>corona virologists be divide over need for dra...</td>\n",
              "      <td>8</td>\n",
              "    </tr>\n",
              "    <tr>\n",
              "      <th>1</th>\n",
              "      <td>Snapchat?s new lenses use AR to encourage soci...</td>\n",
              "      <td>Covid</td>\n",
              "      <td>0</td>\n",
              "      <td>59</td>\n",
              "      <td>snapchat?s new lenses use ar to encourage soci...</td>\n",
              "      <td>snapchats new lenses use ar to encourage socia...</td>\n",
              "      <td>snapchats new lenses use ar to encourage socia...</td>\n",
              "      <td>snapchats new lenses use ar to encourage socia...</td>\n",
              "      <td>0</td>\n",
              "    </tr>\n",
              "    <tr>\n",
              "      <th>2</th>\n",
              "      <td>Corona Challenge: Germany Reaching the Upper L...</td>\n",
              "      <td>Risk</td>\n",
              "      <td>8</td>\n",
              "      <td>70</td>\n",
              "      <td>corona challenge: germany reaching the upper l...</td>\n",
              "      <td>corona challenge germany reaching the upper li...</td>\n",
              "      <td>corona challenge germany reaching the upper li...</td>\n",
              "      <td>corona challenge germany reach the upper limit...</td>\n",
              "      <td>8</td>\n",
              "    </tr>\n",
              "    <tr>\n",
              "      <th>3</th>\n",
              "      <td>Should You Worry About Eni S.p.A.'s (BIT:ENI) ...</td>\n",
              "      <td>Organizational Change</td>\n",
              "      <td>3</td>\n",
              "      <td>54</td>\n",
              "      <td>should you worry about eni s.p.a.'s (bit:eni) ...</td>\n",
              "      <td>should you worry about eni spa's (biteni) ceo pay</td>\n",
              "      <td>should you worry about eni spa (biteni) ceo pay</td>\n",
              "      <td>should you worry about eni spa (biteni) ceo pay</td>\n",
              "      <td>Organizational Change</td>\n",
              "    </tr>\n",
              "    <tr>\n",
              "      <th>4</th>\n",
              "      <td>The crown vs. corona</td>\n",
              "      <td>General</td>\n",
              "      <td>1</td>\n",
              "      <td>20</td>\n",
              "      <td>the crown vs. corona</td>\n",
              "      <td>the crown vs corona</td>\n",
              "      <td>the crown vs corona</td>\n",
              "      <td>the crown vs corona</td>\n",
              "      <td>1</td>\n",
              "    </tr>\n",
              "    <tr>\n",
              "      <th>5</th>\n",
              "      <td>Follow the hot hands': HSBC lays out a coronav...</td>\n",
              "      <td>Opportunity</td>\n",
              "      <td>2</td>\n",
              "      <td>160</td>\n",
              "      <td>follow the hot hands': hsbc lays out a coronav...</td>\n",
              "      <td>follow the hot hands' hsbc lays out a coronavi...</td>\n",
              "      <td>follow the hot hands' hsbc lays out a coronavi...</td>\n",
              "      <td>follow the hot hands' hsbc lay out a coronavir...</td>\n",
              "      <td>2</td>\n",
              "    </tr>\n",
              "    <tr>\n",
              "      <th>6</th>\n",
              "      <td>Welcome to the telco, we've got fun and games:...</td>\n",
              "      <td>Opportunity</td>\n",
              "      <td>2</td>\n",
              "      <td>107</td>\n",
              "      <td>welcome to the telco, we've got fun and games:...</td>\n",
              "      <td>welcome to the telco we've got fun and games b...</td>\n",
              "      <td>welcome to the telco we've got fun and games b...</td>\n",
              "      <td>welcome to the telco we've get fun and game bt...</td>\n",
              "      <td>2</td>\n",
              "    </tr>\n",
              "    <tr>\n",
              "      <th>7</th>\n",
              "      <td>Social distancing is pushing esports into the ...</td>\n",
              "      <td>General</td>\n",
              "      <td>1</td>\n",
              "      <td>56</td>\n",
              "      <td>social distancing is pushing esports into the ...</td>\n",
              "      <td>social distancing is pushing esports into the ...</td>\n",
              "      <td>social distancing is pushing esports into the ...</td>\n",
              "      <td>social distance be push esports into the mains...</td>\n",
              "      <td>1</td>\n",
              "    </tr>\n",
              "    <tr>\n",
              "      <th>8</th>\n",
              "      <td>1966 Ferrari 275 GTS</td>\n",
              "      <td>General</td>\n",
              "      <td>1</td>\n",
              "      <td>20</td>\n",
              "      <td>1966 ferrari 275 gts</td>\n",
              "      <td>1966 ferrari 275 gts</td>\n",
              "      <td>1966 ferrari 275 gts</td>\n",
              "      <td>1966 ferrari 275 gts</td>\n",
              "      <td>1</td>\n",
              "    </tr>\n",
              "    <tr>\n",
              "      <th>9</th>\n",
              "      <td>Tom Brady shows Chris Godwin love on Instagram...</td>\n",
              "      <td>General</td>\n",
              "      <td>1</td>\n",
              "      <td>58</td>\n",
              "      <td>tom brady shows chris godwin love on instagram...</td>\n",
              "      <td>tom brady shows chris godwin love on instagram...</td>\n",
              "      <td>tom brady shows chris godwin love on instagram...</td>\n",
              "      <td>tom brady show chris godwin love on instagram ...</td>\n",
              "      <td>1</td>\n",
              "    </tr>\n",
              "  </tbody>\n",
              "</table>\n",
              "</div>"
            ],
            "text/plain": [
              "                                               TITLE  ...          Category_Code\n",
              "0  Corona: Virologists Are Divided Over Need for ...  ...                      8\n",
              "1  Snapchat?s new lenses use AR to encourage soci...  ...                      0\n",
              "2  Corona Challenge: Germany Reaching the Upper L...  ...                      8\n",
              "3  Should You Worry About Eni S.p.A.'s (BIT:ENI) ...  ...  Organizational Change\n",
              "4                               The crown vs. corona  ...                      1\n",
              "5  Follow the hot hands': HSBC lays out a coronav...  ...                      2\n",
              "6  Welcome to the telco, we've got fun and games:...  ...                      2\n",
              "7  Social distancing is pushing esports into the ...  ...                      1\n",
              "8                               1966 Ferrari 275 GTS  ...                      1\n",
              "9  Tom Brady shows Chris Godwin love on Instagram...  ...                      1\n",
              "\n",
              "[10 rows x 9 columns]"
            ]
          },
          "metadata": {
            "tags": []
          },
          "execution_count": 24
        }
      ]
    },
    {
      "cell_type": "markdown",
      "metadata": {
        "id": "uKafcaDvw73_"
      },
      "source": [
        "## Train - test split\n",
        "\n",
        "I will set apart a test set to prove the quality of our models. I will do Cross Validation in the train set in order to tune the hyperparameters and then test performance on the unseen data of the test set.\n"
      ]
    },
    {
      "cell_type": "code",
      "metadata": {
        "id": "C5VWwrxN3Y39",
        "outputId": "f0e2baab-1879-4b2d-b20a-97455989bc8e",
        "colab": {
          "base_uri": "https://localhost:8080/"
        }
      },
      "source": [
        "giantstride.dtypes"
      ],
      "execution_count": null,
      "outputs": [
        {
          "output_type": "execute_result",
          "data": {
            "text/plain": [
              "TITLE               object\n",
              "Human               object\n",
              "Label                int64\n",
              "News_length          int64\n",
              "Content_Parsed_2    object\n",
              "Content_Parsed_3    object\n",
              "Content_Parsed_4    object\n",
              "Content_Parsed      object\n",
              "Category_Code       object\n",
              "dtype: object"
            ]
          },
          "metadata": {
            "tags": []
          },
          "execution_count": 25
        }
      ]
    },
    {
      "cell_type": "code",
      "metadata": {
        "id": "lrPrwU_yw0f4"
      },
      "source": [
        "X_train, X_test, y_train, y_test = train_test_split(giantstride['Content_Parsed'], \n",
        "                                                    giantstride['Category_Code'], \n",
        "                                                    test_size=0.15, \n",
        "                                                    random_state=8)"
      ],
      "execution_count": null,
      "outputs": []
    },
    {
      "cell_type": "code",
      "metadata": {
        "id": "cq-JuQ070e-O"
      },
      "source": [
        "# Parameter election\n",
        "ngram_range = (1,2)\n",
        "min_df = 5\n",
        "max_df = 1.\n",
        "max_features = 300"
      ],
      "execution_count": null,
      "outputs": []
    },
    {
      "cell_type": "code",
      "metadata": {
        "id": "tZ-LeLMAmwHP",
        "outputId": "613c4c53-e7d9-4292-a9bc-325ce52e1b44",
        "colab": {
          "base_uri": "https://localhost:8080/"
        }
      },
      "source": [
        "tfidf = TfidfVectorizer(encoding='utf-8',\n",
        "                        ngram_range=ngram_range,\n",
        "                        stop_words=None,\n",
        "                        lowercase=False,\n",
        "                        max_df=max_df,\n",
        "                        min_df=min_df,\n",
        "                        max_features=max_features,\n",
        "                        norm='l2',\n",
        "                        sublinear_tf=True)\n",
        "                        \n",
        "features_train = tfidf.fit_transform(X_train).toarray()\n",
        "labels_train = y_train\n",
        "print(features_train.shape)\n",
        "\n",
        "features_test = tfidf.transform(X_test).toarray()\n",
        "labels_test = y_test\n",
        "print(features_test.shape)"
      ],
      "execution_count": null,
      "outputs": [
        {
          "output_type": "stream",
          "text": [
            "(942, 300)\n",
            "(167, 300)\n"
          ],
          "name": "stdout"
        }
      ]
    },
    {
      "cell_type": "markdown",
      "metadata": {
        "id": "3PXsaePrm2VD"
      },
      "source": [
        "\n",
        "\n",
        "Please note that we have fitted and then transformed the training set, but we have only transformed the test set.\n",
        "\n",
        "We can use the Chi squared test in order to see what unigrams and bigrams are most correlated with each category:\n"
      ]
    },
    {
      "cell_type": "code",
      "metadata": {
        "id": "y6radggqm4nF",
        "outputId": "67753f99-5d48-4dd0-b7de-051c5f929147",
        "colab": {
          "base_uri": "https://localhost:8080/"
        }
      },
      "source": [
        "from sklearn.feature_selection import chi2\n",
        "import numpy as np\n",
        "\n",
        "for Product, category_id in sorted(category_codes.items()):\n",
        "    features_chi2 = chi2(features_train, labels_train == category_id)\n",
        "    indices = np.argsort(features_chi2[0])\n",
        "    feature_names = np.array(tfidf.get_feature_names())[indices]\n",
        "    unigrams = [v for v in feature_names if len(v.split(' ')) == 1]\n",
        "    bigrams = [v for v in feature_names if len(v.split(' ')) == 2]\n",
        "    print(\"# '{}' category:\".format(Product))\n",
        "    print(\"  . Most correlated unigrams:\\n. {}\".format('\\n. '.join(unigrams[-5:])))\n",
        "    print(\"  . Most correlated bigrams:\\n. {}\".format('\\n. '.join(bigrams[-2:])))\n",
        "    print(\"\")"
      ],
      "execution_count": null,
      "outputs": [
        {
          "output_type": "stream",
          "text": [
            "# 'Covid' category:\n",
            "  . Most correlated unigrams:\n",
            ". crisis\n",
            ". covid19\n",
            ". coronavirus\n",
            ". 19\n",
            ". covid\n",
            "  . Most correlated bigrams:\n",
            ". coronavirus crisis\n",
            ". covid 19\n",
            "\n",
            "# 'General' category:\n",
            "  . Most correlated unigrams:\n",
            ". russia\n",
            ". profit\n",
            ". covid\n",
            ". 19\n",
            ". coronavirus\n",
            "  . Most correlated bigrams:\n",
            ". set to\n",
            ". covid 19\n",
            "\n",
            "# 'Opportunity' category:\n",
            "  . Most correlated unigrams:\n",
            ". launch\n",
            ". microsoft\n",
            ". money\n",
            ". facebook\n",
            ". ai\n",
            "  . Most correlated bigrams:\n",
            ". set to\n",
            ". mercedes benz\n",
            "\n",
            "# 'Press Release' category:\n",
            "  . Most correlated unigrams:\n",
            ". investment\n",
            ". chairman\n",
            ". unicredit\n",
            ". boost\n",
            ". state\n",
            "  . Most correlated bigrams:\n",
            ". reuters uk\n",
            ". bbc news\n",
            "\n",
            "# 'Profit warning' category:\n",
            "  . Most correlated unigrams:\n",
            ". fincantieri\n",
            ". file\n",
            ". ferrari\n",
            ". facebook\n",
            ". zoom\n",
            "  . Most correlated bigrams:\n",
            ". in india\n",
            ". donald trump\n",
            "\n",
            "# 'Revenue growth' category:\n",
            "  . Most correlated unigrams:\n",
            ". fincantieri\n",
            ". file\n",
            ". ferrari\n",
            ". facebook\n",
            ". zoom\n",
            "  . Most correlated bigrams:\n",
            ". in india\n",
            ". donald trump\n",
            "\n",
            "# 'Revenue warning' category:\n",
            "  . Most correlated unigrams:\n",
            ". fincantieri\n",
            ". file\n",
            ". ferrari\n",
            ". facebook\n",
            ". zoom\n",
            "  . Most correlated bigrams:\n",
            ". in india\n",
            ". donald trump\n",
            "\n",
            "# 'Risk' category:\n",
            "  . Most correlated unigrams:\n",
            ". hong\n",
            ". warn\n",
            ". risk\n",
            ". shareholders\n",
            ". investors\n",
            "  . Most correlated bigrams:\n",
            ". nmc health\n",
            ". hong kong\n",
            "\n",
            "# 'organizational Change' category:\n",
            "  . Most correlated unigrams:\n",
            ". fincantieri\n",
            ". file\n",
            ". ferrari\n",
            ". facebook\n",
            ". zoom\n",
            "  . Most correlated bigrams:\n",
            ". in india\n",
            ". donald trump\n",
            "\n"
          ],
          "name": "stdout"
        }
      ]
    },
    {
      "cell_type": "code",
      "metadata": {
        "id": "YGJaq3ubm6rE",
        "outputId": "6ba3d66b-db50-4e14-c6af-60eeecc20e73",
        "colab": {
          "base_uri": "https://localhost:8080/"
        }
      },
      "source": [
        "bigrams"
      ],
      "execution_count": null,
      "outputs": [
        {
          "output_type": "execute_result",
          "data": {
            "text/plain": [
              "['oil price',\n",
              " 'of the',\n",
              " 'philip morris',\n",
              " 'plan to',\n",
              " 'lloyds bank',\n",
              " 'mercedes benz',\n",
              " 'nmc health',\n",
              " 'return to',\n",
              " 'to take',\n",
              " 'to help',\n",
              " 'royal bank',\n",
              " 'reuters uk',\n",
              " 'reuters india',\n",
              " 'set to',\n",
              " 'sport direct',\n",
              " 'social distance',\n",
              " 'boris johnson',\n",
              " 'covid 19',\n",
              " 'coronavirus crisis',\n",
              " 'be the',\n",
              " 'bbc news',\n",
              " 'bank of',\n",
              " 'hong kong',\n",
              " 'hedge fund',\n",
              " 'in the',\n",
              " 'in india',\n",
              " 'donald trump']"
            ]
          },
          "metadata": {
            "tags": []
          },
          "execution_count": 30
        }
      ]
    },
    {
      "cell_type": "code",
      "metadata": {
        "id": "nwvMWhUjqN3_",
        "outputId": "80e50a2f-b9bf-4194-dabc-8813ffc64d18",
        "colab": {
          "base_uri": "https://localhost:8080/"
        }
      },
      "source": [
        "print(features_train.shape)\n",
        "print(features_test.shape)"
      ],
      "execution_count": null,
      "outputs": [
        {
          "output_type": "stream",
          "text": [
            "(942, 300)\n",
            "(167, 300)\n"
          ],
          "name": "stdout"
        }
      ]
    },
    {
      "cell_type": "code",
      "metadata": {
        "id": "3_6bSpfRSP3q",
        "outputId": "96c61891-1158-42b5-e3d0-15a745e132e0",
        "colab": {
          "base_uri": "https://localhost:8080/",
          "height": 404
        }
      },
      "source": [
        "from sklearn.naive_bayes import GaussianNB\n",
        "\n",
        "#Initialize GaussianNB classifier\n",
        "model = GaussianNB()\n",
        "#Fit the model on the train dataset\n",
        "model = model.fit(features_train, y_train)\n",
        "#Make predictions on the test dataset\n",
        "pred = model.predict(X_test)"
      ],
      "execution_count": null,
      "outputs": [
        {
          "output_type": "error",
          "ename": "TypeError",
          "evalue": "ignored",
          "traceback": [
            "\u001b[0;31m---------------------------------------------------------------------------\u001b[0m",
            "\u001b[0;31mTypeError\u001b[0m                                 Traceback (most recent call last)",
            "\u001b[0;32m<ipython-input-32-d8a39a42bca9>\u001b[0m in \u001b[0;36m<module>\u001b[0;34m()\u001b[0m\n\u001b[1;32m      4\u001b[0m \u001b[0mmodel\u001b[0m \u001b[0;34m=\u001b[0m \u001b[0mGaussianNB\u001b[0m\u001b[0;34m(\u001b[0m\u001b[0;34m)\u001b[0m\u001b[0;34m\u001b[0m\u001b[0;34m\u001b[0m\u001b[0m\n\u001b[1;32m      5\u001b[0m \u001b[0;31m#Fit the model on the train dataset\u001b[0m\u001b[0;34m\u001b[0m\u001b[0;34m\u001b[0m\u001b[0;34m\u001b[0m\u001b[0m\n\u001b[0;32m----> 6\u001b[0;31m \u001b[0mmodel\u001b[0m \u001b[0;34m=\u001b[0m \u001b[0mmodel\u001b[0m\u001b[0;34m.\u001b[0m\u001b[0mfit\u001b[0m\u001b[0;34m(\u001b[0m\u001b[0mfeatures_train\u001b[0m\u001b[0;34m,\u001b[0m \u001b[0my_train\u001b[0m\u001b[0;34m)\u001b[0m\u001b[0;34m\u001b[0m\u001b[0;34m\u001b[0m\u001b[0m\n\u001b[0m\u001b[1;32m      7\u001b[0m \u001b[0;31m#Make predictions on the test dataset\u001b[0m\u001b[0;34m\u001b[0m\u001b[0;34m\u001b[0m\u001b[0;34m\u001b[0m\u001b[0m\n\u001b[1;32m      8\u001b[0m \u001b[0mpred\u001b[0m \u001b[0;34m=\u001b[0m \u001b[0mmodel\u001b[0m\u001b[0;34m.\u001b[0m\u001b[0mpredict\u001b[0m\u001b[0;34m(\u001b[0m\u001b[0mX_test\u001b[0m\u001b[0;34m)\u001b[0m\u001b[0;34m\u001b[0m\u001b[0;34m\u001b[0m\u001b[0m\n",
            "\u001b[0;32m/usr/local/lib/python3.6/dist-packages/sklearn/naive_bayes.py\u001b[0m in \u001b[0;36mfit\u001b[0;34m(self, X, y, sample_weight)\u001b[0m\n\u001b[1;32m    205\u001b[0m         \"\"\"\n\u001b[1;32m    206\u001b[0m         \u001b[0my\u001b[0m \u001b[0;34m=\u001b[0m \u001b[0mcolumn_or_1d\u001b[0m\u001b[0;34m(\u001b[0m\u001b[0my\u001b[0m\u001b[0;34m,\u001b[0m \u001b[0mwarn\u001b[0m\u001b[0;34m=\u001b[0m\u001b[0;32mTrue\u001b[0m\u001b[0;34m)\u001b[0m\u001b[0;34m\u001b[0m\u001b[0;34m\u001b[0m\u001b[0m\n\u001b[0;32m--> 207\u001b[0;31m         return self._partial_fit(X, y, np.unique(y), _refit=True,\n\u001b[0m\u001b[1;32m    208\u001b[0m                                  sample_weight=sample_weight)\n\u001b[1;32m    209\u001b[0m \u001b[0;34m\u001b[0m\u001b[0m\n",
            "\u001b[0;32m<__array_function__ internals>\u001b[0m in \u001b[0;36munique\u001b[0;34m(*args, **kwargs)\u001b[0m\n",
            "\u001b[0;32m/usr/local/lib/python3.6/dist-packages/numpy/lib/arraysetops.py\u001b[0m in \u001b[0;36munique\u001b[0;34m(ar, return_index, return_inverse, return_counts, axis)\u001b[0m\n\u001b[1;32m    261\u001b[0m     \u001b[0mar\u001b[0m \u001b[0;34m=\u001b[0m \u001b[0mnp\u001b[0m\u001b[0;34m.\u001b[0m\u001b[0masanyarray\u001b[0m\u001b[0;34m(\u001b[0m\u001b[0mar\u001b[0m\u001b[0;34m)\u001b[0m\u001b[0;34m\u001b[0m\u001b[0;34m\u001b[0m\u001b[0m\n\u001b[1;32m    262\u001b[0m     \u001b[0;32mif\u001b[0m \u001b[0maxis\u001b[0m \u001b[0;32mis\u001b[0m \u001b[0;32mNone\u001b[0m\u001b[0;34m:\u001b[0m\u001b[0;34m\u001b[0m\u001b[0;34m\u001b[0m\u001b[0m\n\u001b[0;32m--> 263\u001b[0;31m         \u001b[0mret\u001b[0m \u001b[0;34m=\u001b[0m \u001b[0m_unique1d\u001b[0m\u001b[0;34m(\u001b[0m\u001b[0mar\u001b[0m\u001b[0;34m,\u001b[0m \u001b[0mreturn_index\u001b[0m\u001b[0;34m,\u001b[0m \u001b[0mreturn_inverse\u001b[0m\u001b[0;34m,\u001b[0m \u001b[0mreturn_counts\u001b[0m\u001b[0;34m)\u001b[0m\u001b[0;34m\u001b[0m\u001b[0;34m\u001b[0m\u001b[0m\n\u001b[0m\u001b[1;32m    264\u001b[0m         \u001b[0;32mreturn\u001b[0m \u001b[0m_unpack_tuple\u001b[0m\u001b[0;34m(\u001b[0m\u001b[0mret\u001b[0m\u001b[0;34m)\u001b[0m\u001b[0;34m\u001b[0m\u001b[0;34m\u001b[0m\u001b[0m\n\u001b[1;32m    265\u001b[0m \u001b[0;34m\u001b[0m\u001b[0m\n",
            "\u001b[0;32m/usr/local/lib/python3.6/dist-packages/numpy/lib/arraysetops.py\u001b[0m in \u001b[0;36m_unique1d\u001b[0;34m(ar, return_index, return_inverse, return_counts)\u001b[0m\n\u001b[1;32m    309\u001b[0m         \u001b[0maux\u001b[0m \u001b[0;34m=\u001b[0m \u001b[0mar\u001b[0m\u001b[0;34m[\u001b[0m\u001b[0mperm\u001b[0m\u001b[0;34m]\u001b[0m\u001b[0;34m\u001b[0m\u001b[0;34m\u001b[0m\u001b[0m\n\u001b[1;32m    310\u001b[0m     \u001b[0;32melse\u001b[0m\u001b[0;34m:\u001b[0m\u001b[0;34m\u001b[0m\u001b[0;34m\u001b[0m\u001b[0m\n\u001b[0;32m--> 311\u001b[0;31m         \u001b[0mar\u001b[0m\u001b[0;34m.\u001b[0m\u001b[0msort\u001b[0m\u001b[0;34m(\u001b[0m\u001b[0;34m)\u001b[0m\u001b[0;34m\u001b[0m\u001b[0;34m\u001b[0m\u001b[0m\n\u001b[0m\u001b[1;32m    312\u001b[0m         \u001b[0maux\u001b[0m \u001b[0;34m=\u001b[0m \u001b[0mar\u001b[0m\u001b[0;34m\u001b[0m\u001b[0;34m\u001b[0m\u001b[0m\n\u001b[1;32m    313\u001b[0m     \u001b[0mmask\u001b[0m \u001b[0;34m=\u001b[0m \u001b[0mnp\u001b[0m\u001b[0;34m.\u001b[0m\u001b[0mempty\u001b[0m\u001b[0;34m(\u001b[0m\u001b[0maux\u001b[0m\u001b[0;34m.\u001b[0m\u001b[0mshape\u001b[0m\u001b[0;34m,\u001b[0m \u001b[0mdtype\u001b[0m\u001b[0;34m=\u001b[0m\u001b[0mnp\u001b[0m\u001b[0;34m.\u001b[0m\u001b[0mbool_\u001b[0m\u001b[0;34m)\u001b[0m\u001b[0;34m\u001b[0m\u001b[0;34m\u001b[0m\u001b[0m\n",
            "\u001b[0;31mTypeError\u001b[0m: '<' not supported between instances of 'str' and 'int'"
          ]
        }
      ]
    }
  ]
}